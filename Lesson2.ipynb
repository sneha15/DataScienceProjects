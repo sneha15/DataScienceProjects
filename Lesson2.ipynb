{
 "cells": [
  {
   "cell_type": "markdown",
   "metadata": {
    "collapsed": true
   },
   "source": [
    "## In this project, I will analyze some of the data used by Hans Rosling in his famous data visualizations - (***GDP, school completion rate, employment, and life expectancy***). \n",
    "\n",
    "Some questions I can ask are:\n",
    "\n",
    "1) Does Life Expectancy depend on *GDP*?  \n",
    "    1b) How has this changed with *time*?  \n",
    "2) How does female school completion rate differ from male completion rate for  \n",
    "    ..a) different countries  \n",
    "    ..b) countries with low LE and  GDP   \n",
    "    ..c) countries with high LE and GDP  \n",
    "    ..d) over time   \n",
    "3) Does employment depend on school completion rate for females vs males?  \n",
    "4) How does employment affect GDP?  \n",
    "5) How does employment vary with LE?  \n",
    "6) Has male completion rate increased faster than female completion rate over the last 40 years?   \n",
    "7) Are there any consistent trends across countries? - Any global recessions\n",
    "\n",
    "** Some of the data analysis done here is adapted from the Udacity Intro to Data Analysis Course **"
   ]
  },
  {
   "cell_type": "markdown",
   "metadata": {},
   "source": [
    "## ** First, I import the data: **"
   ]
  },
  {
   "cell_type": "code",
   "execution_count": 50,
   "metadata": {
    "collapsed": false
   },
   "outputs": [
    {
     "name": "stdout",
     "output_type": "stream",
     "text": [
      "We need to be careful here because each file has a different set of countries, they also differ in time range:\n",
      "No in employment: 178\n",
      "No in female completion rate: 275\n",
      "No in male completion rate: 275\n",
      "No in life expectancy: 244\n",
      "No in gdp: 275\n"
     ]
    }
   ],
   "source": [
    "import pandas as pd\n",
    "employment_above_15 = pd.read_csv('employment_above_15.csv', index_col = 'Country')\n",
    "female_completion_rate = pd.read_csv('female_completion_rate.csv', index_col = 'Country')\n",
    "male_completion_rate = pd.read_csv('male_completion_rate.csv', index_col = 'Country')\n",
    "life_expectancy = pd.read_csv('life_expectancy.csv', index_col = 'Country')\n",
    "gdp_per_capita = pd.read_csv('gdp_per_capita.csv', index_col = 'Country')\n",
    "\n",
    "life_expectancy['1800'].loc[\"Anguilla\"] #column, then row call\n",
    "\n",
    "print(\"We need to be careful here because each file has a different set of countries, they also differ in time range:\")\n",
    "print(\"No in employment: %s\") %len(employment_above_15)\n",
    "print(\"No in female completion rate: %s\") %len(female_completion_rate)\n",
    "print(\"No in male completion rate: %s\") %len(male_completion_rate)\n",
    "print(\"No in life expectancy: %s\") %len(life_expectancy)\n",
    "print(\"No in gdp: %s\") %len(gdp_per_capita)\n"
   ]
  },
  {
   "cell_type": "markdown",
   "metadata": {},
   "source": [
    "## If the data is not available, the numbers in the table are set to 'NaNs' so I remove the NaNs"
   ]
  },
  {
   "cell_type": "code",
   "execution_count": 40,
   "metadata": {
    "collapsed": true
   },
   "outputs": [],
   "source": [
    "# s1.add(s2,fill_value=0) add 2 series, replacing nan with 0"
   ]
  },
  {
   "cell_type": "markdown",
   "metadata": {},
   "source": [
    "### Udacity Course - Numpy Arrays ###"
   ]
  },
  {
   "cell_type": "code",
   "execution_count": 64,
   "metadata": {
    "collapsed": false
   },
   "outputs": [
    {
     "name": "stdout",
     "output_type": "stream",
     "text": [
      "Maximum Percentage Employment Value: 87.6999969482 in Country: Rwanda at Year: 1994\n",
      "Minimum Percentage Employment Value: 26.6000003815 in Country: West Bank and Gaza at Year: 2002\n"
     ]
    }
   ],
   "source": [
    "import numpy as np\n",
    "print(\"Maximum Percentage Employment Value: %s in Country: %s at Year: %s\") % (employment_above_15.values.max(), np.argmax(np.max(employment_above_15, axis=1)), np.argmax(np.max(employment_above_15, axis=0)))\n",
    "print(\"Minimum Percentage Employment Value: %s in Country: %s at Year: %s\") % (employment_above_15.values.min(), np.argmin(np.min(employment_above_15, axis=1)), np.argmin(np.min(employment_above_15, axis=0)))\n",
    "#employment_above_15.describe()\n"
   ]
  },
  {
   "cell_type": "markdown",
   "metadata": {},
   "source": [
    "#### Functions that calculate overall completion rate and return a standardized array ####"
   ]
  },
  {
   "cell_type": "code",
   "execution_count": 42,
   "metadata": {
    "collapsed": true
   },
   "outputs": [],
   "source": [
    "def overall_completion_rate(female_completion, male_completion):\n",
    "    full_completion = 0.5*female_completion + 0.5*male_completion\n",
    "    return full_completion\n",
    "\n",
    "def standardize_data(values):\n",
    "    return ((values - values.mean())/values.std())"
   ]
  },
  {
   "cell_type": "markdown",
   "metadata": {},
   "source": [
    "#### When a country has life expectancy above the mean, is gdp above the mean also?  ####"
   ]
  },
  {
   "cell_type": "code",
   "execution_count": 43,
   "metadata": {
    "collapsed": true
   },
   "outputs": [],
   "source": [
    "def variable_correlation(variable1, variable2):  \n",
    "    num_same_direction = (((variable1 > variable1.mean()) & (variable2 > variable2.mean())).sum()) + (((variable1 < variable1.mean()) & (variable2 < variable2.mean())).sum())\n",
    "    num_different_direction = (((variable1 > variable1.mean()) & (variable2 <= variable2.mean())).sum()) + (((variable1 < variable1.mean()) & (variable2 >= variable2.mean())).sum())\n",
    "    return (num_same_direction, num_different_direction)\n",
    "\n"
   ]
  },
  {
   "cell_type": "markdown",
   "metadata": {
    "collapsed": true
   },
   "source": [
    "#### Function to reverse names, using reversed, split, join ####"
   ]
  },
  {
   "cell_type": "code",
   "execution_count": 44,
   "metadata": {
    "collapsed": false
   },
   "outputs": [
    {
     "name": "stdout",
     "output_type": "stream",
     "text": [
      "0            Agassi, Andre\n",
      "1             Bonds, Barry\n",
      "2    Columbus, Christopher\n",
      "3            Defoe, Daniel\n",
      "dtype: object\n"
     ]
    }
   ],
   "source": [
    "names=pd.Series(['Andre Agassi', 'Barry Bonds', 'Christopher Columbus', 'Daniel Defoe'],\n",
    "                index=[0, 1, 2, 3])\n",
    "def reverse_names(names):\n",
    "    def namerev(name):\n",
    "        RevNm = ', '.join(reversed(name.split()))\n",
    "        return RevNm    \n",
    "    newname = names.apply(namerev)\n",
    "    return newname\n",
    "\n",
    "print(reverse_names(names))"
   ]
  },
  {
   "cell_type": "code",
   "execution_count": 49,
   "metadata": {
    "collapsed": false
   },
   "outputs": [
    {
     "data": {
      "image/png": "[encoded data removed]",
      "text/plain": [
       "<matplotlib.figure.Figure at 0xd3b3518>"
      ]
     },
     "metadata": {},
     "output_type": "display_data"
    },
    {
     "data": {
      "text/plain": [
       "<matplotlib.axes._subplots.AxesSubplot at 0xd34e9b0>"
      ]
     },
     "execution_count": 49,
     "metadata": {},
     "output_type": "execute_result"
    },
    {
     "data": {
      "image/png": "[encoded data removed]",
      "text/plain": [
       "<matplotlib.figure.Figure at 0xd33c208>"
      ]
     },
     "metadata": {},
     "output_type": "display_data"
    }
   ],
   "source": [
    "import matplotlib.pyplot as plt\n",
    "import seaborn as sns\n",
    "%matplotlib inline\n",
    "employment_above_15.loc['Afghanistan'].hist()\n",
    "plt.show()\n",
    "employment_above_15.loc['Afghanistan'].plot()\n"
   ]
  },
  {
   "cell_type": "code",
   "execution_count": 65,
   "metadata": {
    "collapsed": true
   },
   "outputs": [],
   "source": [
    "# Pandas, need to be careful with doing operations on rows - need to keep specifying axes!"
   ]
  },
  {
   "cell_type": "code",
   "execution_count": null,
   "metadata": {
    "collapsed": true
   },
   "outputs": [],
   "source": []
  }
 ],
 "metadata": {
  "anaconda-cloud": {},
  "kernelspec": {
   "display_name": "Python [Root]",
   "language": "python",
   "name": "Python [Root]"
  },
  "language_info": {
   "codemirror_mode": {
    "name": "ipython",
    "version": 2
   },
   "file_extension": ".py",
   "mimetype": "text/x-python",
   "name": "python",
   "nbconvert_exporter": "python",
   "pygments_lexer": "ipython2",
   "version": "2.7.11"
  }
 },
 "nbformat": 4,
 "nbformat_minor": 0
}
