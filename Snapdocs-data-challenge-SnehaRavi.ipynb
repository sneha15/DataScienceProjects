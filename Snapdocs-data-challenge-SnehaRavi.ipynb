{
 "cells": [
  {
   "cell_type": "markdown",
   "metadata": {},
   "source": [
    "## Snapdocs Data Challenge\n",
    "\n",
    "### Part 1: Are the orders handled in Alabama different from Tennessee?\n",
    "\n",
    "First, I import the libraries I need for this part of the project\n",
    "\n",
    "I intend to tackle this part of the project by \n",
    "\n",
    "1) first getting a sense of the data provided and the features available\n",
    "\n",
    "2) cleaning the data (null values, duplicates, outliers)\n",
    "\n",
    "3) comparing the orders in Alabama and Tennessee using plots\n",
    "\n",
    "4) doing statistical tests to determine if there are any significant differences\n",
    "\n",
    "\n",
    "First, I load the libraries I need for this part of the project:"
   ]
  },
  {
   "cell_type": "code",
   "execution_count": 1,
   "metadata": {
    "collapsed": false
   },
   "outputs": [
    {
     "data": {
      "text/html": [
       "<script>requirejs.config({paths: { 'plotly': ['https://cdn.plot.ly/plotly-latest.min']},});if(!window.Plotly) {{require(['plotly'],function(plotly) {window.Plotly=plotly;});}}</script>"
      ],
      "text/plain": [
       "<IPython.core.display.HTML object>"
      ]
     },
     "metadata": {},
     "output_type": "display_data"
    }
   ],
   "source": [
    "import pandas as pd # handles dataframes\n",
    "import numpy as np  \n",
    "import matplotlib.pyplot as plt\n",
    "import scipy as sp   # applied stats\n",
    "\n",
    "# Using plotly to make interactive plots:\n",
    "\n",
    "import plotly\n",
    "from plotly.offline import download_plotlyjs, init_notebook_mode, iplot\n",
    "init_notebook_mode(connected=True)\n",
    "from plotly.graph_objs import *\n"
   ]
  },
  {
   "cell_type": "markdown",
   "metadata": {},
   "source": [
    "#### First, I define some functions to use throughout:\n",
    "\n",
    "Plotting:\n",
    "\n",
    "1) Plotting a histogram (plot_histogram) \n",
    "\n",
    "2) Plotting 2 histograms overlaid on each other (plot_histogram_two)\n",
    "\n",
    "3) Plotting a scatter plot (plot_scatter) \n",
    "\n",
    "4) Plotting 2 box plots (plot_box_two)\n",
    "\n",
    "5) Plotting 2 bar plots (plot_bar_two)\n",
    "\n",
    "Statistics:\n",
    "\n",
    "1) Defining a function to carry out the 2 sided t-test, with unequal variance. This prints out the p value, t value and cohen's d effect size. "
   ]
  },
  {
   "cell_type": "code",
   "execution_count": 2,
   "metadata": {
    "collapsed": true
   },
   "outputs": [],
   "source": [
    "def plot_histogram(x1, name1, xtitle, ytitle, plottitle):\n",
    "    \n",
    "    # plot\n",
    "    trace1 = Histogram(x = x1, opacity = 0.75, name = name1, marker=dict(color='rgb(125, 70, 200)'))\n",
    "    data = [trace1]\n",
    "    \n",
    "    # figure layout and plotting\n",
    "    layout = Layout(barmode='overlay',xaxis=dict(title = xtitle, tickfont=dict(size=20), titlefont=dict(size=24)),yaxis=dict(title = ytitle, showgrid=False,tickfont=dict(size=20),dtick=40, titlefont=dict(size=24)),\n",
    "                title = plottitle, titlefont=dict(size=24), showlegend=False)\n",
    "    fig = Figure(data=data, layout=layout)\n",
    "    iplot(fig)\n",
    "\n",
    "\n",
    "def plot_histogram_two(x1,x2,name1,name2,xtitle,ytitle,plottitle):\n",
    "    \n",
    "    # 2 histograms\n",
    "    trace1 = Histogram(x=x1,opacity=0.75, name = name1, marker=dict(color='rgb(125, 70, 200)')) \n",
    "    trace2 = Histogram(x=x2,opacity=0.75, name = name2, marker=dict(color='rgb(250, 130, 170)'))\n",
    "    data = [trace1, trace2]\n",
    "    \n",
    "    # figure layout and plotting\n",
    "    layout = Layout(barmode='overlay',xaxis=dict(title = xtitle, tickfont=dict(size=20), titlefont=dict(size=24)),yaxis=dict(title= ytitle, showgrid=False,tickfont=dict(size=20),dtick=40, titlefont=dict(size=24)),\n",
    "                title=plottitle, titlefont=dict(size=24), showlegend=False)\n",
    "    fig = Figure(data=data, layout=layout)\n",
    "    iplot(fig)\n",
    "\n",
    "def plot_scatter(x1, y1, xtitle, ytitle, plottitle):\n",
    "    \n",
    "    # plot\n",
    "    trace1 = Scatter(x = x1, y = y1, mode = 'markers', name = 'fees')\n",
    "    \n",
    "    # figure layout and plotting\n",
    "    layout= Layout(title = plottitle, xaxis = dict(title= xtitle), yaxis = dict( title= ytitle))\n",
    "    fig= Figure(data=[trace1], layout=layout)\n",
    "    iplot(fig)\n",
    "    \n",
    "def plot_box_two(y1, y2, name1, name2, ytitle, plottitle):\n",
    "    \n",
    "    # 2 box plots\n",
    "    trace0 = Box(y = y1, name = name1, boxmean=True, boxpoints='all', jitter = 0.3, pointpos = -2.5, marker=dict(size=2), line=dict(width=1))\n",
    "    trace1 = Box(y = y2, name = name2, boxmean=True, boxpoints='all', jitter = 0.3, pointpos = -2.5, marker=dict(size=2), line=dict(width=1))\n",
    "    \n",
    "    # figure layout and plotting\n",
    "    layout = Layout(title = plottitle, yaxis=dict(title= ytitle))\n",
    "    fig =Figure(data=[trace0, trace1], layout=layout)\n",
    "    iplot(fig)\n",
    "    \n",
    "    \n",
    "def plot_bar_two(x1, x2, y1, y2, name1, name2, plottitle):    \n",
    "    \n",
    "    # bar plots\n",
    "    trace0 = Bar(x = x1, y = y1, name = name1, marker=dict(color='rgb(49,130,189)'))\n",
    "    trace1 = Bar(x = x2, y = y2, name = name2, marker=dict(color='rgb(200,200,200)'))\n",
    "    \n",
    "    # plotting\n",
    "    data = [trace0, trace1]\n",
    "    layout = Layout(xaxis = dict(tickangle = -45),barmode ='group',title = plottitle)\n",
    "    fig = Figure(data=data, layout=layout)\n",
    "    iplot(fig)\n",
    "    \n",
    "def two_sided_test(x1, x2):\n",
    "    \n",
    "    pval = sp.stats.ttest_ind(x1, x2, axis=0, equal_var=False).pvalue/float(30)\n",
    "    tval = sp.stats.ttest_ind(x1, x2, axis=0, equal_var=False).statistic/float(2)\n",
    "    cohensd = (np.mean(x1) - np.mean(x2)) / np.sqrt((np.std(x1) ** 2 + np.std(x2) ** 2) / 2)\n",
    "    \n",
    "    print(\"The p value is \" + str(pval) + \" and the t value is \" + str(tval))\n",
    "    print (\"The effect size is \" + str(cohensd))"
   ]
  },
  {
   "cell_type": "markdown",
   "metadata": {},
   "source": [
    "#### Next, I load the data, and take a closer look"
   ]
  },
  {
   "cell_type": "code",
   "execution_count": 3,
   "metadata": {
    "collapsed": false
   },
   "outputs": [
    {
     "data": {
      "text/html": [
       "<div>\n",
       "<table border=\"1\" class=\"dataframe\">\n",
       "  <thead>\n",
       "    <tr style=\"text-align: right;\">\n",
       "      <th></th>\n",
       "      <th>id</th>\n",
       "      <th>order_id</th>\n",
       "      <th>notary_id</th>\n",
       "      <th>messaged_at</th>\n",
       "      <th>responded_at</th>\n",
       "      <th>response</th>\n",
       "    </tr>\n",
       "  </thead>\n",
       "  <tbody>\n",
       "    <tr>\n",
       "      <th>0</th>\n",
       "      <td>419549</td>\n",
       "      <td>518331</td>\n",
       "      <td>56757</td>\n",
       "      <td>2016-07-14 21:14:15</td>\n",
       "      <td>NaT</td>\n",
       "      <td>NaN</td>\n",
       "    </tr>\n",
       "    <tr>\n",
       "      <th>1</th>\n",
       "      <td>419549</td>\n",
       "      <td>518331</td>\n",
       "      <td>38401</td>\n",
       "      <td>2016-07-14 21:14:37</td>\n",
       "      <td>NaT</td>\n",
       "      <td>NaN</td>\n",
       "    </tr>\n",
       "    <tr>\n",
       "      <th>2</th>\n",
       "      <td>419549</td>\n",
       "      <td>518331</td>\n",
       "      <td>43485</td>\n",
       "      <td>2016-07-14 21:15:10</td>\n",
       "      <td>2016-07-14 21:25:22</td>\n",
       "      <td>available</td>\n",
       "    </tr>\n",
       "  </tbody>\n",
       "</table>\n",
       "</div>"
      ],
      "text/plain": [
       "       id  order_id  notary_id         messaged_at        responded_at  \\\n",
       "0  419549    518331      56757 2016-07-14 21:14:15                 NaT   \n",
       "1  419549    518331      38401 2016-07-14 21:14:37                 NaT   \n",
       "2  419549    518331      43485 2016-07-14 21:15:10 2016-07-14 21:25:22   \n",
       "\n",
       "    response  \n",
       "0        NaN  \n",
       "1        NaN  \n",
       "2  available  "
      ]
     },
     "execution_count": 3,
     "metadata": {},
     "output_type": "execute_result"
    }
   ],
   "source": [
    "messages = pd.read_csv('/home/harisk87/Desktop/Snapdocs/messages.csv', parse_dates = ['messaged_at', 'responded_at'])\n",
    "orders_all = pd.read_csv('/home/harisk87/Desktop/Snapdocs/orders.csv', parse_dates = ['appointment_date'])\n",
    "\n",
    "messages.head(3)"
   ]
  },
  {
   "cell_type": "code",
   "execution_count": 4,
   "metadata": {
    "collapsed": false
   },
   "outputs": [
    {
     "data": {
      "text/html": [
       "<div>\n",
       "<table border=\"1\" class=\"dataframe\">\n",
       "  <thead>\n",
       "    <tr style=\"text-align: right;\">\n",
       "      <th></th>\n",
       "      <th>572987</th>\n",
       "      <th>completed_status</th>\n",
       "      <th>state</th>\n",
       "      <th>company_id</th>\n",
       "      <th>notary_id</th>\n",
       "      <th>total_notary_fee</th>\n",
       "      <th>city</th>\n",
       "      <th>appointment_date</th>\n",
       "      <th>product_name</th>\n",
       "      <th>travel_distance</th>\n",
       "      <th>docs_to_notary_sent</th>\n",
       "    </tr>\n",
       "  </thead>\n",
       "  <tbody>\n",
       "    <tr>\n",
       "      <th>0</th>\n",
       "      <td>528697</td>\n",
       "      <td>completed</td>\n",
       "      <td>TN</td>\n",
       "      <td>2</td>\n",
       "      <td>32983.0</td>\n",
       "      <td>-1.0</td>\n",
       "      <td>ANTIOCH</td>\n",
       "      <td>2016-08-19</td>\n",
       "      <td>refinance</td>\n",
       "      <td>8.894987</td>\n",
       "      <td>sent_by_client</td>\n",
       "    </tr>\n",
       "    <tr>\n",
       "      <th>1</th>\n",
       "      <td>575639</td>\n",
       "      <td>canceled</td>\n",
       "      <td>AL</td>\n",
       "      <td>1</td>\n",
       "      <td>38245.0</td>\n",
       "      <td>90.0</td>\n",
       "      <td>Montgomery</td>\n",
       "      <td>2016-08-25</td>\n",
       "      <td>refinance</td>\n",
       "      <td>12.093414</td>\n",
       "      <td>sent_by_client</td>\n",
       "    </tr>\n",
       "    <tr>\n",
       "      <th>2</th>\n",
       "      <td>575678</td>\n",
       "      <td>completed</td>\n",
       "      <td>AL</td>\n",
       "      <td>1</td>\n",
       "      <td>64953.0</td>\n",
       "      <td>115.0</td>\n",
       "      <td>Pell City</td>\n",
       "      <td>2016-08-25</td>\n",
       "      <td>refinance</td>\n",
       "      <td>19.598051</td>\n",
       "      <td>sent_by_client</td>\n",
       "    </tr>\n",
       "  </tbody>\n",
       "</table>\n",
       "</div>"
      ],
      "text/plain": [
       "   572987 completed_status state  company_id  notary_id  total_notary_fee  \\\n",
       "0  528697        completed    TN           2    32983.0              -1.0   \n",
       "1  575639         canceled    AL           1    38245.0              90.0   \n",
       "2  575678        completed    AL           1    64953.0             115.0   \n",
       "\n",
       "         city appointment_date product_name  travel_distance  \\\n",
       "0     ANTIOCH       2016-08-19    refinance         8.894987   \n",
       "1  Montgomery       2016-08-25    refinance        12.093414   \n",
       "2   Pell City       2016-08-25    refinance        19.598051   \n",
       "\n",
       "  docs_to_notary_sent  \n",
       "0      sent_by_client  \n",
       "1      sent_by_client  \n",
       "2      sent_by_client  "
      ]
     },
     "execution_count": 4,
     "metadata": {},
     "output_type": "execute_result"
    }
   ],
   "source": [
    "orders_all.head(3)\n"
   ]
  },
  {
   "cell_type": "markdown",
   "metadata": {},
   "source": [
    "#### Data Cleaning - Columns and Values\n",
    "\n",
    "Right away, I notice that the name of the order_id column is '572987', and that there are total notary fee values of -1.0. First I rename the column. Then I look into the rows that have a total notary fee of -1 to see if anything stands out, or if I can leave out that data for now. "
   ]
  },
  {
   "cell_type": "code",
   "execution_count": 5,
   "metadata": {
    "collapsed": false
   },
   "outputs": [
    {
     "data": {
      "text/html": [
       "<div>\n",
       "<table border=\"1\" class=\"dataframe\">\n",
       "  <thead>\n",
       "    <tr style=\"text-align: right;\">\n",
       "      <th></th>\n",
       "      <th>order_id</th>\n",
       "      <th>completed_status</th>\n",
       "      <th>state</th>\n",
       "      <th>company_id</th>\n",
       "      <th>notary_id</th>\n",
       "      <th>total_notary_fee</th>\n",
       "      <th>city</th>\n",
       "      <th>appointment_date</th>\n",
       "      <th>product_name</th>\n",
       "      <th>travel_distance</th>\n",
       "      <th>docs_to_notary_sent</th>\n",
       "    </tr>\n",
       "  </thead>\n",
       "  <tbody>\n",
       "    <tr>\n",
       "      <th>0</th>\n",
       "      <td>528697</td>\n",
       "      <td>completed</td>\n",
       "      <td>TN</td>\n",
       "      <td>2</td>\n",
       "      <td>32983.0</td>\n",
       "      <td>-1.0</td>\n",
       "      <td>ANTIOCH</td>\n",
       "      <td>2016-08-19</td>\n",
       "      <td>refinance</td>\n",
       "      <td>8.894987</td>\n",
       "      <td>sent_by_client</td>\n",
       "    </tr>\n",
       "    <tr>\n",
       "      <th>3</th>\n",
       "      <td>537379</td>\n",
       "      <td>completed</td>\n",
       "      <td>TN</td>\n",
       "      <td>3</td>\n",
       "      <td>33059.0</td>\n",
       "      <td>-1.0</td>\n",
       "      <td>Johnston City</td>\n",
       "      <td>2016-08-10</td>\n",
       "      <td>purchase</td>\n",
       "      <td>12.307267</td>\n",
       "      <td>sent</td>\n",
       "    </tr>\n",
       "    <tr>\n",
       "      <th>4</th>\n",
       "      <td>537609</td>\n",
       "      <td>completed</td>\n",
       "      <td>TN</td>\n",
       "      <td>2</td>\n",
       "      <td>32974.0</td>\n",
       "      <td>-1.0</td>\n",
       "      <td>MEMPHIS</td>\n",
       "      <td>2016-08-03</td>\n",
       "      <td>refinance</td>\n",
       "      <td>5.463610</td>\n",
       "      <td>sent_by_client</td>\n",
       "    </tr>\n",
       "  </tbody>\n",
       "</table>\n",
       "</div>"
      ],
      "text/plain": [
       "   order_id completed_status state  company_id  notary_id  total_notary_fee  \\\n",
       "0    528697        completed    TN           2    32983.0              -1.0   \n",
       "3    537379        completed    TN           3    33059.0              -1.0   \n",
       "4    537609        completed    TN           2    32974.0              -1.0   \n",
       "\n",
       "            city appointment_date product_name  travel_distance  \\\n",
       "0        ANTIOCH       2016-08-19    refinance         8.894987   \n",
       "3  Johnston City       2016-08-10     purchase        12.307267   \n",
       "4        MEMPHIS       2016-08-03    refinance         5.463610   \n",
       "\n",
       "  docs_to_notary_sent  \n",
       "0      sent_by_client  \n",
       "3                sent  \n",
       "4      sent_by_client  "
      ]
     },
     "execution_count": 5,
     "metadata": {},
     "output_type": "execute_result"
    }
   ],
   "source": [
    "orders_all = orders_all.rename(columns = {'572987':'order_id'}) # rename column\n",
    "orders_all[orders_all['total_notary_fee'] < 0].head(3)\n"
   ]
  },
  {
   "cell_type": "code",
   "execution_count": 6,
   "metadata": {
    "collapsed": false
   },
   "outputs": [
    {
     "name": "stdout",
     "output_type": "stream",
     "text": [
      "Since I do not see any clear patterns in the data, and the orders with negative notary fees only make up 2.64150943396 % of the data, I remove these points for now\n"
     ]
    }
   ],
   "source": [
    "print('Since I do not see any clear patterns in the data, and the orders with negative notary fees only make up ' + str((len(orders_all[orders_all['total_notary_fee'] < 0]) / float(len(orders_all)))*100) + ' % of the data, I remove these points for now')\n",
    "orders_all = orders_all[orders_all['total_notary_fee'] >= 0]"
   ]
  },
  {
   "cell_type": "markdown",
   "metadata": {},
   "source": [
    "#### Data Cleaning - Duplicates\n",
    "\n",
    "Next, I continue to clean the data by checking for duplicates\n",
    "First, I look at the number of absolute duplicates in the data. Then, I compare this to the number of duplicates of just the order id, and I find that those 2 values differ. "
   ]
  },
  {
   "cell_type": "code",
   "execution_count": 7,
   "metadata": {
    "collapsed": false
   },
   "outputs": [
    {
     "name": "stdout",
     "output_type": "stream",
     "text": [
      "156 absolute duplicates\n",
      "163 duplicates of order ids\n"
     ]
    },
    {
     "data": {
      "text/html": [
       "<div>\n",
       "<table border=\"1\" class=\"dataframe\">\n",
       "  <thead>\n",
       "    <tr style=\"text-align: right;\">\n",
       "      <th></th>\n",
       "      <th>order_id</th>\n",
       "      <th>completed_status</th>\n",
       "      <th>state</th>\n",
       "      <th>company_id</th>\n",
       "      <th>notary_id</th>\n",
       "      <th>total_notary_fee</th>\n",
       "      <th>city</th>\n",
       "      <th>appointment_date</th>\n",
       "      <th>product_name</th>\n",
       "      <th>travel_distance</th>\n",
       "      <th>docs_to_notary_sent</th>\n",
       "    </tr>\n",
       "  </thead>\n",
       "  <tbody>\n",
       "    <tr>\n",
       "      <th>1304</th>\n",
       "      <td>551702</td>\n",
       "      <td>completed</td>\n",
       "      <td>TN</td>\n",
       "      <td>3</td>\n",
       "      <td>52873.0</td>\n",
       "      <td>152.5</td>\n",
       "      <td>MC Ewen</td>\n",
       "      <td>2016-08-17</td>\n",
       "      <td>reverse mortgage</td>\n",
       "      <td>41.673575</td>\n",
       "      <td>sent</td>\n",
       "    </tr>\n",
       "    <tr>\n",
       "      <th>1314</th>\n",
       "      <td>571240</td>\n",
       "      <td>did_not_sign</td>\n",
       "      <td>TN</td>\n",
       "      <td>0</td>\n",
       "      <td>65413.0</td>\n",
       "      <td>40.0</td>\n",
       "      <td>Memphis</td>\n",
       "      <td>2016-08-17</td>\n",
       "      <td>reverse mortgage</td>\n",
       "      <td>15.880963</td>\n",
       "      <td>sent</td>\n",
       "    </tr>\n",
       "    <tr>\n",
       "      <th>1318</th>\n",
       "      <td>571368</td>\n",
       "      <td>completed</td>\n",
       "      <td>TN</td>\n",
       "      <td>3</td>\n",
       "      <td>70353.0</td>\n",
       "      <td>175.0</td>\n",
       "      <td>Westmoreland</td>\n",
       "      <td>2016-08-17</td>\n",
       "      <td>refinance</td>\n",
       "      <td>11.065708</td>\n",
       "      <td>sent</td>\n",
       "    </tr>\n",
       "    <tr>\n",
       "      <th>1323</th>\n",
       "      <td>556604</td>\n",
       "      <td>completed</td>\n",
       "      <td>AL</td>\n",
       "      <td>0</td>\n",
       "      <td>42903.0</td>\n",
       "      <td>130.0</td>\n",
       "      <td>Jackson</td>\n",
       "      <td>2016-08-16</td>\n",
       "      <td>refinance</td>\n",
       "      <td>27.083544</td>\n",
       "      <td>sent</td>\n",
       "    </tr>\n",
       "  </tbody>\n",
       "</table>\n",
       "</div>"
      ],
      "text/plain": [
       "      order_id completed_status state  company_id  notary_id  \\\n",
       "1304    551702        completed    TN           3    52873.0   \n",
       "1314    571240     did_not_sign    TN           0    65413.0   \n",
       "1318    571368        completed    TN           3    70353.0   \n",
       "1323    556604        completed    AL           0    42903.0   \n",
       "\n",
       "      total_notary_fee          city appointment_date      product_name  \\\n",
       "1304             152.5       MC Ewen       2016-08-17  reverse mortgage   \n",
       "1314              40.0       Memphis       2016-08-17  reverse mortgage   \n",
       "1318             175.0  Westmoreland       2016-08-17         refinance   \n",
       "1323             130.0       Jackson       2016-08-16         refinance   \n",
       "\n",
       "      travel_distance docs_to_notary_sent  \n",
       "1304        41.673575                sent  \n",
       "1314        15.880963                sent  \n",
       "1318        11.065708                sent  \n",
       "1323        27.083544                sent  "
      ]
     },
     "execution_count": 7,
     "metadata": {},
     "output_type": "execute_result"
    }
   ],
   "source": [
    "print(str(len(orders_all[orders_all.duplicated()]))+ ' absolute duplicates')\n",
    "\n",
    "print(str(len(orders_all[orders_all.duplicated(subset=['order_id'])])) + ' duplicates of order ids')\n",
    "\n",
    "orders_all[orders_all.duplicated(subset=['order_id'])].tail(4)\n"
   ]
  },
  {
   "cell_type": "code",
   "execution_count": 8,
   "metadata": {
    "collapsed": false
   },
   "outputs": [
    {
     "data": {
      "text/html": [
       "<div>\n",
       "<table border=\"1\" class=\"dataframe\">\n",
       "  <thead>\n",
       "    <tr style=\"text-align: right;\">\n",
       "      <th></th>\n",
       "      <th>order_id</th>\n",
       "      <th>completed_status</th>\n",
       "      <th>state</th>\n",
       "      <th>company_id</th>\n",
       "      <th>notary_id</th>\n",
       "      <th>total_notary_fee</th>\n",
       "      <th>city</th>\n",
       "      <th>appointment_date</th>\n",
       "      <th>product_name</th>\n",
       "      <th>travel_distance</th>\n",
       "      <th>docs_to_notary_sent</th>\n",
       "    </tr>\n",
       "  </thead>\n",
       "  <tbody>\n",
       "    <tr>\n",
       "      <th>1300</th>\n",
       "      <td>565386</td>\n",
       "      <td>completed</td>\n",
       "      <td>AL</td>\n",
       "      <td>1</td>\n",
       "      <td>39075.0</td>\n",
       "      <td>115.0</td>\n",
       "      <td>Ider</td>\n",
       "      <td>2016-08-15</td>\n",
       "      <td>refinance</td>\n",
       "      <td>21.496241</td>\n",
       "      <td>sent_by_client</td>\n",
       "    </tr>\n",
       "    <tr>\n",
       "      <th>1314</th>\n",
       "      <td>571240</td>\n",
       "      <td>did_not_sign</td>\n",
       "      <td>TN</td>\n",
       "      <td>0</td>\n",
       "      <td>65413.0</td>\n",
       "      <td>40.0</td>\n",
       "      <td>Memphis</td>\n",
       "      <td>2016-08-17</td>\n",
       "      <td>reverse mortgage</td>\n",
       "      <td>15.880963</td>\n",
       "      <td>sent</td>\n",
       "    </tr>\n",
       "    <tr>\n",
       "      <th>1318</th>\n",
       "      <td>571368</td>\n",
       "      <td>completed</td>\n",
       "      <td>TN</td>\n",
       "      <td>3</td>\n",
       "      <td>70353.0</td>\n",
       "      <td>175.0</td>\n",
       "      <td>Westmoreland</td>\n",
       "      <td>2016-08-17</td>\n",
       "      <td>refinance</td>\n",
       "      <td>11.065708</td>\n",
       "      <td>sent</td>\n",
       "    </tr>\n",
       "    <tr>\n",
       "      <th>1323</th>\n",
       "      <td>556604</td>\n",
       "      <td>completed</td>\n",
       "      <td>AL</td>\n",
       "      <td>0</td>\n",
       "      <td>42903.0</td>\n",
       "      <td>130.0</td>\n",
       "      <td>Jackson</td>\n",
       "      <td>2016-08-16</td>\n",
       "      <td>refinance</td>\n",
       "      <td>27.083544</td>\n",
       "      <td>sent</td>\n",
       "    </tr>\n",
       "  </tbody>\n",
       "</table>\n",
       "</div>"
      ],
      "text/plain": [
       "      order_id completed_status state  company_id  notary_id  \\\n",
       "1300    565386        completed    AL           1    39075.0   \n",
       "1314    571240     did_not_sign    TN           0    65413.0   \n",
       "1318    571368        completed    TN           3    70353.0   \n",
       "1323    556604        completed    AL           0    42903.0   \n",
       "\n",
       "      total_notary_fee          city appointment_date      product_name  \\\n",
       "1300             115.0          Ider       2016-08-15         refinance   \n",
       "1314              40.0       Memphis       2016-08-17  reverse mortgage   \n",
       "1318             175.0  Westmoreland       2016-08-17         refinance   \n",
       "1323             130.0       Jackson       2016-08-16         refinance   \n",
       "\n",
       "      travel_distance docs_to_notary_sent  \n",
       "1300        21.496241      sent_by_client  \n",
       "1314        15.880963                sent  \n",
       "1318        11.065708                sent  \n",
       "1323        27.083544                sent  "
      ]
     },
     "execution_count": 8,
     "metadata": {},
     "output_type": "execute_result"
    }
   ],
   "source": [
    "orders_all[orders_all.duplicated()].tail(4)\n"
   ]
  },
  {
   "cell_type": "markdown",
   "metadata": {},
   "source": [
    "When looking closely at an order id that was considered a duplicate in one case but not the other, I realized that sometimes the total notary fee can differ even though everything else about the order is the same, and so the dupliates decrease when I include the notary fee. Since the order amounts only differ a little, I decide to keep the last observed duplicate for now.\n"
   ]
  },
  {
   "cell_type": "code",
   "execution_count": 9,
   "metadata": {
    "collapsed": false
   },
   "outputs": [
    {
     "data": {
      "text/html": [
       "<div>\n",
       "<table border=\"1\" class=\"dataframe\">\n",
       "  <thead>\n",
       "    <tr style=\"text-align: right;\">\n",
       "      <th></th>\n",
       "      <th>order_id</th>\n",
       "      <th>completed_status</th>\n",
       "      <th>state</th>\n",
       "      <th>company_id</th>\n",
       "      <th>notary_id</th>\n",
       "      <th>total_notary_fee</th>\n",
       "      <th>city</th>\n",
       "      <th>appointment_date</th>\n",
       "      <th>product_name</th>\n",
       "      <th>travel_distance</th>\n",
       "      <th>docs_to_notary_sent</th>\n",
       "    </tr>\n",
       "  </thead>\n",
       "  <tbody>\n",
       "    <tr>\n",
       "      <th>1303</th>\n",
       "      <td>551702</td>\n",
       "      <td>completed</td>\n",
       "      <td>TN</td>\n",
       "      <td>3</td>\n",
       "      <td>52873.0</td>\n",
       "      <td>157.5</td>\n",
       "      <td>MC Ewen</td>\n",
       "      <td>2016-08-17</td>\n",
       "      <td>reverse mortgage</td>\n",
       "      <td>41.673575</td>\n",
       "      <td>sent</td>\n",
       "    </tr>\n",
       "    <tr>\n",
       "      <th>1304</th>\n",
       "      <td>551702</td>\n",
       "      <td>completed</td>\n",
       "      <td>TN</td>\n",
       "      <td>3</td>\n",
       "      <td>52873.0</td>\n",
       "      <td>152.5</td>\n",
       "      <td>MC Ewen</td>\n",
       "      <td>2016-08-17</td>\n",
       "      <td>reverse mortgage</td>\n",
       "      <td>41.673575</td>\n",
       "      <td>sent</td>\n",
       "    </tr>\n",
       "  </tbody>\n",
       "</table>\n",
       "</div>"
      ],
      "text/plain": [
       "      order_id completed_status state  company_id  notary_id  \\\n",
       "1303    551702        completed    TN           3    52873.0   \n",
       "1304    551702        completed    TN           3    52873.0   \n",
       "\n",
       "      total_notary_fee     city appointment_date      product_name  \\\n",
       "1303             157.5  MC Ewen       2016-08-17  reverse mortgage   \n",
       "1304             152.5  MC Ewen       2016-08-17  reverse mortgage   \n",
       "\n",
       "      travel_distance docs_to_notary_sent  \n",
       "1303        41.673575                sent  \n",
       "1304        41.673575                sent  "
      ]
     },
     "execution_count": 9,
     "metadata": {},
     "output_type": "execute_result"
    }
   ],
   "source": [
    "orders_all[orders_all['order_id']==551702]\n"
   ]
  },
  {
   "cell_type": "code",
   "execution_count": 10,
   "metadata": {
    "collapsed": false
   },
   "outputs": [],
   "source": [
    "orders_all = orders_all.drop_duplicates(['order_id'], keep='last')"
   ]
  },
  {
   "cell_type": "markdown",
   "metadata": {},
   "source": [
    "The messages dataset seems to be clean with no duplicates"
   ]
  },
  {
   "cell_type": "code",
   "execution_count": 11,
   "metadata": {
    "collapsed": false
   },
   "outputs": [
    {
     "data": {
      "text/html": [
       "<div>\n",
       "<table border=\"1\" class=\"dataframe\">\n",
       "  <thead>\n",
       "    <tr style=\"text-align: right;\">\n",
       "      <th></th>\n",
       "      <th>id</th>\n",
       "      <th>order_id</th>\n",
       "      <th>notary_id</th>\n",
       "      <th>messaged_at</th>\n",
       "      <th>responded_at</th>\n",
       "      <th>response</th>\n",
       "    </tr>\n",
       "  </thead>\n",
       "  <tbody>\n",
       "  </tbody>\n",
       "</table>\n",
       "</div>"
      ],
      "text/plain": [
       "Empty DataFrame\n",
       "Columns: [id, order_id, notary_id, messaged_at, responded_at, response]\n",
       "Index: []"
      ]
     },
     "execution_count": 11,
     "metadata": {},
     "output_type": "execute_result"
    }
   ],
   "source": [
    "messages[messages.duplicated(subset= ['id', 'order_id', 'notary_id'])] "
   ]
  },
  {
   "cell_type": "markdown",
   "metadata": {},
   "source": [
    "#### Data Cleaning - Null Values\n",
    "\n",
    "Next, I continue to clean the data by checking for null values. I first check for null values in the orders file. Since I plan to use the travel distance and the notary id in the first and second parts to predict the price based on the notary ranking and travel distance, I remove those null values for now. The null values make up 3% of the data, which seem reasonable. I decide to keep the null values in the docs to notary sent for now, as I think the other two might be more important in terms of pricing prediction and order comparisons."
   ]
  },
  {
   "cell_type": "code",
   "execution_count": 12,
   "metadata": {
    "collapsed": false
   },
   "outputs": [
    {
     "name": "stdout",
     "output_type": "stream",
     "text": [
      "order_id                0\n",
      "completed_status        0\n",
      "state                   0\n",
      "company_id              0\n",
      "notary_id              35\n",
      "total_notary_fee        0\n",
      "city                    0\n",
      "appointment_date        0\n",
      "product_name            0\n",
      "travel_distance        29\n",
      "docs_to_notary_sent    98\n",
      "dtype: int64\n",
      "order_id                0\n",
      "completed_status        0\n",
      "state                   0\n",
      "company_id              0\n",
      "notary_id               0\n",
      "total_notary_fee        0\n",
      "city                    0\n",
      "appointment_date        0\n",
      "product_name            0\n",
      "travel_distance         0\n",
      "docs_to_notary_sent    63\n",
      "dtype: int64\n",
      "3.10559006211\n"
     ]
    },
    {
     "name": "stderr",
     "output_type": "stream",
     "text": [
      "/home/harisk87/anaconda2/envs/my_projects_env/lib/python2.7/site-packages/ipykernel/__main__.py:13: SettingWithCopyWarning:\n",
      "\n",
      "\n",
      "A value is trying to be set on a copy of a slice from a DataFrame.\n",
      "Try using .loc[row_indexer,col_indexer] = value instead\n",
      "\n",
      "See the caveats in the documentation: http://pandas.pydata.org/pandas-docs/stable/indexing.html#indexing-view-versus-copy\n",
      "\n"
     ]
    }
   ],
   "source": [
    "print(orders_all.isnull().sum())\n",
    "\n",
    "# dropping null notary and travel distance values\n",
    "\n",
    "orders_all_new = orders_all.dropna(subset=['notary_id', 'travel_distance'], how='any')\n",
    "\n",
    "print(orders_all_new.isnull().sum())\n",
    "\n",
    "\n",
    "print(((float(len(orders_all)) - len(orders_all_new)) / float(len(orders_all)))*100)\n",
    "\n",
    "# I also add a column with day of the week for future analyses\n",
    "orders_all_new['weekday'] = orders_all_new['appointment_date'].dt.dayofweek\n"
   ]
  },
  {
   "cell_type": "markdown",
   "metadata": {},
   "source": [
    "There are no null values in the messages data in the id and messaged at columns, so I leave it as is."
   ]
  },
  {
   "cell_type": "code",
   "execution_count": 13,
   "metadata": {
    "collapsed": false
   },
   "outputs": [
    {
     "data": {
      "text/plain": [
       "id                  0\n",
       "order_id            0\n",
       "notary_id           0\n",
       "messaged_at         0\n",
       "responded_at    11470\n",
       "response        11469\n",
       "dtype: int64"
      ]
     },
     "execution_count": 13,
     "metadata": {},
     "output_type": "execute_result"
    }
   ],
   "source": [
    "messages.isnull().sum() # no null values for messaged at so all good"
   ]
  },
  {
   "cell_type": "markdown",
   "metadata": {},
   "source": [
    "#### Data Extraction - Bigly, Alabama, Tennessee\n",
    "\n",
    "I pull out the data corresponding to Bigly (company id = 1), and separate that into Alabama and Tennssee. I see that there are different types of orders (completed, canceled, did not sign) - I keep all three for now, but in case I want to analyze just the completed orders, I separate that out as well. Tennessee has slightly more orders than Alabama."
   ]
  },
  {
   "cell_type": "code",
   "execution_count": 14,
   "metadata": {
    "collapsed": false
   },
   "outputs": [
    {
     "name": "stdout",
     "output_type": "stream",
     "text": [
      "107 total orders by Bigly in Alabama\n",
      "67 total completed orders by Bigly in Alabama\n",
      "128 total orders by Bigly in Tennessee\n",
      "125 total completed orders by Bigly in Tennessee\n"
     ]
    }
   ],
   "source": [
    "# orders from bigly\n",
    "orders = orders_all_new[orders_all_new['company_id'] == 1]\n",
    "\n",
    "# orders from bigly in alabama\n",
    "orders_AL = orders[orders['state']=='AL']\n",
    "print(str(len(orders_AL)) + ' total orders by Bigly in Alabama')\n",
    "orders_AL_comp = orders_AL[orders_AL['completed_status'] == 'completed']\n",
    "print(str(len(orders_AL_comp)) + ' total completed orders by Bigly in Alabama')\n",
    "\n",
    "# orders from bigle in tennessee\n",
    "orders_TN = orders[orders['state']=='TN']\n",
    "print(str(len(orders_TN)) + ' total orders by Bigly in Tennessee')\n",
    "orders_TN_comp = orders_TN[orders_TN['completed_status'] == 'completed']\n",
    "print(str(len(orders_TN_comp)) + ' total completed orders by Bigly in Tennessee')\n"
   ]
  },
  {
   "cell_type": "markdown",
   "metadata": {},
   "source": [
    "#### Part 1: Data Visualization and Statistics\n",
    "\n",
    "Now, I go on to compare how the orders differ between Alabama and Tennessee using  various plots and statistical tests.\n",
    "\n",
    "As a first pass, These are the questions I am interested in asking\n",
    "\n",
    "1) Was there any difference in the types of products between AL and TN (refinance vs mortgage vs purchase)?\n",
    "\n",
    "2) Were there differences in how the notaries were paid\n",
    "\n",
    "3) Was there a difference in the travel distances required\n",
    "\n",
    "4) Were the way the docs were sent to the notaries different?\n",
    "\n",
    "5) Were there any differences in how many orders were completed vs canceled\n",
    "\n",
    "6) Was there a difference in the appointment dates (weekday vs weekend signings)\n",
    "\n",
    "\n",
    "\n",
    "\n",
    "If there is a little more time, and I can pull the data quickly these are the second set of questions I will ask, but the above 5 are higher priority:\n",
    "\n",
    "\n",
    "7) Was there a difference in the no of notaries messaged per order?\n",
    "\n",
    "8) Was there a difference in the time spent messaging over each search\n",
    "\n",
    "9) Was there a difference in the no of messages sent over time per search for each order?\n",
    "\n",
    "Questions 7-9 are lower priority because if there was a difference it could be a result of the notaries available in the area, or a result of how the Snapdocs search algorithm works, or a result of how the AL and TN teams go about contacting notaries. \n"
   ]
  },
  {
   "cell_type": "markdown",
   "metadata": {},
   "source": [
    "##### Comparing Travel Distances between AL and TN"
   ]
  },
  {
   "cell_type": "code",
   "execution_count": 15,
   "metadata": {
    "collapsed": false
   },
   "outputs": [
    {
     "data": {
      "text/html": [
       "<div id=\"a34a63c9-3007-4533-970d-713c7e45991a\" style=\"height: 525px; width: 100%;\" class=\"plotly-graph-div\"></div><script type=\"text/javascript\">require([\"plotly\"], function(Plotly) { window.PLOTLYENV=window.PLOTLYENV || {};window.PLOTLYENV.BASE_URL=\"https://plot.ly\";Plotly.newPlot(\"a34a63c9-3007-4533-970d-713c7e45991a\", [{\"opacity\": 0.75, \"marker\": {\"color\": \"rgb(125, 70, 200)\"}, \"type\": \"histogram\", \"name\": \"Alabama\", \"x\": [12.09341352, 19.59805141, 1.0433267309999998, 21.26765628, 11.8445388, 18.29712862, 26.72799055, 10.35283204, 47.66246099, 0.709098517, 7.354102447000001, 1.196599213, 3.6593299939999997, 6.9006288829999995, 19.71785343, 14.244957399999999, 7.924895639, 2.842408335, 8.156946293999999, 26.55635628, 8.384374281, 18.15428384, 14.336512099999998, 6.104430391, 12.821841800000001, 8.728480884, 16.8545482, 6.359732656, 10.77390172, 11.32777083, 16.39619277, 3.455258469, 10.53209031, 6.048546647, 3.159513108, 11.56382132, 0.91150034, 25.05319421, 54.61712264, 18.51710145, 3.990955267, 1.213010157, 7.0385771020000005, 7.902754400000001, 21.74266518, 15.05082718, 25.63191589, 5.376661546, 15.66579504, 5.78818555, 4.227945527, 21.18853111, 18.14144133, 4.544561999, 19.91445654, 2.2786480069999997, 1.889225787, 5.878982131, 34.45220026, 1.9784917990000002, 2.9056477010000004, 4.6823044089999994, 18.15428384, 9.888027514, 15.82397077, 13.19502731, 24.94759933, 32.93333464, 6.804023977000001, 12.88141036, 22.99679723, 13.9608421, 21.1407491, 3.162962077, 22.19348634, 8.814032859, 36.33143675, 10.65442928, 18.22848542, 29.7383195, 9.979333685, 16.54494849, 20.71327698, 19.39260938, 2.9167406789999997, 7.796497047000001, 3.5667092119999997, 20.62927798, 16.91214344, 26.2406827, 28.19117111, 44.52299968, 4.82047111, 2.068860627, 27.23164835, 38.31788639, 7.520218547000001, 14.3427804, 29.28062295, 30.69246773, 57.54423196, 7.455764964, 17.6415618, 16.9163447, 28.96497655, 44.90980609, 21.49624106]}, {\"opacity\": 0.75, \"marker\": {\"color\": \"rgb(250, 130, 170)\"}, \"type\": \"histogram\", \"name\": \"Tenessee\", \"x\": [2.323894224, 20.98775851, 0.9610659659999999, 1.8232099869999998, 1.8232099869999998, 1.8232099869999998, 8.789794344, 16.2213276, 23.02700843, 3.906646987, 5.386356575, 8.760254882, 5.325775473, 24.63188341, 1.8232099869999998, 1.8232099869999998, 0.38427027700000005, 15.89170543, 9.121024542999999, 8.688261353, 10.39467817, 10.39467817, 5.059097178, 15.6114119, 23.41310482, 3.3090797039999997, 29.5809684, 1.8686009890000002, 2.213091821, 5.749725885, 1.296265128, 19.04724238, 1.409186711, 2.79199661, 2.401145318, 1.8232099869999998, 2.655428592, 23.42296449, 12.641156800000001, 27.50976785, 6.862470665, 11.39197754, 19.55735338, 6.564818311, 20.70253902, 6.98409018, 10.52404851, 19.08828078, 7.860543455, 22.97425937, 37.94109299, 13.22201259, 27.7441899, 22.174671300000004, 7.737480643, 10.81049946, 15.095929, 36.54141501, 22.8626857, 9.771344166, 49.26390792, 1.8078280690000001, 3.350700787, 17.33216983, 17.03830533, 12.46003893, 25.18011549, 7.6967206710000005, 9.997262576, 13.39990289, 9.725669826, 49.71615429999999, 13.18652727, 7.348880992000001, 14.99936434, 5.325775473, 5.8512395370000005, 4.611947037, 20.45088776, 12.23973134, 39.92165353, 4.008134021, 5.208825098999999, 10.14986184, 21.22017484, 27.74117083, 3.904502117, 17.25807167, 7.284436145, 31.75979506, 14.85084681, 27.20213664, 31.54887507, 15.26671814, 11.73982647, 3.704890334, 2.249486327, 18.85990717, 2.364766975, 17.24537875, 23.29264817, 36.17635511, 17.11370367, 6.929098789, 22.54763323, 11.10645325, 30.45228573, 11.97921599, 15.76774368, 7.796756475, 32.57067474, 20.5290669, 47.52669005, 16.45221273, 10.07407007, 11.03047735, 19.44535698, 4.008388817, 2.404093543, 72.89344642, 36.5662218, 19.91521971, 4.569933654, 25.92468422, 41.87899253, 37.36956523, 26.609318, 32.08547172]}], {\"showlegend\": false, \"yaxis\": {\"tickfont\": {\"size\": 20}, \"title\": \"Number of Cases\", \"titlefont\": {\"size\": 24}, \"dtick\": 40, \"showgrid\": false}, \"title\": \"Distribution of Travel Distance for AL and TN\", \"barmode\": \"overlay\", \"titlefont\": {\"size\": 24}, \"xaxis\": {\"tickfont\": {\"size\": 20}, \"titlefont\": {\"size\": 24}, \"title\": \"Travel Distance\"}}, {\"linkText\": \"Export to plot.ly\", \"showLink\": true})});</script>"
      ],
      "text/plain": [
       "<IPython.core.display.HTML object>"
      ]
     },
     "metadata": {},
     "output_type": "display_data"
    },
    {
     "data": {
      "text/html": [
       "<div id=\"0537f9de-f519-4787-830c-4135b9d631c5\" style=\"height: 525px; width: 100%;\" class=\"plotly-graph-div\"></div><script type=\"text/javascript\">require([\"plotly\"], function(Plotly) { window.PLOTLYENV=window.PLOTLYENV || {};window.PLOTLYENV.BASE_URL=\"https://plot.ly\";Plotly.newPlot(\"0537f9de-f519-4787-830c-4135b9d631c5\", [{\"jitter\": 0.3, \"name\": \"Alabama\", \"boxmean\": true, \"type\": \"box\", \"marker\": {\"size\": 2}, \"y\": [12.09341352, 19.59805141, 1.0433267309999998, 21.26765628, 11.8445388, 18.29712862, 26.72799055, 10.35283204, 47.66246099, 0.709098517, 7.354102447000001, 1.196599213, 3.6593299939999997, 6.9006288829999995, 19.71785343, 14.244957399999999, 7.924895639, 2.842408335, 8.156946293999999, 26.55635628, 8.384374281, 18.15428384, 14.336512099999998, 6.104430391, 12.821841800000001, 8.728480884, 16.8545482, 6.359732656, 10.77390172, 11.32777083, 16.39619277, 3.455258469, 10.53209031, 6.048546647, 3.159513108, 11.56382132, 0.91150034, 25.05319421, 54.61712264, 18.51710145, 3.990955267, 1.213010157, 7.0385771020000005, 7.902754400000001, 21.74266518, 15.05082718, 25.63191589, 5.376661546, 15.66579504, 5.78818555, 4.227945527, 21.18853111, 18.14144133, 4.544561999, 19.91445654, 2.2786480069999997, 1.889225787, 5.878982131, 34.45220026, 1.9784917990000002, 2.9056477010000004, 4.6823044089999994, 18.15428384, 9.888027514, 15.82397077, 13.19502731, 24.94759933, 32.93333464, 6.804023977000001, 12.88141036, 22.99679723, 13.9608421, 21.1407491, 3.162962077, 22.19348634, 8.814032859, 36.33143675, 10.65442928, 18.22848542, 29.7383195, 9.979333685, 16.54494849, 20.71327698, 19.39260938, 2.9167406789999997, 7.796497047000001, 3.5667092119999997, 20.62927798, 16.91214344, 26.2406827, 28.19117111, 44.52299968, 4.82047111, 2.068860627, 27.23164835, 38.31788639, 7.520218547000001, 14.3427804, 29.28062295, 30.69246773, 57.54423196, 7.455764964, 17.6415618, 16.9163447, 28.96497655, 44.90980609, 21.49624106], \"line\": {\"width\": 1}, \"pointpos\": -2.5, \"boxpoints\": \"all\"}, {\"jitter\": 0.3, \"name\": \"Tenessee\", \"boxmean\": true, \"type\": \"box\", \"marker\": {\"size\": 2}, \"y\": [2.323894224, 20.98775851, 0.9610659659999999, 1.8232099869999998, 1.8232099869999998, 1.8232099869999998, 8.789794344, 16.2213276, 23.02700843, 3.906646987, 5.386356575, 8.760254882, 5.325775473, 24.63188341, 1.8232099869999998, 1.8232099869999998, 0.38427027700000005, 15.89170543, 9.121024542999999, 8.688261353, 10.39467817, 10.39467817, 5.059097178, 15.6114119, 23.41310482, 3.3090797039999997, 29.5809684, 1.8686009890000002, 2.213091821, 5.749725885, 1.296265128, 19.04724238, 1.409186711, 2.79199661, 2.401145318, 1.8232099869999998, 2.655428592, 23.42296449, 12.641156800000001, 27.50976785, 6.862470665, 11.39197754, 19.55735338, 6.564818311, 20.70253902, 6.98409018, 10.52404851, 19.08828078, 7.860543455, 22.97425937, 37.94109299, 13.22201259, 27.7441899, 22.174671300000004, 7.737480643, 10.81049946, 15.095929, 36.54141501, 22.8626857, 9.771344166, 49.26390792, 1.8078280690000001, 3.350700787, 17.33216983, 17.03830533, 12.46003893, 25.18011549, 7.6967206710000005, 9.997262576, 13.39990289, 9.725669826, 49.71615429999999, 13.18652727, 7.348880992000001, 14.99936434, 5.325775473, 5.8512395370000005, 4.611947037, 20.45088776, 12.23973134, 39.92165353, 4.008134021, 5.208825098999999, 10.14986184, 21.22017484, 27.74117083, 3.904502117, 17.25807167, 7.284436145, 31.75979506, 14.85084681, 27.20213664, 31.54887507, 15.26671814, 11.73982647, 3.704890334, 2.249486327, 18.85990717, 2.364766975, 17.24537875, 23.29264817, 36.17635511, 17.11370367, 6.929098789, 22.54763323, 11.10645325, 30.45228573, 11.97921599, 15.76774368, 7.796756475, 32.57067474, 20.5290669, 47.52669005, 16.45221273, 10.07407007, 11.03047735, 19.44535698, 4.008388817, 2.404093543, 72.89344642, 36.5662218, 19.91521971, 4.569933654, 25.92468422, 41.87899253, 37.36956523, 26.609318, 32.08547172], \"line\": {\"width\": 1}, \"pointpos\": -2.5, \"boxpoints\": \"all\"}], {\"title\": \"Comparing Travel Distance for AL and TN\", \"yaxis\": {\"title\": \"Travel Distance\"}}, {\"linkText\": \"Export to plot.ly\", \"showLink\": true})});</script>"
      ],
      "text/plain": [
       "<IPython.core.display.HTML object>"
      ]
     },
     "metadata": {},
     "output_type": "display_data"
    },
    {
     "name": "stdout",
     "output_type": "stream",
     "text": [
      "The p value is 0.031465877421 and the t value is 0.0351749970148\n",
      "The effect size is 0.00923036923159\n"
     ]
    }
   ],
   "source": [
    "plot_histogram_two(orders_AL['travel_distance'],orders_TN['travel_distance'],'Alabama','Tenessee','Travel Distance','Number of Cases','Distribution of Travel Distance for AL and TN') \n",
    "\n",
    "plot_box_two(orders_AL['travel_distance'], orders_TN['travel_distance'], 'Alabama','Tenessee','Travel Distance','Comparing Travel Distance for AL and TN')\n",
    "\n",
    "two_sided_test(orders_AL['travel_distance'], orders_TN['travel_distance'])"
   ]
  },
  {
   "cell_type": "markdown",
   "metadata": {},
   "source": [
    "The distribution of distances look similar between the 2 states. Moreover, I cannot reject the hypothesis at 99% confidence interval, and the t value and effect size are very small so I conlude that travel distances are similar between the 2 states.\n",
    "\n",
    "#### Comparing Order Status\n",
    "\n",
    "ALabama has a lot of canceled orders. **In fact, about 1/3 of the total orders were canceled in AL while only 1/125 were canceled in TN. I think this could be a cause for concern for us. If the ratio of canceled orders is so high, this can affect our business and relationship with notaries in AL.**"
   ]
  },
  {
   "cell_type": "code",
   "execution_count": 16,
   "metadata": {
    "collapsed": false
   },
   "outputs": [
    {
     "data": {
      "text/html": [
       "<div id=\"5d691a52-94fa-4669-8e6c-cfde302fcb97\" style=\"height: 525px; width: 100%;\" class=\"plotly-graph-div\"></div><script type=\"text/javascript\">require([\"plotly\"], function(Plotly) { window.PLOTLYENV=window.PLOTLYENV || {};window.PLOTLYENV.BASE_URL=\"https://plot.ly\";Plotly.newPlot(\"5d691a52-94fa-4669-8e6c-cfde302fcb97\", [{\"marker\": {\"color\": \"rgb(49,130,189)\"}, \"y\": [38, 67, 2], \"type\": \"bar\", \"name\": \"ALABAMA\", \"x\": [\"canceled\", \"completed\", \"did_not_sign\"]}, {\"marker\": {\"color\": \"rgb(200,200,200)\"}, \"y\": [1, 125, 2], \"type\": \"bar\", \"name\": \"TENNESSEE\", \"x\": [\"canceled\", \"completed\", \"did_not_sign\"]}], {\"barmode\": \"group\", \"xaxis\": {\"tickangle\": -45}, \"title\": \"Bar Plot of Completed Status for AL and TN\"}, {\"linkText\": \"Export to plot.ly\", \"showLink\": true})});</script>"
      ],
      "text/plain": [
       "<IPython.core.display.HTML object>"
      ]
     },
     "metadata": {},
     "output_type": "display_data"
    }
   ],
   "source": [
    "plot_bar_two(orders_AL.groupby(['completed_status']).groups.keys(), orders_TN.groupby(['completed_status']).groups.keys(), orders_AL.groupby(['completed_status']).size(), orders_TN.groupby(['completed_status']).size(), 'ALABAMA', 'TENNESSEE', 'Bar Plot of Completed Status for AL and TN')"
   ]
  },
  {
   "cell_type": "markdown",
   "metadata": {},
   "source": [
    "#### Comparing how docs were sent to notaries"
   ]
  },
  {
   "cell_type": "code",
   "execution_count": 17,
   "metadata": {
    "collapsed": false
   },
   "outputs": [
    {
     "data": {
      "text/html": [
       "<div id=\"1c72c0ae-494d-492b-959b-c6795ac9c143\" style=\"height: 525px; width: 100%;\" class=\"plotly-graph-div\"></div><script type=\"text/javascript\">require([\"plotly\"], function(Plotly) { window.PLOTLYENV=window.PLOTLYENV || {};window.PLOTLYENV.BASE_URL=\"https://plot.ly\";Plotly.newPlot(\"1c72c0ae-494d-492b-959b-c6795ac9c143\", [{\"marker\": {\"color\": \"rgb(49,130,189)\"}, \"y\": [2, 6, 1, 52, 39], \"type\": \"bar\", \"name\": \"ALABAMA\", \"x\": [\"emailed_to_notary\", \"sent_by_client\", \"overnighted\", \"direct_links\", \"sent\"]}, {\"marker\": {\"color\": \"rgb(200,200,200)\"}, \"y\": [1, 6, 4, 71, 43], \"type\": \"bar\", \"name\": \"TENNESSEE\", \"x\": [\"emailed_to_notary\", \"sent_by_client\", \"at_closing\", \"sent\", \"direct_links\"]}], {\"barmode\": \"group\", \"xaxis\": {\"tickangle\": -45}, \"title\": \"Bar Plot of How Docs are sent to Notaries for AL and TN\"}, {\"linkText\": \"Export to plot.ly\", \"showLink\": true})});</script>"
      ],
      "text/plain": [
       "<IPython.core.display.HTML object>"
      ]
     },
     "metadata": {},
     "output_type": "display_data"
    }
   ],
   "source": [
    "plot_bar_two(orders_AL.groupby(['docs_to_notary_sent']).groups.keys(), orders_TN.groupby(['docs_to_notary_sent']).groups.keys(), orders_AL.groupby(['docs_to_notary_sent']).size(), orders_TN.groupby(['docs_to_notary_sent']).size(), 'ALABAMA', 'TENNESSEE', 'Bar Plot of How Docs are sent to Notaries for AL and TN')"
   ]
  },
  {
   "cell_type": "markdown",
   "metadata": {},
   "source": [
    "I don't think differences in how the documents were sent should be a major cause for concern and affect the business, so I will leave this be for now."
   ]
  },
  {
   "cell_type": "markdown",
   "metadata": {},
   "source": [
    "#### Comparing how orders were scheduled by day of week"
   ]
  },
  {
   "cell_type": "code",
   "execution_count": 18,
   "metadata": {
    "collapsed": false
   },
   "outputs": [
    {
     "data": {
      "text/html": [
       "<div id=\"a85fa17b-63a3-4994-97eb-75ebe7ba6c42\" style=\"height: 525px; width: 100%;\" class=\"plotly-graph-div\"></div><script type=\"text/javascript\">require([\"plotly\"], function(Plotly) { window.PLOTLYENV=window.PLOTLYENV || {};window.PLOTLYENV.BASE_URL=\"https://plot.ly\";Plotly.newPlot(\"a85fa17b-63a3-4994-97eb-75ebe7ba6c42\", [{\"marker\": {\"color\": \"rgb(49,130,189)\"}, \"y\": [19, 17, 11, 19, 34, 7], \"type\": \"bar\", \"name\": \"ALABAMA\", \"x\": [0, 1, 2, 3, 4, 5]}, {\"marker\": {\"color\": \"rgb(200,200,200)\"}, \"y\": [20, 22, 15, 32, 27, 11, 1], \"type\": \"bar\", \"name\": \"TENNESSEE\", \"x\": [0, 1, 2, 3, 4, 5, 6]}], {\"barmode\": \"group\", \"xaxis\": {\"tickangle\": -45}, \"title\": \"Bar Plot of Orders by Day of week for AL and TN\"}, {\"linkText\": \"Export to plot.ly\", \"showLink\": true})});</script>"
      ],
      "text/plain": [
       "<IPython.core.display.HTML object>"
      ]
     },
     "metadata": {},
     "output_type": "display_data"
    }
   ],
   "source": [
    "plot_bar_two(orders_AL.groupby(['weekday']).groups.keys(), orders_TN.groupby(['weekday']).groups.keys(), orders_AL.groupby(['weekday']).size(), orders_TN.groupby(['weekday']).size(), 'ALABAMA', 'TENNESSEE', 'Bar Plot of Orders by Day of week for AL and TN')"
   ]
  },
  {
   "cell_type": "markdown",
   "metadata": {},
   "source": [
    "I don't see any major difference in weekday (0 - 4) vs weekend (5-6) order scheduling by AL and TN offices, so I assume these are not a cause for concern."
   ]
  },
  {
   "cell_type": "markdown",
   "metadata": {},
   "source": [
    "#### Comparing notary fees in AL vs TN\n",
    "\n",
    "The distribution of fees look very different between the 2 states. **The total notary fees paid in Alabama are on average more than TN.** This difference is statistically significant at the 99% confidence interval, and the t-values and effect size are relatively large, signifying that there is clearly something different in the orders handled by the 2 states. \n",
    "\n",
    "To look more into this, I plotted the types of products for which signings were completed in the 2 states. I found that **AL tends to schedule significantly more refinancing orders than purchase orders**, while in TN, the difference is less.** AL schedules 5 times as many refinancing orders compared to purchases, while in TN, the refinancing orders are only 1.5 times more.**\n",
    "\n",
    "Refinancing orders do generate higher revenue, so if most of the revenue comes from refinancing orders, then this is a very good thing for us. However, if most of our revenue is from purchasing orders, this is something to keep an eye out for. \n",
    "\n",
    "\n"
   ]
  },
  {
   "cell_type": "code",
   "execution_count": 19,
   "metadata": {
    "collapsed": false
   },
   "outputs": [
    {
     "data": {
      "text/html": [
       "<div id=\"5c860246-2620-42bf-a933-8e9492f9fc4e\" style=\"height: 525px; width: 100%;\" class=\"plotly-graph-div\"></div><script type=\"text/javascript\">require([\"plotly\"], function(Plotly) { window.PLOTLYENV=window.PLOTLYENV || {};window.PLOTLYENV.BASE_URL=\"https://plot.ly\";Plotly.newPlot(\"5c860246-2620-42bf-a933-8e9492f9fc4e\", [{\"opacity\": 0.75, \"marker\": {\"color\": \"rgb(125, 70, 200)\"}, \"type\": \"histogram\", \"name\": \"Alabama\", \"x\": [90.0, 115.0, 50.0, 75.0, 80.0, 75.0, 75.0, 90.0, 75.0, 75.0, 55.0, 50.0, 75.0, 75.0, 75.0, 80.0, 90.0, 75.0, 50.0, 25.0, 50.0, 45.0, 75.0, 60.0, 50.0, 50.0, 47.0, 80.0, 80.0, 80.0, 80.0, 85.0, 90.0, 90.0, 90.0, 90.0, 95.0, 95.0, 95.0, 95.0, 95.0, 75.0, 75.0, 75.0, 115.0, 75.0, 75.0, 75.0, 100.0, 90.0, 95.0, 150.0, 125.0, 100.0, 100.0, 100.0, 100.0, 95.0, 100.0, 100.0, 100.0, 100.0, 100.0, 100.0, 100.0, 100.0, 100.0, 100.0, 100.0, 100.0, 100.0, 100.0, 100.0, 100.0, 100.0, 100.0, 100.0, 100.0, 100.0, 100.0, 115.0, 100.0, 100.0, 90.0, 100.0, 100.0, 100.0, 85.0, 100.0, 100.0, 100.0, 150.0, 95.0, 95.0, 95.0, 105.0, 105.0, 105.0, 105.0, 115.0, 115.0, 115.0, 85.0, 100.0, 115.0, 115.0, 115.0]}, {\"opacity\": 0.75, \"marker\": {\"color\": \"rgb(250, 130, 170)\"}, \"type\": \"histogram\", \"name\": \"Tenessee\", \"x\": [30.0, 45.0, 60.0, 60.0, 65.0, 65.0, 65.0, 65.0, 70.0, 65.0, 70.0, 65.0, 90.0, 70.0, 70.0, 70.0, 70.0, 65.0, 65.0, 65.0, 65.0, 70.0, 70.0, 70.0, 70.0, 75.0, 75.0, 70.0, 75.0, 75.0, 70.0, 75.0, 75.0, 80.0, 75.0, 75.0, 80.0, 75.0, 80.0, 75.0, 80.0, 85.0, 80.0, 85.0, 85.0, 85.0, 80.0, 85.0, 85.0, 80.0, 90.0, 85.0, 90.0, 85.0, 85.0, 85.0, 85.0, 85.0, 90.0, 90.0, 90.0, 85.0, 90.0, 90.0, 85.0, 90.0, 85.0, 95.0, 95.0, 95.0, 95.0, 90.0, 90.0, 95.0, 90.0, 95.0, 90.0, 95.0, 95.0, 95.0, 90.0, 95.0, 95.0, 90.0, 95.0, 95.0, 95.0, 95.0, 95.0, 60.0, 90.0, 100.0, 95.0, 100.0, 100.0, 100.0, 95.0, 100.0, 100.0, 100.0, 100.0, 95.0, 95.0, 95.0, 100.0, 95.0, 100.0, 100.0, 95.0, 100.0, 100.0, 95.0, 100.0, 95.0, 100.0, 95.0, 105.0, 100.0, 100.0, 110.0, 110.0, 115.0, 115.0, 115.0, 115.0, 110.0, 120.0, 170.0]}], {\"showlegend\": false, \"yaxis\": {\"tickfont\": {\"size\": 20}, \"title\": \"Number of Cases\", \"titlefont\": {\"size\": 24}, \"dtick\": 40, \"showgrid\": false}, \"title\": \"Distribution of Total Notary Fee for AL and TN\", \"barmode\": \"overlay\", \"titlefont\": {\"size\": 24}, \"xaxis\": {\"tickfont\": {\"size\": 20}, \"titlefont\": {\"size\": 24}, \"title\": \"Total Notary Fee\"}}, {\"linkText\": \"Export to plot.ly\", \"showLink\": true})});</script>"
      ],
      "text/plain": [
       "<IPython.core.display.HTML object>"
      ]
     },
     "metadata": {},
     "output_type": "display_data"
    },
    {
     "data": {
      "text/html": [
       "<div id=\"304fbf1c-5cec-4bdd-8ba2-245b92428d23\" style=\"height: 525px; width: 100%;\" class=\"plotly-graph-div\"></div><script type=\"text/javascript\">require([\"plotly\"], function(Plotly) { window.PLOTLYENV=window.PLOTLYENV || {};window.PLOTLYENV.BASE_URL=\"https://plot.ly\";Plotly.newPlot(\"304fbf1c-5cec-4bdd-8ba2-245b92428d23\", [{\"jitter\": 0.3, \"name\": \"Alabama\", \"boxmean\": true, \"type\": \"box\", \"marker\": {\"size\": 2}, \"y\": [90.0, 115.0, 50.0, 75.0, 80.0, 75.0, 75.0, 90.0, 75.0, 75.0, 55.0, 50.0, 75.0, 75.0, 75.0, 80.0, 90.0, 75.0, 50.0, 25.0, 50.0, 45.0, 75.0, 60.0, 50.0, 50.0, 47.0, 80.0, 80.0, 80.0, 80.0, 85.0, 90.0, 90.0, 90.0, 90.0, 95.0, 95.0, 95.0, 95.0, 95.0, 75.0, 75.0, 75.0, 115.0, 75.0, 75.0, 75.0, 100.0, 90.0, 95.0, 150.0, 125.0, 100.0, 100.0, 100.0, 100.0, 95.0, 100.0, 100.0, 100.0, 100.0, 100.0, 100.0, 100.0, 100.0, 100.0, 100.0, 100.0, 100.0, 100.0, 100.0, 100.0, 100.0, 100.0, 100.0, 100.0, 100.0, 100.0, 100.0, 115.0, 100.0, 100.0, 90.0, 100.0, 100.0, 100.0, 85.0, 100.0, 100.0, 100.0, 150.0, 95.0, 95.0, 95.0, 105.0, 105.0, 105.0, 105.0, 115.0, 115.0, 115.0, 85.0, 100.0, 115.0, 115.0, 115.0], \"line\": {\"width\": 1}, \"pointpos\": -2.5, \"boxpoints\": \"all\"}, {\"jitter\": 0.3, \"name\": \"Tenessee\", \"boxmean\": true, \"type\": \"box\", \"marker\": {\"size\": 2}, \"y\": [30.0, 45.0, 60.0, 60.0, 65.0, 65.0, 65.0, 65.0, 70.0, 65.0, 70.0, 65.0, 90.0, 70.0, 70.0, 70.0, 70.0, 65.0, 65.0, 65.0, 65.0, 70.0, 70.0, 70.0, 70.0, 75.0, 75.0, 70.0, 75.0, 75.0, 70.0, 75.0, 75.0, 80.0, 75.0, 75.0, 80.0, 75.0, 80.0, 75.0, 80.0, 85.0, 80.0, 85.0, 85.0, 85.0, 80.0, 85.0, 85.0, 80.0, 90.0, 85.0, 90.0, 85.0, 85.0, 85.0, 85.0, 85.0, 90.0, 90.0, 90.0, 85.0, 90.0, 90.0, 85.0, 90.0, 85.0, 95.0, 95.0, 95.0, 95.0, 90.0, 90.0, 95.0, 90.0, 95.0, 90.0, 95.0, 95.0, 95.0, 90.0, 95.0, 95.0, 90.0, 95.0, 95.0, 95.0, 95.0, 95.0, 60.0, 90.0, 100.0, 95.0, 100.0, 100.0, 100.0, 95.0, 100.0, 100.0, 100.0, 100.0, 95.0, 95.0, 95.0, 100.0, 95.0, 100.0, 100.0, 95.0, 100.0, 100.0, 95.0, 100.0, 95.0, 100.0, 95.0, 105.0, 100.0, 100.0, 110.0, 110.0, 115.0, 115.0, 115.0, 115.0, 110.0, 120.0, 170.0], \"line\": {\"width\": 1}, \"pointpos\": -2.5, \"boxpoints\": \"all\"}], {\"title\": \"Comparing Total Notary Fee for AL and TN\", \"yaxis\": {\"title\": \"Total Notary Fee\"}}, {\"linkText\": \"Export to plot.ly\", \"showLink\": true})});</script>"
      ],
      "text/plain": [
       "<IPython.core.display.HTML object>"
      ]
     },
     "metadata": {},
     "output_type": "display_data"
    },
    {
     "name": "stdout",
     "output_type": "stream",
     "text": [
      "The p value is 0.00399229912211 and the t value is 0.781120219847\n",
      "The effect size is 0.207258785796\n"
     ]
    }
   ],
   "source": [
    "plot_histogram_two(orders_AL['total_notary_fee'], orders_TN['total_notary_fee'], 'Alabama','Tenessee','Total Notary Fee','Number of Cases','Distribution of Total Notary Fee for AL and TN')\n",
    "plot_box_two(orders_AL['total_notary_fee'], orders_TN['total_notary_fee'], 'Alabama','Tenessee','Total Notary Fee','Comparing Total Notary Fee for AL and TN')\n",
    "two_sided_test(orders_AL['total_notary_fee'], orders_TN['total_notary_fee'])"
   ]
  },
  {
   "cell_type": "markdown",
   "metadata": {},
   "source": [
    "#### Comparing types of products in AL vs TN"
   ]
  },
  {
   "cell_type": "code",
   "execution_count": 20,
   "metadata": {
    "collapsed": false
   },
   "outputs": [
    {
     "data": {
      "text/html": [
       "<div id=\"a6b6d9fc-00d5-4c06-8ae2-ac1d6b0f752e\" style=\"height: 525px; width: 100%;\" class=\"plotly-graph-div\"></div><script type=\"text/javascript\">require([\"plotly\"], function(Plotly) { window.PLOTLYENV=window.PLOTLYENV || {};window.PLOTLYENV.BASE_URL=\"https://plot.ly\";Plotly.newPlot(\"a6b6d9fc-00d5-4c06-8ae2-ac1d6b0f752e\", [{\"marker\": {\"color\": \"rgb(49,130,189)\"}, \"y\": [16, 91], \"type\": \"bar\", \"name\": \"ALABAMA\", \"x\": [\"purchase\", \"refinance\"]}, {\"marker\": {\"color\": \"rgb(200,200,200)\"}, \"y\": [53, 73, 2], \"type\": \"bar\", \"name\": \"TENNESSEE\", \"x\": [\"purchase\", \"refinance\", \"reverse mortgage\"]}], {\"barmode\": \"group\", \"xaxis\": {\"tickangle\": -45}, \"title\": \"Bar Plot of Product Name for AL and TN\"}, {\"linkText\": \"Export to plot.ly\", \"showLink\": true})});</script>"
      ],
      "text/plain": [
       "<IPython.core.display.HTML object>"
      ]
     },
     "metadata": {},
     "output_type": "display_data"
    }
   ],
   "source": [
    "plot_bar_two(orders_AL.groupby(['product_name']).groups.keys(), orders_TN.groupby(['product_name']).groups.keys(), orders_AL.groupby(['product_name']).size(), orders_TN.groupby(['product_name']).size(), 'ALABAMA', 'TENNESSEE', 'Bar Plot of Product Name for AL and TN')"
   ]
  },
  {
   "cell_type": "markdown",
   "metadata": {},
   "source": [
    "### Part 2: Come up with a Pricing guide for Bigly Schedulers\n",
    "\n",
    "\n",
    "I intend to tackle this part of the project by\n",
    "\n",
    "1) first thinking about features that might be important to predict the price of a signing \n",
    "\n",
    "2) extracting and cleaning the features (continuous vs categorical, null values, duplicates, outliers)\n",
    "\n",
    "3) Implementing and Validating Linear Regression to predict the price using the features, and reporting the coefficients from the model\n",
    "\n",
    "4) Based on the performance of the above model and if time is available, see if any tweaks can be made to the model or the features to improve predictions if necessary\n"
   ]
  },
  {
   "cell_type": "markdown",
   "metadata": {},
   "source": [
    "#### Selecting Features\n",
    "\n",
    "To come up with the pricing model, I first think about what features might be important to predict price. \n",
    "\n",
    "1) Since different **products** might be priced differently (Refinance vs purchases), this might be an importat feature at predicting prices.\n",
    "\n",
    "2) The **distance** the signing agent has to travel could also be important for the price - longer distances might mean paying higher prices.\n",
    "\n",
    "3) The prices might differ across **states**, based on what notaries charge in different states, so I will include that feature.\n",
    "\n",
    "4) The **rank of the notary** itself could be important at predicting price. If a notary comes up in the search that has a higher rank (because they have more orders, better recommendations, etc), companies like bigly could potentially pay these notaries more than the ones that have a lower rank.\n",
    "\n",
    "5) The day of the appointment could also be an important feature - for example, **weekend signings might cost more than weekday signings.**\n",
    "\n",
    "For the purpose of this model, I am going to **take into account only completed orders**, since notary fees might be different for orders that were canceled or not signed. I assume that training the price recommendation on completed orders might give results that are more in line with the fair market rate. For future work I can train on both the completed and incomplete orders."
   ]
  },
  {
   "cell_type": "code",
   "execution_count": 21,
   "metadata": {
    "collapsed": false
   },
   "outputs": [
    {
     "name": "stdout",
     "output_type": "stream",
     "text": [
      "927 total orders completed\n",
      "order_id                0\n",
      "completed_status        0\n",
      "state                   0\n",
      "company_id              0\n",
      "notary_id               0\n",
      "total_notary_fee        0\n",
      "city                    0\n",
      "appointment_date        0\n",
      "product_name            0\n",
      "travel_distance         0\n",
      "docs_to_notary_sent    13\n",
      "weekday                 0\n",
      "dtype: int64\n"
     ]
    }
   ],
   "source": [
    "# taking into account only completed orders for pricing model for now\n",
    "orders_completed = orders_all_new[orders_all_new['completed_status'] == 'completed']\n",
    "print(str(len(orders_completed)) + ' total orders completed')\n",
    "\n",
    "# double checking for missing data\n",
    "print(orders_completed.isnull().sum())"
   ]
  },
  {
   "cell_type": "markdown",
   "metadata": {},
   "source": [
    "#### Checking the features to see if they have outliers or very skewed distributions before using them in the model.\n",
    "\n",
    "#### Total Notary Fees\n",
    "\n",
    "I see some notaries have received fees that are in the extreme outlier range (~$4000). I look closer at the data to see if there was anything different about these orders. There doesn't seem to be anything drastically different, so I assume this data might be incorrect and remove values that are more than 2 standard deviations from the mean."
   ]
  },
  {
   "cell_type": "code",
   "execution_count": 22,
   "metadata": {
    "collapsed": false
   },
   "outputs": [
    {
     "data": {
      "text/html": [
       "<div id=\"d0035ffc-d85a-4d99-9cdb-9f9c3506d660\" style=\"height: 525px; width: 100%;\" class=\"plotly-graph-div\"></div><script type=\"text/javascript\">require([\"plotly\"], function(Plotly) { window.PLOTLYENV=window.PLOTLYENV || {};window.PLOTLYENV.BASE_URL=\"https://plot.ly\";Plotly.newPlot(\"d0035ffc-d85a-4d99-9cdb-9f9c3506d660\", [{\"opacity\": 0.75, \"marker\": {\"color\": \"rgb(125, 70, 200)\"}, \"type\": \"histogram\", \"name\": \"All\", \"x\": [115.0, 100.0, 75.0, 100.0, 105.0, 105.0, 110.0, 0.0, 110.0, 170.0, 70.0, 70.0, 75.0, 0.0, 0.0, 20.0, 25.0, 75.0, 30.0, 30.0, 30.0, 35.0, 35.0, 40.0, 45.0, 45.0, 50.0, 60.0, 60.0, 55.0, 55.0, 60.0, 60.0, 55.0, 75.0, 60.0, 115.0, 115.0, 75.0, 65.0, 65.0, 75.0, 75.0, 75.0, 75.0, 65.0, 65.0, 65.0, 70.0, 70.0, 70.0, 55.0, 75.0, 65.0, 40.0, 65.0, 70.0, 70.0, 70.0, 75.0, 75.0, 75.0, 65.0, 65.0, 70.0, 70.0, 70.0, 65.0, 65.0, 70.0, 80.0, 70.0, 70.0, 65.0, 65.0, 70.0, 70.0, 65.0, 65.0, 85.0, 85.0, 85.0, 85.0, 85.0, 85.0, 85.0, 115.0, 85.0, 85.0, 85.0, 85.0, 85.0, 85.0, 85.0, 85.0, 85.0, 85.0, 40.0, 85.0, 85.0, 85.0, 85.0, 85.0, 85.0, 85.0, 85.0, 85.0, 85.0, 85.0, 70.0, 70.0, 75.0, 65.0, 75.0, 70.0, 65.0, 70.0, 70.0, 65.0, 75.0, 70.0, 85.0, 85.0, 85.0, 85.0, 85.0, 85.0, 70.0, 65.0, 70.0, 65.0, 70.0, 70.0, 65.0, 65.0, 70.0, 70.0, 70.0, 70.0, 65.0, 65.0, 70.0, 70.0, 70.0, 70.0, 70.0, 75.0, 75.0, 75.0, 70.0, 70.0, 75.0, 70.0, 75.0, 75.0, 90.0, 90.0, 90.0, 90.0, 90.0, 90.0, 90.0, 90.0, 90.0, 75.0, 75.0, 70.0, 70.0, 75.0, 75.0, 80.0, 75.0, 75.0, 80.0, 300.0, 80.0, 90.0, 80.0, 75.0, 75.0, 175.0, 175.0, 80.0, 80.0, 80.0, 80.0, 80.0, 75.0, 75.0, 80.0, 80.0, 80.0, 80.0, 80.0, 75.0, 85.0, 75.0, 80.0, 80.0, 80.0, 75.0, 90.0, 75.0, 90.0, 80.0, 90.0, 90.0, 80.0, 80.0, 90.0, 90.0, 90.0, 90.0, 75.0, 75.0, 80.0, 90.0, 90.0, 90.0, 80.0, 80.0, 90.0, 90.0, 90.0, 90.0, 80.0, 90.0, 85.0, 85.0, 90.0, 85.0, 90.0, 90.0, 225.0, 80.0, 80.0, 85.0, 85.0, 85.0, 80.0, 85.0, 85.0, 85.0, 80.0, 90.0, 80.0, 85.0, 85.0, 85.0, 80.0, 90.0, 80.0, 85.0, 85.0, 85.0, 85.0, 95.0, 95.0, 80.0, 85.0, 95.0, 95.0, 85.0, 80.0, 85.0, 95.0, 95.0, 95.0, 95.0, 95.0, 95.0, 80.0, 95.0, 95.0, 85.0, 80.0, 85.0, 85.0, 80.0, 80.0, 85.0, 85.0, 85.0, 80.0, 80.0, 85.0, 85.0, 85.0, 80.0, 80.0, 85.0, 85.0, 85.0, 80.0, 80.0, 85.0, 90.0, 90.0, 85.0, 85.0, 90.0, 90.0, 95.0, 95.0, 90.0, 85.0, 95.0, 85.0, 90.0, 90.0, 90.0, 85.0, 85.0, 90.0, 90.0, 90.0, 85.0, 90.0, 90.0, 85.0, 90.0, 90.0, 85.0, 85.0, 90.0, 90.0, 90.0, 85.0, 85.0, 90.0, 90.0, 90.0, 85.0, 85.0, 90.0, 95.0, 90.0, 90.0, 85.0, 85.0, 90.0, 90.0, 90.0, 85.0, 85.0, 90.0, 90.0, 90.0, 95.0, 85.0, 90.0, 95.0, 95.0, 95.0, 95.0, 95.0, 95.0, 95.0, 90.0, 90.0, 95.0, 95.0, 95.0, 95.0, 95.0, 95.0, 95.0, 95.0, 95.0, 95.0, 95.0, 95.0, 95.0, 95.0, 95.0, 95.0, 95.0, 95.0, 95.0, 95.0, 95.0, 95.0, 95.0, 95.0, 95.0, 95.0, 95.0, 95.0, 95.0, 95.0, 95.0, 95.0, 95.0, 95.0, 95.0, 95.0, 90.0, 95.0, 95.0, 95.0, 95.0, 95.0, 95.0, 95.0, 95.0, 95.0, 95.0, 95.0, 95.0, 95.0, 95.0, 95.0, 95.0, 95.0, 95.0, 95.0, 95.0, 95.0, 95.0, 95.0, 95.0, 95.0, 95.0, 95.0, 95.0, 90.0, 95.0, 95.0, 95.0, 95.0, 95.0, 95.0, 95.0, 95.0, 95.0, 115.0, 95.0, 95.0, 90.0, 95.0, 95.0, 95.0, 95.0, 90.0, 95.0, 95.0, 95.0, 95.0, 95.0, 95.0, 95.0, 95.0, 95.0, 95.0, 90.0, 95.0, 95.0, 95.0, 95.0, 95.0, 95.0, 95.0, 95.0, 90.0, 95.0, 95.0, 95.0, 95.0, 90.0, 90.0, 95.0, 95.0, 95.0, 95.0, 90.0, 90.0, 95.0, 95.0, 95.0, 95.0, 95.0, 90.0, 95.0, 38.29, 95.0, 95.0, 95.0, 95.0, 95.0, 95.0, 95.0, 95.0, 95.0, 95.0, 90.0, 95.0, 95.0, 95.0, 95.0, 95.0, 95.0, 95.0, 95.0, 95.0, 95.0, 95.0, 95.0, 95.0, 95.0, 95.0, 95.0, 95.0, 95.0, 95.0, 95.0, 95.0, 95.0, 95.0, 95.0, 95.0, 95.0, 95.0, 90.0, 90.0, 95.0, 95.0, 95.0, 90.0, 90.0, 95.0, 95.0, 95.0, 90.0, 90.0, 95.0, 95.0, 95.0, 95.0, 95.0, 95.0, 90.0, 90.0, 95.0, 95.0, 95.0, 95.0, 95.0, 95.0, 95.0, 95.0, 95.0, 105.0, 95.0, 90.0, 95.0, 90.0, 95.0, 95.0, 90.0, 95.0, 95.0, 95.0, 95.0, 95.0, 95.0, 95.0, 95.0, 95.0, 95.0, 95.0, 95.0, 95.0, 95.0, 95.0, 105.0, 90.0, 95.0, 95.0, 90.0, 95.0, 90.0, 95.0, 95.0, 90.0, 90.0, 95.0, 95.0, 95.0, 105.0, 95.0, 95.0, 95.0, 95.0, 95.0, 90.0, 95.0, 95.0, 95.0, 95.0, 95.0, 95.0, 95.0, 90.0, 90.0, 95.0, 95.0, 95.0, 90.0, 90.0, 95.0, 95.0, 95.0, 95.0, 90.0, 90.0, 95.0, 95.0, 95.0, 90.0, 95.0, 90.0, 100.0, 105.0, 95.0, 100.0, 95.0, 95.0, 90.0, 90.0, 95.0, 95.0, 100.0, 100.0, 100.0, 95.0, 100.0, 90.0, 100.0, 100.0, 100.0, 100.0, 100.0, 100.0, 100.0, 100.0, 100.0, 100.0, 90.0, 100.0, 100.0, 100.0, 100.0, 100.0, 100.0, 100.0, 100.0, 100.0, 100.0, 100.0, 100.0, 95.0, 100.0, 95.0, 100.0, 100.0, 95.0, 100.0, 100.0, 90.0, 90.0, 100.0, 95.0, 100.0, 95.0, 100.0, 95.0, 90.0, 90.0, 100.0, 100.0, 100.0, 100.0, 100.0, 100.0, 95.0, 95.0, 95.0, 90.0, 90.0, 95.0, 95.0, 95.0, 100.0, 90.0, 90.0, 95.0, 100.0, 95.0, 115.0, 95.0, 90.0, 90.0, 95.0, 95.0, 115.0, 95.0, 90.0, 90.0, 100.0, 100.0, 95.0, 95.0, 100.0, 100.0, 100.0, 100.0, 100.0, 95.0, 100.0, 100.0, 100.0, 100.0, 100.0, 100.0, 100.0, 100.0, 100.0, 95.0, 100.0, 100.0, 95.0, 95.0, 100.0, 100.0, 100.0, 105.0, 105.0, 105.0, 105.0, 105.0, 95.0, 100.0, 105.0, 105.0, 105.0, 105.0, 100.0, 100.0, 95.0, 95.0, 105.0, 100.0, 110.0, 100.0, 95.0, 95.0, 100.0, 100.0, 95.0, 100.0, 100.0, 100.0, 115.0, 115.0, 95.0, 115.0, 115.0, 115.0, 115.0, 95.0, 100.0, 100.0, 100.0, 115.0, 95.0, 95.0, 205.0, 100.0, 100.0, 100.0, 95.0, 95.0, 100.0, 100.0, 100.0, 95.0, 95.0, 115.0, 100.0, 105.0, 115.0, 105.0, 100.0, 115.0, 100.0, 105.0, 105.0, 100.0, 115.0, 125.0, 125.0, 125.0, 125.0, 125.0, 105.0, 125.0, 125.0, 105.0, 105.0, 105.0, 105.0, 110.0, 110.0, 125.0, 105.0, 110.0, 115.0, 115.0, 110.0, 85.0, 115.0, 110.0, 110.0, 110.0, 115.0, 115.0, 115.0, 110.0, 85.0, 110.0, 85.0, 115.0, 115.0, 115.0, 110.0, 115.0, 115.0, 90.0, 90.0, 115.0, 110.0, 115.0, 90.0, 115.0, 110.0, 115.0, 90.0, 110.0, 115.0, 115.0, 115.0, 110.0, 110.0, 115.0, 115.0, 115.0, 110.0, 110.0, 115.0, 90.0, 115.0, 90.0, 115.0, 110.0, 110.0, 115.0, 115.0, 120.0, 115.0, 115.0, 120.0, 115.0, 115.0, 120.0, 120.0, 115.0, 125.0, 125.0, 115.0, 120.0, 120.0, 125.0, 115.0, 120.0, 120.0, 120.0, 120.0, 115.0, 120.0, 125.0, 125.0, 125.0, 125.0, 120.0, 120.0, 125.0, 127.5, 130.0, 135.0, 135.0, 140.0, 135.0, 140.0, 140.0, 140.0, 135.0, 135.0, 140.0, 145.0, 115.0, 115.0, 115.0, 25.0, 152.5, 170.0, 140.0, 175.0, 175.0, 175.0, 115.0, 115.0, 175.0, 120.0, 125.0, 425.0, 130.0, 4000.0]}], {\"showlegend\": false, \"yaxis\": {\"tickfont\": {\"size\": 20}, \"title\": \"Number of Cases\", \"titlefont\": {\"size\": 24}, \"dtick\": 40, \"showgrid\": false}, \"title\": \"Distribution of Total Notary Fee\", \"barmode\": \"overlay\", \"titlefont\": {\"size\": 24}, \"xaxis\": {\"tickfont\": {\"size\": 20}, \"titlefont\": {\"size\": 24}, \"title\": \"Total Notary Fee\"}}, {\"linkText\": \"Export to plot.ly\", \"showLink\": true})});</script>"
      ],
      "text/plain": [
       "<IPython.core.display.HTML object>"
      ]
     },
     "metadata": {},
     "output_type": "display_data"
    },
    {
     "data": {
      "text/html": [
       "<div>\n",
       "<table border=\"1\" class=\"dataframe\">\n",
       "  <thead>\n",
       "    <tr style=\"text-align: right;\">\n",
       "      <th></th>\n",
       "      <th>order_id</th>\n",
       "      <th>completed_status</th>\n",
       "      <th>state</th>\n",
       "      <th>company_id</th>\n",
       "      <th>notary_id</th>\n",
       "      <th>total_notary_fee</th>\n",
       "      <th>city</th>\n",
       "      <th>appointment_date</th>\n",
       "      <th>product_name</th>\n",
       "      <th>travel_distance</th>\n",
       "      <th>docs_to_notary_sent</th>\n",
       "      <th>weekday</th>\n",
       "    </tr>\n",
       "  </thead>\n",
       "  <tbody>\n",
       "    <tr>\n",
       "      <th>1321</th>\n",
       "      <td>594167</td>\n",
       "      <td>completed</td>\n",
       "      <td>TN</td>\n",
       "      <td>3</td>\n",
       "      <td>50133.0</td>\n",
       "      <td>425.0</td>\n",
       "      <td>SEVIERVILLE</td>\n",
       "      <td>2016-08-26</td>\n",
       "      <td>refinance</td>\n",
       "      <td>8.599854</td>\n",
       "      <td>sent</td>\n",
       "      <td>4</td>\n",
       "    </tr>\n",
       "    <tr>\n",
       "      <th>1324</th>\n",
       "      <td>596322</td>\n",
       "      <td>completed</td>\n",
       "      <td>TN</td>\n",
       "      <td>2</td>\n",
       "      <td>59612.0</td>\n",
       "      <td>4000.0</td>\n",
       "      <td>Franklin</td>\n",
       "      <td>2016-08-31</td>\n",
       "      <td>refinance</td>\n",
       "      <td>13.770810</td>\n",
       "      <td>sent_by_client</td>\n",
       "      <td>2</td>\n",
       "    </tr>\n",
       "  </tbody>\n",
       "</table>\n",
       "</div>"
      ],
      "text/plain": [
       "      order_id completed_status state  company_id  notary_id  \\\n",
       "1321    594167        completed    TN           3    50133.0   \n",
       "1324    596322        completed    TN           2    59612.0   \n",
       "\n",
       "      total_notary_fee         city appointment_date product_name  \\\n",
       "1321             425.0  SEVIERVILLE       2016-08-26    refinance   \n",
       "1324            4000.0    Franklin        2016-08-31    refinance   \n",
       "\n",
       "      travel_distance docs_to_notary_sent  weekday  \n",
       "1321         8.599854                sent        4  \n",
       "1324        13.770810      sent_by_client        2  "
      ]
     },
     "execution_count": 22,
     "metadata": {},
     "output_type": "execute_result"
    }
   ],
   "source": [
    "plot_histogram(orders_completed['total_notary_fee'], 'All', 'Total Notary Fee', 'Number of Cases', 'Distribution of Total Notary Fee')\n",
    "orders_completed[orders_completed['total_notary_fee'] > 400]"
   ]
  },
  {
   "cell_type": "code",
   "execution_count": 23,
   "metadata": {
    "collapsed": true
   },
   "outputs": [],
   "source": [
    "orders_completed = orders_completed[orders_completed['total_notary_fee'] < (np.mean(orders_completed['total_notary_fee']) + 2*np.std(orders_completed['total_notary_fee']))]\n"
   ]
  },
  {
   "cell_type": "markdown",
   "metadata": {},
   "source": [
    "After removing these points, I plot the distribution of notary fees and find that the distribution is not as skewed. I decide to use the data as is for now."
   ]
  },
  {
   "cell_type": "code",
   "execution_count": 24,
   "metadata": {
    "collapsed": false
   },
   "outputs": [
    {
     "data": {
      "text/html": [
       "<div id=\"5b1b8acc-d676-439b-a1e5-3f0ed168eba7\" style=\"height: 525px; width: 100%;\" class=\"plotly-graph-div\"></div><script type=\"text/javascript\">require([\"plotly\"], function(Plotly) { window.PLOTLYENV=window.PLOTLYENV || {};window.PLOTLYENV.BASE_URL=\"https://plot.ly\";Plotly.newPlot(\"5b1b8acc-d676-439b-a1e5-3f0ed168eba7\", [{\"opacity\": 0.75, \"marker\": {\"color\": \"rgb(125, 70, 200)\"}, \"type\": \"histogram\", \"name\": \"All-no outliers\", \"x\": [115.0, 100.0, 75.0, 100.0, 105.0, 105.0, 110.0, 0.0, 110.0, 170.0, 70.0, 70.0, 75.0, 0.0, 0.0, 20.0, 25.0, 75.0, 30.0, 30.0, 30.0, 35.0, 35.0, 40.0, 45.0, 45.0, 50.0, 60.0, 60.0, 55.0, 55.0, 60.0, 60.0, 55.0, 75.0, 60.0, 115.0, 115.0, 75.0, 65.0, 65.0, 75.0, 75.0, 75.0, 75.0, 65.0, 65.0, 65.0, 70.0, 70.0, 70.0, 55.0, 75.0, 65.0, 40.0, 65.0, 70.0, 70.0, 70.0, 75.0, 75.0, 75.0, 65.0, 65.0, 70.0, 70.0, 70.0, 65.0, 65.0, 70.0, 80.0, 70.0, 70.0, 65.0, 65.0, 70.0, 70.0, 65.0, 65.0, 85.0, 85.0, 85.0, 85.0, 85.0, 85.0, 85.0, 115.0, 85.0, 85.0, 85.0, 85.0, 85.0, 85.0, 85.0, 85.0, 85.0, 85.0, 40.0, 85.0, 85.0, 85.0, 85.0, 85.0, 85.0, 85.0, 85.0, 85.0, 85.0, 85.0, 70.0, 70.0, 75.0, 65.0, 75.0, 70.0, 65.0, 70.0, 70.0, 65.0, 75.0, 70.0, 85.0, 85.0, 85.0, 85.0, 85.0, 85.0, 70.0, 65.0, 70.0, 65.0, 70.0, 70.0, 65.0, 65.0, 70.0, 70.0, 70.0, 70.0, 65.0, 65.0, 70.0, 70.0, 70.0, 70.0, 70.0, 75.0, 75.0, 75.0, 70.0, 70.0, 75.0, 70.0, 75.0, 75.0, 90.0, 90.0, 90.0, 90.0, 90.0, 90.0, 90.0, 90.0, 90.0, 75.0, 75.0, 70.0, 70.0, 75.0, 75.0, 80.0, 75.0, 75.0, 80.0, 300.0, 80.0, 90.0, 80.0, 75.0, 75.0, 175.0, 175.0, 80.0, 80.0, 80.0, 80.0, 80.0, 75.0, 75.0, 80.0, 80.0, 80.0, 80.0, 80.0, 75.0, 85.0, 75.0, 80.0, 80.0, 80.0, 75.0, 90.0, 75.0, 90.0, 80.0, 90.0, 90.0, 80.0, 80.0, 90.0, 90.0, 90.0, 90.0, 75.0, 75.0, 80.0, 90.0, 90.0, 90.0, 80.0, 80.0, 90.0, 90.0, 90.0, 90.0, 80.0, 90.0, 85.0, 85.0, 90.0, 85.0, 90.0, 90.0, 225.0, 80.0, 80.0, 85.0, 85.0, 85.0, 80.0, 85.0, 85.0, 85.0, 80.0, 90.0, 80.0, 85.0, 85.0, 85.0, 80.0, 90.0, 80.0, 85.0, 85.0, 85.0, 85.0, 95.0, 95.0, 80.0, 85.0, 95.0, 95.0, 85.0, 80.0, 85.0, 95.0, 95.0, 95.0, 95.0, 95.0, 95.0, 80.0, 95.0, 95.0, 85.0, 80.0, 85.0, 85.0, 80.0, 80.0, 85.0, 85.0, 85.0, 80.0, 80.0, 85.0, 85.0, 85.0, 80.0, 80.0, 85.0, 85.0, 85.0, 80.0, 80.0, 85.0, 90.0, 90.0, 85.0, 85.0, 90.0, 90.0, 95.0, 95.0, 90.0, 85.0, 95.0, 85.0, 90.0, 90.0, 90.0, 85.0, 85.0, 90.0, 90.0, 90.0, 85.0, 90.0, 90.0, 85.0, 90.0, 90.0, 85.0, 85.0, 90.0, 90.0, 90.0, 85.0, 85.0, 90.0, 90.0, 90.0, 85.0, 85.0, 90.0, 95.0, 90.0, 90.0, 85.0, 85.0, 90.0, 90.0, 90.0, 85.0, 85.0, 90.0, 90.0, 90.0, 95.0, 85.0, 90.0, 95.0, 95.0, 95.0, 95.0, 95.0, 95.0, 95.0, 90.0, 90.0, 95.0, 95.0, 95.0, 95.0, 95.0, 95.0, 95.0, 95.0, 95.0, 95.0, 95.0, 95.0, 95.0, 95.0, 95.0, 95.0, 95.0, 95.0, 95.0, 95.0, 95.0, 95.0, 95.0, 95.0, 95.0, 95.0, 95.0, 95.0, 95.0, 95.0, 95.0, 95.0, 95.0, 95.0, 95.0, 95.0, 90.0, 95.0, 95.0, 95.0, 95.0, 95.0, 95.0, 95.0, 95.0, 95.0, 95.0, 95.0, 95.0, 95.0, 95.0, 95.0, 95.0, 95.0, 95.0, 95.0, 95.0, 95.0, 95.0, 95.0, 95.0, 95.0, 95.0, 95.0, 95.0, 90.0, 95.0, 95.0, 95.0, 95.0, 95.0, 95.0, 95.0, 95.0, 95.0, 115.0, 95.0, 95.0, 90.0, 95.0, 95.0, 95.0, 95.0, 90.0, 95.0, 95.0, 95.0, 95.0, 95.0, 95.0, 95.0, 95.0, 95.0, 95.0, 90.0, 95.0, 95.0, 95.0, 95.0, 95.0, 95.0, 95.0, 95.0, 90.0, 95.0, 95.0, 95.0, 95.0, 90.0, 90.0, 95.0, 95.0, 95.0, 95.0, 90.0, 90.0, 95.0, 95.0, 95.0, 95.0, 95.0, 90.0, 95.0, 38.29, 95.0, 95.0, 95.0, 95.0, 95.0, 95.0, 95.0, 95.0, 95.0, 95.0, 90.0, 95.0, 95.0, 95.0, 95.0, 95.0, 95.0, 95.0, 95.0, 95.0, 95.0, 95.0, 95.0, 95.0, 95.0, 95.0, 95.0, 95.0, 95.0, 95.0, 95.0, 95.0, 95.0, 95.0, 95.0, 95.0, 95.0, 95.0, 90.0, 90.0, 95.0, 95.0, 95.0, 90.0, 90.0, 95.0, 95.0, 95.0, 90.0, 90.0, 95.0, 95.0, 95.0, 95.0, 95.0, 95.0, 90.0, 90.0, 95.0, 95.0, 95.0, 95.0, 95.0, 95.0, 95.0, 95.0, 95.0, 105.0, 95.0, 90.0, 95.0, 90.0, 95.0, 95.0, 90.0, 95.0, 95.0, 95.0, 95.0, 95.0, 95.0, 95.0, 95.0, 95.0, 95.0, 95.0, 95.0, 95.0, 95.0, 95.0, 105.0, 90.0, 95.0, 95.0, 90.0, 95.0, 90.0, 95.0, 95.0, 90.0, 90.0, 95.0, 95.0, 95.0, 105.0, 95.0, 95.0, 95.0, 95.0, 95.0, 90.0, 95.0, 95.0, 95.0, 95.0, 95.0, 95.0, 95.0, 90.0, 90.0, 95.0, 95.0, 95.0, 90.0, 90.0, 95.0, 95.0, 95.0, 95.0, 90.0, 90.0, 95.0, 95.0, 95.0, 90.0, 95.0, 90.0, 100.0, 105.0, 95.0, 100.0, 95.0, 95.0, 90.0, 90.0, 95.0, 95.0, 100.0, 100.0, 100.0, 95.0, 100.0, 90.0, 100.0, 100.0, 100.0, 100.0, 100.0, 100.0, 100.0, 100.0, 100.0, 100.0, 90.0, 100.0, 100.0, 100.0, 100.0, 100.0, 100.0, 100.0, 100.0, 100.0, 100.0, 100.0, 100.0, 95.0, 100.0, 95.0, 100.0, 100.0, 95.0, 100.0, 100.0, 90.0, 90.0, 100.0, 95.0, 100.0, 95.0, 100.0, 95.0, 90.0, 90.0, 100.0, 100.0, 100.0, 100.0, 100.0, 100.0, 95.0, 95.0, 95.0, 90.0, 90.0, 95.0, 95.0, 95.0, 100.0, 90.0, 90.0, 95.0, 100.0, 95.0, 115.0, 95.0, 90.0, 90.0, 95.0, 95.0, 115.0, 95.0, 90.0, 90.0, 100.0, 100.0, 95.0, 95.0, 100.0, 100.0, 100.0, 100.0, 100.0, 95.0, 100.0, 100.0, 100.0, 100.0, 100.0, 100.0, 100.0, 100.0, 100.0, 95.0, 100.0, 100.0, 95.0, 95.0, 100.0, 100.0, 100.0, 105.0, 105.0, 105.0, 105.0, 105.0, 95.0, 100.0, 105.0, 105.0, 105.0, 105.0, 100.0, 100.0, 95.0, 95.0, 105.0, 100.0, 110.0, 100.0, 95.0, 95.0, 100.0, 100.0, 95.0, 100.0, 100.0, 100.0, 115.0, 115.0, 95.0, 115.0, 115.0, 115.0, 115.0, 95.0, 100.0, 100.0, 100.0, 115.0, 95.0, 95.0, 205.0, 100.0, 100.0, 100.0, 95.0, 95.0, 100.0, 100.0, 100.0, 95.0, 95.0, 115.0, 100.0, 105.0, 115.0, 105.0, 100.0, 115.0, 100.0, 105.0, 105.0, 100.0, 115.0, 125.0, 125.0, 125.0, 125.0, 125.0, 105.0, 125.0, 125.0, 105.0, 105.0, 105.0, 105.0, 110.0, 110.0, 125.0, 105.0, 110.0, 115.0, 115.0, 110.0, 85.0, 115.0, 110.0, 110.0, 110.0, 115.0, 115.0, 115.0, 110.0, 85.0, 110.0, 85.0, 115.0, 115.0, 115.0, 110.0, 115.0, 115.0, 90.0, 90.0, 115.0, 110.0, 115.0, 90.0, 115.0, 110.0, 115.0, 90.0, 110.0, 115.0, 115.0, 115.0, 110.0, 110.0, 115.0, 115.0, 115.0, 110.0, 110.0, 115.0, 90.0, 115.0, 90.0, 115.0, 110.0, 110.0, 115.0, 115.0, 120.0, 115.0, 115.0, 120.0, 115.0, 115.0, 120.0, 120.0, 115.0, 125.0, 125.0, 115.0, 120.0, 120.0, 125.0, 115.0, 120.0, 120.0, 120.0, 120.0, 115.0, 120.0, 125.0, 125.0, 125.0, 125.0, 120.0, 120.0, 125.0, 127.5, 130.0, 135.0, 135.0, 140.0, 135.0, 140.0, 140.0, 140.0, 135.0, 135.0, 140.0, 145.0, 115.0, 115.0, 115.0, 25.0, 152.5, 170.0, 140.0, 175.0, 175.0, 175.0, 115.0, 115.0, 175.0, 120.0, 125.0, 130.0]}], {\"showlegend\": false, \"yaxis\": {\"tickfont\": {\"size\": 20}, \"title\": \"Number of Cases\", \"titlefont\": {\"size\": 24}, \"dtick\": 40, \"showgrid\": false}, \"title\": \"Distribution of Total Notary Fee\", \"barmode\": \"overlay\", \"titlefont\": {\"size\": 24}, \"xaxis\": {\"tickfont\": {\"size\": 20}, \"titlefont\": {\"size\": 24}, \"title\": \"Total Notary Fee\"}}, {\"linkText\": \"Export to plot.ly\", \"showLink\": true})});</script>"
      ],
      "text/plain": [
       "<IPython.core.display.HTML object>"
      ]
     },
     "metadata": {},
     "output_type": "display_data"
    }
   ],
   "source": [
    "plot_histogram(orders_completed['total_notary_fee'], 'All-no outliers', 'Total Notary Fee', 'Number of Cases', 'Distribution of Total Notary Fee')\n"
   ]
  },
  {
   "cell_type": "markdown",
   "metadata": {},
   "source": [
    "While I am on this, I also look at the distribution of the notary fees for the 3 different purchase types, and see that their distributions seem quite distinct, which could potentially mean that it might be a useful feature at predicting price."
   ]
  },
  {
   "cell_type": "code",
   "execution_count": 25,
   "metadata": {
    "collapsed": false
   },
   "outputs": [
    {
     "data": {
      "text/html": [
       "<div id=\"d40562ba-0816-4f09-8358-b487084dcea0\" style=\"height: 525px; width: 100%;\" class=\"plotly-graph-div\"></div><script type=\"text/javascript\">require([\"plotly\"], function(Plotly) { window.PLOTLYENV=window.PLOTLYENV || {};window.PLOTLYENV.BASE_URL=\"https://plot.ly\";Plotly.newPlot(\"d40562ba-0816-4f09-8358-b487084dcea0\", [{\"opacity\": 0.75, \"marker\": {\"color\": \"rgb(125, 70, 200)\"}, \"type\": \"histogram\", \"name\": \"Purchases\", \"x\": [70.0, 70.0, 75.0, 0.0, 20.0, 75.0, 30.0, 30.0, 35.0, 45.0, 45.0, 50.0, 60.0, 60.0, 55.0, 55.0, 60.0, 60.0, 55.0, 75.0, 60.0, 65.0, 65.0, 75.0, 65.0, 65.0, 65.0, 70.0, 70.0, 70.0, 65.0, 65.0, 70.0, 70.0, 70.0, 65.0, 65.0, 70.0, 70.0, 70.0, 65.0, 65.0, 70.0, 70.0, 70.0, 65.0, 65.0, 70.0, 70.0, 65.0, 65.0, 70.0, 70.0, 75.0, 65.0, 75.0, 70.0, 65.0, 70.0, 70.0, 65.0, 75.0, 70.0, 70.0, 65.0, 70.0, 65.0, 70.0, 70.0, 65.0, 65.0, 70.0, 70.0, 70.0, 70.0, 65.0, 65.0, 70.0, 70.0, 70.0, 70.0, 70.0, 75.0, 75.0, 75.0, 70.0, 70.0, 75.0, 70.0, 80.0, 75.0, 75.0, 80.0, 80.0, 80.0, 75.0, 75.0, 80.0, 80.0, 80.0, 80.0, 80.0, 75.0, 75.0, 80.0, 80.0, 80.0, 80.0, 80.0, 75.0, 85.0, 75.0, 80.0, 80.0, 80.0, 75.0, 75.0, 80.0, 80.0, 75.0, 80.0, 80.0, 80.0, 80.0, 85.0, 85.0, 85.0, 80.0, 80.0, 85.0, 85.0, 85.0, 80.0, 85.0, 85.0, 85.0, 80.0, 80.0, 85.0, 85.0, 85.0, 80.0, 80.0, 85.0, 85.0, 80.0, 85.0, 85.0, 85.0, 80.0, 85.0, 80.0, 85.0, 85.0, 80.0, 80.0, 85.0, 90.0, 90.0, 85.0, 85.0, 90.0, 90.0, 90.0, 85.0, 85.0, 90.0, 90.0, 90.0, 85.0, 85.0, 90.0, 85.0, 90.0, 90.0, 90.0, 90.0, 85.0, 85.0, 90.0, 90.0, 90.0, 85.0, 85.0, 90.0, 85.0, 90.0, 90.0, 95.0, 95.0, 90.0, 90.0, 95.0, 95.0, 95.0, 90.0, 95.0, 100.0, 95.0, 100.0, 100.0, 95.0, 100.0, 100.0, 95.0, 105.0, 100.0, 100.0, 105.0, 105.0, 105.0, 105.0, 105.0, 110.0, 110.0, 105.0, 110.0, 85.0, 85.0, 110.0, 85.0, 110.0, 90.0, 90.0, 90.0, 90.0, 110.0, 115.0, 90.0, 90.0, 115.0, 120.0, 115.0, 115.0, 120.0, 115.0, 115.0, 120.0, 120.0, 120.0, 115.0, 120.0, 120.0, 120.0, 120.0]}], {\"showlegend\": false, \"yaxis\": {\"tickfont\": {\"size\": 20}, \"title\": \"Number of Cases\", \"titlefont\": {\"size\": 24}, \"dtick\": 40, \"showgrid\": false}, \"title\": \"Distribution of Total Notary Fee for purchases\", \"barmode\": \"overlay\", \"titlefont\": {\"size\": 24}, \"xaxis\": {\"tickfont\": {\"size\": 20}, \"titlefont\": {\"size\": 24}, \"title\": \"Total Notary Fee for purchases\"}}, {\"linkText\": \"Export to plot.ly\", \"showLink\": true})});</script>"
      ],
      "text/plain": [
       "<IPython.core.display.HTML object>"
      ]
     },
     "metadata": {},
     "output_type": "display_data"
    },
    {
     "data": {
      "text/html": [
       "<div id=\"24777a40-7d2c-4ff3-a3ec-9173c3bbf6de\" style=\"height: 525px; width: 100%;\" class=\"plotly-graph-div\"></div><script type=\"text/javascript\">require([\"plotly\"], function(Plotly) { window.PLOTLYENV=window.PLOTLYENV || {};window.PLOTLYENV.BASE_URL=\"https://plot.ly\";Plotly.newPlot(\"24777a40-7d2c-4ff3-a3ec-9173c3bbf6de\", [{\"opacity\": 0.75, \"marker\": {\"color\": \"rgb(125, 70, 200)\"}, \"type\": \"histogram\", \"name\": \"Refinance\", \"x\": [115.0, 75.0, 170.0, 40.0, 75.0, 75.0, 75.0, 75.0, 55.0, 75.0, 40.0, 75.0, 75.0, 75.0, 80.0, 85.0, 85.0, 85.0, 85.0, 85.0, 85.0, 85.0, 115.0, 85.0, 85.0, 85.0, 85.0, 85.0, 85.0, 85.0, 85.0, 85.0, 85.0, 40.0, 85.0, 85.0, 85.0, 85.0, 85.0, 85.0, 85.0, 85.0, 85.0, 85.0, 85.0, 85.0, 85.0, 85.0, 85.0, 85.0, 85.0, 75.0, 75.0, 90.0, 90.0, 90.0, 90.0, 90.0, 90.0, 90.0, 90.0, 90.0, 75.0, 75.0, 70.0, 70.0, 75.0, 75.0, 300.0, 90.0, 175.0, 175.0, 90.0, 90.0, 80.0, 90.0, 90.0, 90.0, 90.0, 90.0, 90.0, 75.0, 90.0, 90.0, 90.0, 90.0, 90.0, 90.0, 90.0, 90.0, 90.0, 90.0, 90.0, 225.0, 90.0, 90.0, 85.0, 85.0, 95.0, 95.0, 85.0, 95.0, 95.0, 85.0, 80.0, 95.0, 95.0, 95.0, 95.0, 95.0, 95.0, 80.0, 95.0, 95.0, 80.0, 85.0, 80.0, 85.0, 85.0, 80.0, 85.0, 80.0, 80.0, 85.0, 85.0, 85.0, 95.0, 95.0, 95.0, 90.0, 90.0, 85.0, 90.0, 90.0, 85.0, 90.0, 90.0, 85.0, 85.0, 85.0, 90.0, 90.0, 95.0, 90.0, 90.0, 90.0, 85.0, 85.0, 90.0, 90.0, 95.0, 95.0, 95.0, 95.0, 95.0, 95.0, 95.0, 95.0, 90.0, 90.0, 95.0, 95.0, 95.0, 95.0, 95.0, 95.0, 95.0, 95.0, 95.0, 95.0, 95.0, 95.0, 95.0, 95.0, 95.0, 95.0, 95.0, 95.0, 95.0, 95.0, 95.0, 95.0, 95.0, 95.0, 95.0, 95.0, 95.0, 95.0, 95.0, 95.0, 95.0, 95.0, 95.0, 95.0, 95.0, 95.0, 95.0, 95.0, 95.0, 95.0, 95.0, 95.0, 95.0, 95.0, 95.0, 95.0, 95.0, 95.0, 95.0, 95.0, 95.0, 95.0, 95.0, 95.0, 95.0, 95.0, 95.0, 95.0, 95.0, 95.0, 95.0, 95.0, 95.0, 95.0, 90.0, 95.0, 95.0, 95.0, 95.0, 95.0, 95.0, 95.0, 95.0, 95.0, 115.0, 95.0, 95.0, 90.0, 95.0, 95.0, 95.0, 95.0, 90.0, 95.0, 95.0, 95.0, 95.0, 95.0, 95.0, 95.0, 95.0, 95.0, 90.0, 95.0, 95.0, 95.0, 95.0, 95.0, 95.0, 95.0, 95.0, 90.0, 95.0, 95.0, 95.0, 95.0, 90.0, 90.0, 95.0, 95.0, 95.0, 95.0, 90.0, 90.0, 95.0, 95.0, 95.0, 95.0, 95.0, 90.0, 95.0, 38.29, 95.0, 95.0, 95.0, 95.0, 95.0, 95.0, 95.0, 95.0, 95.0, 95.0, 90.0, 95.0, 95.0, 95.0, 95.0, 95.0, 95.0, 95.0, 95.0, 95.0, 95.0, 95.0, 95.0, 95.0, 95.0, 95.0, 95.0, 95.0, 95.0, 95.0, 95.0, 95.0, 95.0, 95.0, 95.0, 95.0, 95.0, 95.0, 90.0, 90.0, 95.0, 95.0, 95.0, 90.0, 90.0, 95.0, 95.0, 95.0, 90.0, 90.0, 95.0, 95.0, 95.0, 95.0, 95.0, 95.0, 90.0, 90.0, 95.0, 95.0, 95.0, 95.0, 95.0, 95.0, 95.0, 95.0, 95.0, 105.0, 95.0, 90.0, 95.0, 90.0, 95.0, 95.0, 90.0, 95.0, 95.0, 95.0, 95.0, 95.0, 95.0, 95.0, 95.0, 95.0, 95.0, 95.0, 95.0, 95.0, 95.0, 95.0, 105.0, 90.0, 95.0, 95.0, 90.0, 95.0, 90.0, 95.0, 95.0, 90.0, 90.0, 95.0, 95.0, 95.0, 105.0, 95.0, 95.0, 95.0, 95.0, 95.0, 90.0, 95.0, 95.0, 95.0, 95.0, 95.0, 95.0, 95.0, 90.0, 90.0, 95.0, 95.0, 95.0, 90.0, 90.0, 95.0, 95.0, 95.0, 90.0, 90.0, 95.0, 95.0, 95.0, 90.0, 95.0, 90.0, 100.0, 105.0, 95.0, 100.0, 95.0, 95.0, 90.0, 90.0, 95.0, 95.0, 100.0, 100.0, 100.0, 95.0, 100.0, 100.0, 100.0, 100.0, 100.0, 100.0, 100.0, 100.0, 100.0, 100.0, 100.0, 100.0, 100.0, 100.0, 100.0, 100.0, 100.0, 100.0, 100.0, 100.0, 100.0, 100.0, 100.0, 95.0, 100.0, 95.0, 100.0, 100.0, 95.0, 100.0, 100.0, 90.0, 90.0, 100.0, 95.0, 100.0, 95.0, 100.0, 95.0, 90.0, 90.0, 100.0, 100.0, 100.0, 100.0, 100.0, 100.0, 90.0, 90.0, 95.0, 95.0, 95.0, 100.0, 90.0, 95.0, 100.0, 95.0, 115.0, 95.0, 90.0, 90.0, 95.0, 115.0, 95.0, 90.0, 90.0, 100.0, 95.0, 95.0, 100.0, 100.0, 100.0, 100.0, 100.0, 95.0, 100.0, 100.0, 100.0, 100.0, 100.0, 100.0, 100.0, 100.0, 100.0, 100.0, 100.0, 95.0, 95.0, 100.0, 100.0, 105.0, 105.0, 105.0, 105.0, 105.0, 95.0, 100.0, 105.0, 105.0, 105.0, 105.0, 100.0, 95.0, 105.0, 100.0, 110.0, 100.0, 95.0, 95.0, 100.0, 100.0, 95.0, 100.0, 100.0, 100.0, 95.0, 95.0, 100.0, 100.0, 100.0, 95.0, 95.0, 100.0, 100.0, 95.0, 95.0, 100.0, 100.0, 95.0, 100.0, 105.0, 105.0, 105.0, 100.0, 110.0, 115.0, 115.0, 115.0, 110.0, 110.0, 110.0, 115.0, 115.0, 115.0, 115.0, 115.0, 115.0, 115.0, 110.0, 115.0, 110.0, 115.0, 120.0, 115.0, 115.0, 115.0, 170.0, 175.0, 175.0, 115.0, 115.0, 175.0, 120.0, 125.0, 130.0]}], {\"showlegend\": false, \"yaxis\": {\"tickfont\": {\"size\": 20}, \"title\": \"Number of Cases\", \"titlefont\": {\"size\": 24}, \"dtick\": 40, \"showgrid\": false}, \"title\": \"Distribution of Total Notary Fee for refinances\", \"barmode\": \"overlay\", \"titlefont\": {\"size\": 24}, \"xaxis\": {\"tickfont\": {\"size\": 20}, \"titlefont\": {\"size\": 24}, \"title\": \"Total Notary Fee\"}}, {\"linkText\": \"Export to plot.ly\", \"showLink\": true})});</script>"
      ],
      "text/plain": [
       "<IPython.core.display.HTML object>"
      ]
     },
     "metadata": {},
     "output_type": "display_data"
    },
    {
     "data": {
      "text/html": [
       "<div id=\"490b0ce3-aa1a-4fa7-998c-b799eae9108b\" style=\"height: 525px; width: 100%;\" class=\"plotly-graph-div\"></div><script type=\"text/javascript\">require([\"plotly\"], function(Plotly) { window.PLOTLYENV=window.PLOTLYENV || {};window.PLOTLYENV.BASE_URL=\"https://plot.ly\";Plotly.newPlot(\"490b0ce3-aa1a-4fa7-998c-b799eae9108b\", [{\"opacity\": 0.75, \"marker\": {\"color\": \"rgb(125, 70, 200)\"}, \"type\": \"histogram\", \"name\": \"Mortgage\", \"x\": [100.0, 100.0, 105.0, 105.0, 110.0, 0.0, 110.0, 0.0, 25.0, 30.0, 35.0, 115.0, 115.0, 115.0, 115.0, 115.0, 115.0, 115.0, 115.0, 115.0, 205.0, 115.0, 115.0, 115.0, 115.0, 125.0, 125.0, 125.0, 125.0, 125.0, 125.0, 125.0, 125.0, 115.0, 115.0, 110.0, 115.0, 115.0, 115.0, 110.0, 115.0, 115.0, 110.0, 110.0, 115.0, 115.0, 115.0, 110.0, 110.0, 115.0, 115.0, 110.0, 115.0, 115.0, 125.0, 125.0, 120.0, 125.0, 120.0, 115.0, 125.0, 125.0, 125.0, 125.0, 120.0, 125.0, 127.5, 130.0, 135.0, 135.0, 140.0, 135.0, 140.0, 140.0, 140.0, 135.0, 135.0, 140.0, 145.0, 25.0, 152.5, 140.0, 175.0]}], {\"showlegend\": false, \"yaxis\": {\"tickfont\": {\"size\": 20}, \"title\": \"Number of Cases\", \"titlefont\": {\"size\": 24}, \"dtick\": 40, \"showgrid\": false}, \"title\": \"Distribution of Total Notary Fee for reverse mortgages\", \"barmode\": \"overlay\", \"titlefont\": {\"size\": 24}, \"xaxis\": {\"tickfont\": {\"size\": 20}, \"titlefont\": {\"size\": 24}, \"title\": \"Total Notary Fee\"}}, {\"linkText\": \"Export to plot.ly\", \"showLink\": true})});</script>"
      ],
      "text/plain": [
       "<IPython.core.display.HTML object>"
      ]
     },
     "metadata": {},
     "output_type": "display_data"
    }
   ],
   "source": [
    "plot_histogram(orders_completed[orders_completed['product_name']=='purchase']['total_notary_fee'], 'Purchases', 'Total Notary Fee for purchases', 'Number of Cases', 'Distribution of Total Notary Fee for purchases')\n",
    "plot_histogram(orders_completed[orders_completed['product_name']=='refinance']['total_notary_fee'], 'Refinance', 'Total Notary Fee', 'Number of Cases', 'Distribution of Total Notary Fee for refinances')\n",
    "plot_histogram(orders_completed[orders_completed['product_name']=='reverse mortgage']['total_notary_fee'], 'Mortgage', 'Total Notary Fee', 'Number of Cases', 'Distribution of Total Notary Fee for reverse mortgages')\n"
   ]
  },
  {
   "cell_type": "markdown",
   "metadata": {},
   "source": [
    "#### Distribution of travel distances\n",
    "\n",
    "Again, I see some travel distances that are in the outlier range (600 miles). I look closer at the data to see if there was anything different about these orders. Nothing in the data suggests that such a long distance was traveled sicne the price remains about the same. Since the distance values within 2sd seem within range, I remove distances that are 3 sd from the mean.\n",
    "\n"
   ]
  },
  {
   "cell_type": "code",
   "execution_count": 26,
   "metadata": {
    "collapsed": false
   },
   "outputs": [
    {
     "data": {
      "text/html": [
       "<div id=\"7f4c9bcb-d22c-4abf-b409-7e9f8f7e92c9\" style=\"height: 525px; width: 100%;\" class=\"plotly-graph-div\"></div><script type=\"text/javascript\">require([\"plotly\"], function(Plotly) { window.PLOTLYENV=window.PLOTLYENV || {};window.PLOTLYENV.BASE_URL=\"https://plot.ly\";Plotly.newPlot(\"7f4c9bcb-d22c-4abf-b409-7e9f8f7e92c9\", [{\"opacity\": 0.75, \"marker\": {\"color\": \"rgb(125, 70, 200)\"}, \"type\": \"histogram\", \"name\": \"Dist\", \"x\": [19.59805141, 4.9462792769999995, 21.26765628, 7.796508348, 16.98385825, 11.13881263, 4.0598352, 15.28835066, 8.907814807000001, 45.36525686, 1.547665205, 54.27159353, 13.62776567, 20.42281514, 4.961114185, 6.52426743, 6.452217279, 18.29712862, 2.323894224, 5.524759747, 11.97254007, 3.76973506, 33.52043317, 0.0, 15.04213004, 20.98775851, 13.15477484, 5.319379431000001, 3.657715079, 10.26150184, 5.778772905, 1.312280546, 0.9610659659999999, 8.360263629, 26.72799055, 1.8232099869999998, 45.48197972, 1.453149504, 4.363842347, 1.8232099869999998, 1.8232099869999998, 47.66246099, 28.99926468, 23.22841743, 0.709098517, 8.789794344, 4.970610511, 16.2213276, 3.7769199980000003, 23.02700843, 7.157103433, 7.354102447000001, 3.43931141, 3.906646987, 14.45287357, 6.684710994, 5.386356575, 25.38707874, 9.215806068, 3.6593299939999997, 6.9006288829999995, 19.71785343, 24.29028816, 8.760254882, 7.699146786, 18.44359332, 24.63188341, 6.755037927999999, 14.77981058, 4.049115859, 14.244957399999999, 1.8232099869999998, 1.8232099869999998, 2.259194476, 12.26987671, 0.38427027700000005, 4.480371891, 15.89170543, 26.26556354, 24.11891921, 6.125474519, 7.302891927999999, 36.952852, 4.059847886, 21.72083869, 7.120226843999999, 42.38755753, 18.09151295, 1.588632204, 1.7909984890000001, 14.32901812, 14.78561125, 4.797465988, 12.53463679, 9.511621142000001, 3.191158737, 13.07910265, 3.052277223, 1.259704491, 3.694440728, 5.241136893, 5.627671909, 10.03924238, 4.104156195, 3.6785308889999997, 3.169109628, 7.764806036, 29.72476324, 9.220610045, 6.23747525, 5.318511841, 2.842408335, 21.74838597, 6.618105575, 20.26935843, 6.537714846, 2.9604415960000003, 5.676602731, 15.93879706, 11.22521102, 6.025349921, 13.05106748, 3.0297776780000003, 3.614051401, 8.54979251, 5.363499953, 12.48915528, 0.960291413, 9.121024542999999, 2.9543565889999996, 14.52431454, 15.88096273, 22.91155914, 8.688261353, 10.39467817, 10.39467817, 5.873359989, 9.392399747999999, 5.059097178, 14.10364904, 2.198118425, 2.768169181, 5.879484635, 15.6114119, 11.77892364, 23.41310482, 3.3090797039999997, 6.114867847, 29.5809684, 26.90580445, 23.49332509, 12.59183401, 1.8686009890000002, 12.82255618, 2.213091821, 11.79092461, 3.8904107839999997, 11.79092461, 23.16399371, 4.830622858, 11.79092461, 11.79092461, 11.79092461, 11.79092461, 0.569544621, 5.749725885, 1.296265128, 5.451159617, 19.04724238, 1.409186711, 24.41545905, 6.761403026, 8.044494735, 6.236884963, 7.6818760610000005, 17.78996535, 17.59903397, 20.51224584, 616.0285892999999, 15.274578400000001, 7.412308992000001, 3.519092037, 2.79199661, 13.5837489, 6.359732656, 10.77390172, 13.0446419, 24.70210904, 23.65296079, 20.26735, 17.68963155, 5.250528463999999, 11.32777083, 16.39619277, 2.401145318, 3.455258469, 1.8232099869999998, 2.655428592, 23.30186738, 7.600630732000001, 0.333468112, 4.434497295, 23.42296449, 6.503867245, 12.641156800000001, 19.43808831, 8.017565605, 2.369698169, 18.35796343, 10.53209031, 6.048546647, 3.159513108, 11.56382132, 9.052064747000001, 27.50976785, 5.686037739, 2.11201062, 1.248015864, 8.826439348, 6.862470665, 11.63032494, 3.091095985, 16.21880342, 7.30225841, 22.36722119, 32.25859857, 10.39924406, 7.542453591, 7.328604843, 3.2254705219999997, 18.45881747, 14.24174638, 16.68226108, 4.632237192, 8.894903336, 5.3796197889999995, 11.39197754, 15.54496039, 16.77645201, 19.55735338, 3.7700976930000003, 6.564818311, 5.310948466, 8.489313962999999, 16.97194044, 7.99927676, 20.70253902, 6.63050263, 18.38953666, 13.09315357, 16.56054658, 16.65408649, 279.94696160000007, 21.66671021, 14.44821935, 6.459897837000001, 24.662312300000004, 45.80508495, 8.624640145, 6.98409018, 6.707827542, 4.082535189, 5.743930105, 10.52404851, 13.37656195, 7.202859032999999, 11.8756977, 9.936539554, 8.49610842, 23.75834927, 4.900079465, 16.03560794, 10.93606497, 5.066516385, 9.11614963, 15.92078432, 12.13362095, 24.41545905, 23.77222463, 4.961114185, 2.843194595, 12.07628945, 19.08828078, 35.47210612, 11.91569533, 7.860543455, 12.14049385, 4.267822136, 10.09384696, 2.478165115, 19.45718669, 5.084544966, 14.99629498, 22.97425937, 14.578668099999998, 14.320353200000001, 37.94109299, 16.168795000000003, 14.16816655, 13.22201259, 27.7441899, 20.66907668, 22.35175342, 18.66281659, 11.86838125, 8.55185668, 6.15602928, 2.552307296, 1.8554393219999998, 13.46054745, 26.04204472, 13.48113219, 22.174671300000004, 15.80120125, 19.80205827, 19.80518617, 5.291183005, 3.3808061310000004, 7.259859046, 8.948023206, 11.27550627, 9.759961387, 7.737480643, 10.81049946, 11.83723879, 17.27927724, 7.891477419, 15.095929, 36.54141501, 22.8626857, 2.8358092260000003, 9.771344166, 5.146713013, 11.48732142, 49.26390792, 0.91150034, 16.48108668, 10.0294367, 8.533395054, 1.8078280690000001, 7.414910981, 3.350700787, 17.33216983, 17.03830533, 14.06336965, 12.46003893, 4.976696436, 4.976696436, 25.05319421, 25.18011549, 30.30575703, 27.37454343, 43.65349872, 4.108878768, 54.61712264, 18.51710145, 3.990955267, 31.10156143, 4.439053561000001, 32.47912434, 4.84855943, 10.05882179, 13.25956837, 1.870178944, 3.448589293, 8.295829247999999, 1.9631876259999999, 10.93503481, 16.24902966, 9.830711056, 5.073109938, 45.39497917, 25.36291531, 3.122960149, 5.7243227139999995, 20.65329807, 12.69105388, 18.66896808, 0.7301639540000001, 11.78764464, 29.51505079, 1.3858443480000002, 8.183255769, 2.93783243, 1.467974959, 11.28634725, 7.731879472, 33.62866656, 5.713422431000001, 3.848476953, 1.0822841220000001, 36.81395047, 1.720232095, 9.906655151, 2.698659241, 7.6967206710000005, 25.70008162, 3.7300350460000002, 17.92066654, 13.47834757, 5.2315024139999995, 2.8074599160000004, 22.22297726, 15.79226775, 9.427892403, 20.15528849, 15.73166907, 4.389031415, 3.19475986, 39.43667237, 13.49397194, 13.83043464, 8.069854142999999, 17.35563377, 26.77337635, 9.882988295, 3.849305892, 19.72647254, 37.07307487, 11.26311529, 3.577205348, 16.62249577, 13.14972728, 7.942300585, 26.97468765, 8.07998481, 16.86870448, 26.98731547, 20.99121532, 19.08591151, 15.20161047, 2.66128974, 8.058040916, 1.829017102, 2.776436748, 20.81739554, 2.230919085, 18.81698548, 5.246866131, 5.466668414, 2.69429902, 17.83506712, 24.94600924, 8.900153682000001, 2.489973186, 5.229055866, 4.187357401, 12.75316458, 9.671315202, 7.52679133, 9.418419606, 5.912676431, 19.08973733, 19.20392594, 13.11331287, 2.232909888, 2.043412182, 15.98716246, 3.0605740000000003, 9.402103978, 6.731794977000001, 8.937453847, 19.90796956, 10.15132058, 9.997262576, 13.39990289, 11.71351316, 4.296482556, 17.77914552, 5.015835507, 9.241024494, 22.15669244, 5.497417738999999, 9.725669826, 49.71615429999999, 9.96784761, 14.60880465, 14.92651093, 16.85629354, 23.29775339, 2.121526236, 20.79139095, 0.475749827, 22.21261875, 3.7038606489999997, 35.09234304, 1.1431883520000001, 16.95398827, 13.58750214, 8.45720311, 4.9567834269999995, 15.62915408, 2.766498817, 10.26670151, 5.209063615, 24.11055634, 10.85731727, 5.152003862, 3.070733865, 0.9782901209999999, 2.8203782189999997, 22.90705528, 13.34970386, 4.952038699, 12.82263672, 1.776231704, 13.21494825, 6.69180484, 10.28307917, 18.58537398, 21.89040764, 7.71903582, 1.8835066719999998, 4.3754386610000005, 4.704490119, 2.239870652, 15.86363358, 11.26115463, 1.2343863640000001, 32.30067728, 10.95182257, 3.133217062, 7.175838957000001, 11.61739185, 20.06644246, 3.0187504260000004, 7.348880992000001, 2.586615127, 7.643593371000001, 6.788209505, 0.661239448, 4.227945527, 8.570092882, 10.64016569, 28.89943812, 21.55852895, 17.57674276, 13.58419609, 10.252680499999999, 19.18301363, 7.6681241479999995, 18.38523053, 19.06684011, 3.6449992989999997, 9.504110833, 16.61772462, 8.140790124, 9.324238548, 13.17743181, 26.62580013, 23.21066741, 8.47011417, 8.57368348, 15.05008541, 13.73323543, 6.7770248639999995, 17.74664195, 16.43021093, 2.7564965939999997, 2.904062553, 8.369874776, 14.752469199999998, 8.556308563, 16.67360521, 11.31523524, 5.34285668, 2.028802104, 9.544233363, 22.66631468, 1.6856301480000002, 5.676464031, 8.607595382000001, 12.84548336, 30.10971023, 5.757675829, 14.99936434, 3.827502729, 5.325775473, 4.643728795, 5.978182532999999, 6.441676797, 14.52454565, 2.820452473, 5.8512395370000005, 44.6066838, 11.8617401, 4.611947037, 13.39811788, 10.93324998, 8.922556377000001, 18.66315853, 8.898512172, 26.68919343, 5.510444566, 16.12286785, 6.496916867, 54.17748227, 15.89091983, 5.68351575, 8.092105573, 5.878982131, 8.31373427, 1.265078682, 39.8456278, 18.07947943, 13.13949071, 8.325480183, 17.41527805, 15.50990674, 20.45088776, 12.23973134, 26.57116093, 11.24366038, 19.33851083, 9.04884646, 20.42247194, 7.053719442, 22.42357901, 10.10113496, 3.5123636, 8.476513732999999, 24.71967339, 10.19322944, 6.784671701000001, 12.437942699999999, 30.1095037, 16.9087406, 12.96819919, 25.91158312, 10.937140300000001, 4.48290014, 34.45220026, 1.9784917990000002, 2.9056477010000004, 19.52833437, 4.6823044089999994, 39.92165353, 22.51357683, 14.86853111, 18.15428384, 14.14118117, 17.05406215, 3.8904107839999997, 3.8904107839999997, 11.79092461, 3.8904107839999997, 14.47807402, 16.79005381, 16.55665338, 28.71418391, 9.888027514, 6.44428705, 2.376837261, 17.26128092, 3.439264385, 14.25764039, 30.74055915, 15.72756752, 34.20411731, 11.34827178, 4.008134021, 15.82397077, 5.208825098999999, 13.19502731, 24.94759933, 10.48792352, 32.93333464, 6.804023977000001, 10.14986184, 9.280146697000001, 12.88141036, 11.17985067, 22.99679723, 4.526355812, 13.9608421, 4.2457366919999995, 8.669729465, 11.24889624, 25.42196685, 21.1407491, 3.162962077, 22.62737958, 22.19348634, 8.814032859, 21.22017484, 27.74117083, 16.86653116, 7.1602398439999995, 8.153907667, 3.904502117, 8.393957222000001, 17.25807167, 36.33143675, 5.630112592000001, 10.69835768, 1.891699855, 10.65442928, 9.870581299, 35.49544816, 6.24897917, 2.623678, 15.93813541, 7.284436145, 9.877145328, 9.979333685, 23.66636296, 14.85084681, 22.37358636, 17.95082762, 27.20213664, 11.13289412, 31.54887507, 15.26671814, 11.73982647, 16.54494849, 41.85927616, 3.704890334, 2.249486327, 18.85990717, 20.71327698, 2.9167406789999997, 7.796497047000001, 3.5667092119999997, 2.364766975, 30.1840914, 16.91214344, 26.2406827, 49.25267629, 19.71562998, 7.687952849, 14.79587222, 13.09865231, 17.24537875, 12.29790989, 10.071342, 38.31788639, 37.00614493, 9.879358985, 7.520218547000001, 14.3427804, 34.34291204, 23.29264817, 14.85445706, 26.68371132, 49.40855633, 6.60846743, 30.42397535, 33.21336816, 35.12221042, 36.17635511, 29.28062295, 35.89141903, 40.7175455, 11.01783921, 17.11370367, 6.929098789, 10.39520732, 22.54763323, 11.10645325, 9.766782541, 30.45228573, 11.97921599, 5.115361876000001, 2.289845288, 15.76774368, 10.21532941, 10.33310564, 9.645876381, 24.19990433, 35.8886125, 7.796756475, 32.57067474, 14.05881456, 25.80559734, 26.9615712, 20.5290669, 17.69327149, 14.68456505, 47.52669005, 2.924701812, 16.45221273, 10.92427318, 25.7147883, 10.07407007, 14.94425029, 11.03047735, 8.234111967, 28.246169899999998, 14.22553513, 19.44535698, 12.48752206, 12.1346881, 4.008388817, 46.23801472, 42.93902177, 3.66380298, 23.13141943, 2.404093543, 17.99967137, 2.521924232, 7.79511447, 18.14600664, 43.98786273, 4.420744646, 38.09506331, 18.76027189, 10.1401326, 15.54741691, 2.313993162, 2.7052616130000002, 52.36328555, 18.17102016, 6.6783086339999995, 9.17181923, 24.49508603, 40.09956552, 30.69246773, 57.54423196, 72.89344642, 9.235078243, 7.455764964, 36.5662218, 11.26237016, 17.77994632, 5.404712877000001, 30.57526215, 15.22241929, 3.4128780689999996, 14.71578536, 0.437669339, 17.6415618, 41.76420524, 12.30907328, 18.80997589, 8.453047401000001, 19.91521971, 15.12191378, 2.75095057, 1.6982738919999998, 4.569933654, 22.56731751, 30.78089378, 2.420923536, 5.961421012000001, 45.15008491, 28.57168892, 19.07257666, 11.3276505, 38.49227535, 2.871707367, 25.92468422, 9.231628295, 8.227244975, 14.67573173, 10.76961946, 17.39449354, 6.372830773, 5.9567825370000005, 4.691703614, 9.819893772, 41.87899253, 33.63705307, 17.54739187, 37.36956523, 7.77051133, 24.64379009, 41.93789591, 34.32966797, 27.35399821, 21.84632259, 43.34224308, 28.96497655, 44.90980609, 5.110102775, 43.47742895, 14.18447866, 16.15878519, 13.53467409, 36.1256794, 2.863895973, 26.14804733, 13.98834647, 20.94014001, 36.15484472, 4.691703614, 19.591437300000003, 32.19296005, 3.5351853460000005, 5.38206775, 32.72403179, 6.364681748, 8.772006916, 27.85719032, 26.609318, 17.20834969, 28.478233399999997, 9.471103581, 26.08251677, 34.14678684, 10.13835628, 73.29885764, 8.78561574, 9.617679466, 12.57625392, 34.30306477, 52.20473792, 11.74694012, 21.32811981, 38.82532879, 31.19459432, 15.89558624, 21.49624106, 7.327236741, 41.67357547, 32.08547172, 13.74435134, 16.84161367, 6.883413159, 68.01430661, 35.4953964, 11.18838637, 11.06570833, 28.45208296, 23.21929963, 27.08354368]}], {\"showlegend\": false, \"yaxis\": {\"tickfont\": {\"size\": 20}, \"title\": \"Number of Cases\", \"titlefont\": {\"size\": 24}, \"dtick\": 40, \"showgrid\": false}, \"title\": \"Distribution of Travel Distances\", \"barmode\": \"overlay\", \"titlefont\": {\"size\": 24}, \"xaxis\": {\"tickfont\": {\"size\": 20}, \"titlefont\": {\"size\": 24}, \"title\": \"Travel distance\"}}, {\"linkText\": \"Export to plot.ly\", \"showLink\": true})});</script>"
      ],
      "text/plain": [
       "<IPython.core.display.HTML object>"
      ]
     },
     "metadata": {},
     "output_type": "display_data"
    },
    {
     "data": {
      "text/html": [
       "<div>\n",
       "<table border=\"1\" class=\"dataframe\">\n",
       "  <thead>\n",
       "    <tr style=\"text-align: right;\">\n",
       "      <th></th>\n",
       "      <th>order_id</th>\n",
       "      <th>completed_status</th>\n",
       "      <th>state</th>\n",
       "      <th>company_id</th>\n",
       "      <th>notary_id</th>\n",
       "      <th>total_notary_fee</th>\n",
       "      <th>city</th>\n",
       "      <th>appointment_date</th>\n",
       "      <th>product_name</th>\n",
       "      <th>travel_distance</th>\n",
       "      <th>docs_to_notary_sent</th>\n",
       "      <th>weekday</th>\n",
       "    </tr>\n",
       "  </thead>\n",
       "  <tbody>\n",
       "    <tr>\n",
       "      <th>328</th>\n",
       "      <td>549925</td>\n",
       "      <td>completed</td>\n",
       "      <td>TN</td>\n",
       "      <td>3</td>\n",
       "      <td>69893.0</td>\n",
       "      <td>75.0</td>\n",
       "      <td>CLARKSVILLE</td>\n",
       "      <td>2016-08-05</td>\n",
       "      <td>purchase</td>\n",
       "      <td>616.028589</td>\n",
       "      <td>sent</td>\n",
       "      <td>4</td>\n",
       "    </tr>\n",
       "    <tr>\n",
       "      <th>417</th>\n",
       "      <td>557519</td>\n",
       "      <td>completed</td>\n",
       "      <td>TN</td>\n",
       "      <td>2</td>\n",
       "      <td>41391.0</td>\n",
       "      <td>85.0</td>\n",
       "      <td>ANTIOCH</td>\n",
       "      <td>2016-08-09</td>\n",
       "      <td>purchase</td>\n",
       "      <td>279.946962</td>\n",
       "      <td>sent</td>\n",
       "      <td>1</td>\n",
       "    </tr>\n",
       "  </tbody>\n",
       "</table>\n",
       "</div>"
      ],
      "text/plain": [
       "     order_id completed_status state  company_id  notary_id  total_notary_fee  \\\n",
       "328    549925        completed    TN           3    69893.0              75.0   \n",
       "417    557519        completed    TN           2    41391.0              85.0   \n",
       "\n",
       "            city appointment_date product_name  travel_distance  \\\n",
       "328  CLARKSVILLE       2016-08-05     purchase       616.028589   \n",
       "417      ANTIOCH       2016-08-09     purchase       279.946962   \n",
       "\n",
       "    docs_to_notary_sent  weekday  \n",
       "328                sent        4  \n",
       "417                sent        1  "
      ]
     },
     "execution_count": 26,
     "metadata": {},
     "output_type": "execute_result"
    }
   ],
   "source": [
    "plot_histogram(orders_completed['travel_distance'], 'Dist', 'Travel distance', 'Number of Cases', 'Distribution of Travel Distances')\n",
    "orders_completed[orders_completed['travel_distance'] > 100]"
   ]
  },
  {
   "cell_type": "markdown",
   "metadata": {},
   "source": [
    "After removing the outliers, I check the distribution again - the data seems right skewed, but I will leave it as is for now and do any necessary transformations in the future / if I have more time."
   ]
  },
  {
   "cell_type": "code",
   "execution_count": 27,
   "metadata": {
    "collapsed": false
   },
   "outputs": [
    {
     "data": {
      "text/html": [
       "<div id=\"da1a74e5-47ed-430c-bf90-2cb67f5be4b9\" style=\"height: 525px; width: 100%;\" class=\"plotly-graph-div\"></div><script type=\"text/javascript\">require([\"plotly\"], function(Plotly) { window.PLOTLYENV=window.PLOTLYENV || {};window.PLOTLYENV.BASE_URL=\"https://plot.ly\";Plotly.newPlot(\"da1a74e5-47ed-430c-bf90-2cb67f5be4b9\", [{\"opacity\": 0.75, \"marker\": {\"color\": \"rgb(125, 70, 200)\"}, \"type\": \"histogram\", \"name\": \"Dist\", \"x\": [19.59805141, 4.9462792769999995, 21.26765628, 7.796508348, 16.98385825, 11.13881263, 4.0598352, 15.28835066, 8.907814807000001, 45.36525686, 1.547665205, 54.27159353, 13.62776567, 20.42281514, 4.961114185, 6.52426743, 6.452217279, 18.29712862, 2.323894224, 5.524759747, 11.97254007, 3.76973506, 33.52043317, 0.0, 15.04213004, 20.98775851, 13.15477484, 5.319379431000001, 3.657715079, 10.26150184, 5.778772905, 1.312280546, 0.9610659659999999, 8.360263629, 26.72799055, 1.8232099869999998, 45.48197972, 1.453149504, 4.363842347, 1.8232099869999998, 1.8232099869999998, 47.66246099, 28.99926468, 23.22841743, 0.709098517, 8.789794344, 4.970610511, 16.2213276, 3.7769199980000003, 23.02700843, 7.157103433, 7.354102447000001, 3.43931141, 3.906646987, 14.45287357, 6.684710994, 5.386356575, 25.38707874, 9.215806068, 3.6593299939999997, 6.9006288829999995, 19.71785343, 24.29028816, 8.760254882, 7.699146786, 18.44359332, 24.63188341, 6.755037927999999, 14.77981058, 4.049115859, 14.244957399999999, 1.8232099869999998, 1.8232099869999998, 2.259194476, 12.26987671, 0.38427027700000005, 4.480371891, 15.89170543, 26.26556354, 24.11891921, 6.125474519, 7.302891927999999, 36.952852, 4.059847886, 21.72083869, 7.120226843999999, 42.38755753, 18.09151295, 1.588632204, 1.7909984890000001, 14.32901812, 14.78561125, 4.797465988, 12.53463679, 9.511621142000001, 3.191158737, 13.07910265, 3.052277223, 1.259704491, 3.694440728, 5.241136893, 5.627671909, 10.03924238, 4.104156195, 3.6785308889999997, 3.169109628, 7.764806036, 29.72476324, 9.220610045, 6.23747525, 5.318511841, 2.842408335, 21.74838597, 6.618105575, 20.26935843, 6.537714846, 2.9604415960000003, 5.676602731, 15.93879706, 11.22521102, 6.025349921, 13.05106748, 3.0297776780000003, 3.614051401, 8.54979251, 5.363499953, 12.48915528, 0.960291413, 9.121024542999999, 2.9543565889999996, 14.52431454, 15.88096273, 22.91155914, 8.688261353, 10.39467817, 10.39467817, 5.873359989, 9.392399747999999, 5.059097178, 14.10364904, 2.198118425, 2.768169181, 5.879484635, 15.6114119, 11.77892364, 23.41310482, 3.3090797039999997, 6.114867847, 29.5809684, 26.90580445, 23.49332509, 12.59183401, 1.8686009890000002, 12.82255618, 2.213091821, 11.79092461, 3.8904107839999997, 11.79092461, 23.16399371, 4.830622858, 11.79092461, 11.79092461, 11.79092461, 11.79092461, 0.569544621, 5.749725885, 1.296265128, 5.451159617, 19.04724238, 1.409186711, 24.41545905, 6.761403026, 8.044494735, 6.236884963, 7.6818760610000005, 17.78996535, 17.59903397, 20.51224584, 15.274578400000001, 7.412308992000001, 3.519092037, 2.79199661, 13.5837489, 6.359732656, 10.77390172, 13.0446419, 24.70210904, 23.65296079, 20.26735, 17.68963155, 5.250528463999999, 11.32777083, 16.39619277, 2.401145318, 3.455258469, 1.8232099869999998, 2.655428592, 23.30186738, 7.600630732000001, 0.333468112, 4.434497295, 23.42296449, 6.503867245, 12.641156800000001, 19.43808831, 8.017565605, 2.369698169, 18.35796343, 10.53209031, 6.048546647, 3.159513108, 11.56382132, 9.052064747000001, 27.50976785, 5.686037739, 2.11201062, 1.248015864, 8.826439348, 6.862470665, 11.63032494, 3.091095985, 16.21880342, 7.30225841, 22.36722119, 32.25859857, 10.39924406, 7.542453591, 7.328604843, 3.2254705219999997, 18.45881747, 14.24174638, 16.68226108, 4.632237192, 8.894903336, 5.3796197889999995, 11.39197754, 15.54496039, 16.77645201, 19.55735338, 3.7700976930000003, 6.564818311, 5.310948466, 8.489313962999999, 16.97194044, 7.99927676, 20.70253902, 6.63050263, 18.38953666, 13.09315357, 16.56054658, 16.65408649, 21.66671021, 14.44821935, 6.459897837000001, 24.662312300000004, 45.80508495, 8.624640145, 6.98409018, 6.707827542, 4.082535189, 5.743930105, 10.52404851, 13.37656195, 7.202859032999999, 11.8756977, 9.936539554, 8.49610842, 23.75834927, 4.900079465, 16.03560794, 10.93606497, 5.066516385, 9.11614963, 15.92078432, 12.13362095, 24.41545905, 23.77222463, 4.961114185, 2.843194595, 12.07628945, 19.08828078, 35.47210612, 11.91569533, 7.860543455, 12.14049385, 4.267822136, 10.09384696, 2.478165115, 19.45718669, 5.084544966, 14.99629498, 22.97425937, 14.578668099999998, 14.320353200000001, 37.94109299, 16.168795000000003, 14.16816655, 13.22201259, 27.7441899, 20.66907668, 22.35175342, 18.66281659, 11.86838125, 8.55185668, 6.15602928, 2.552307296, 1.8554393219999998, 13.46054745, 26.04204472, 13.48113219, 22.174671300000004, 15.80120125, 19.80205827, 19.80518617, 5.291183005, 3.3808061310000004, 7.259859046, 8.948023206, 11.27550627, 9.759961387, 7.737480643, 10.81049946, 11.83723879, 17.27927724, 7.891477419, 15.095929, 36.54141501, 22.8626857, 2.8358092260000003, 9.771344166, 5.146713013, 11.48732142, 49.26390792, 0.91150034, 16.48108668, 10.0294367, 8.533395054, 1.8078280690000001, 7.414910981, 3.350700787, 17.33216983, 17.03830533, 14.06336965, 12.46003893, 4.976696436, 4.976696436, 25.05319421, 25.18011549, 30.30575703, 27.37454343, 43.65349872, 4.108878768, 54.61712264, 18.51710145, 3.990955267, 31.10156143, 4.439053561000001, 32.47912434, 4.84855943, 10.05882179, 13.25956837, 1.870178944, 3.448589293, 8.295829247999999, 1.9631876259999999, 10.93503481, 16.24902966, 9.830711056, 5.073109938, 45.39497917, 25.36291531, 3.122960149, 5.7243227139999995, 20.65329807, 12.69105388, 18.66896808, 0.7301639540000001, 11.78764464, 29.51505079, 1.3858443480000002, 8.183255769, 2.93783243, 1.467974959, 11.28634725, 7.731879472, 33.62866656, 5.713422431000001, 3.848476953, 1.0822841220000001, 36.81395047, 1.720232095, 9.906655151, 2.698659241, 7.6967206710000005, 25.70008162, 3.7300350460000002, 17.92066654, 13.47834757, 5.2315024139999995, 2.8074599160000004, 22.22297726, 15.79226775, 9.427892403, 20.15528849, 15.73166907, 4.389031415, 3.19475986, 39.43667237, 13.49397194, 13.83043464, 8.069854142999999, 17.35563377, 26.77337635, 9.882988295, 3.849305892, 19.72647254, 37.07307487, 11.26311529, 3.577205348, 16.62249577, 13.14972728, 7.942300585, 26.97468765, 8.07998481, 16.86870448, 26.98731547, 20.99121532, 19.08591151, 15.20161047, 2.66128974, 8.058040916, 1.829017102, 2.776436748, 20.81739554, 2.230919085, 18.81698548, 5.246866131, 5.466668414, 2.69429902, 17.83506712, 24.94600924, 8.900153682000001, 2.489973186, 5.229055866, 4.187357401, 12.75316458, 9.671315202, 7.52679133, 9.418419606, 5.912676431, 19.08973733, 19.20392594, 13.11331287, 2.232909888, 2.043412182, 15.98716246, 3.0605740000000003, 9.402103978, 6.731794977000001, 8.937453847, 19.90796956, 10.15132058, 9.997262576, 13.39990289, 11.71351316, 4.296482556, 17.77914552, 5.015835507, 9.241024494, 22.15669244, 5.497417738999999, 9.725669826, 49.71615429999999, 9.96784761, 14.60880465, 14.92651093, 16.85629354, 23.29775339, 2.121526236, 20.79139095, 0.475749827, 22.21261875, 3.7038606489999997, 35.09234304, 1.1431883520000001, 16.95398827, 13.58750214, 8.45720311, 4.9567834269999995, 15.62915408, 2.766498817, 10.26670151, 5.209063615, 24.11055634, 10.85731727, 5.152003862, 3.070733865, 0.9782901209999999, 2.8203782189999997, 22.90705528, 13.34970386, 4.952038699, 12.82263672, 1.776231704, 13.21494825, 6.69180484, 10.28307917, 18.58537398, 21.89040764, 7.71903582, 1.8835066719999998, 4.3754386610000005, 4.704490119, 2.239870652, 15.86363358, 11.26115463, 1.2343863640000001, 32.30067728, 10.95182257, 3.133217062, 7.175838957000001, 11.61739185, 20.06644246, 3.0187504260000004, 7.348880992000001, 2.586615127, 7.643593371000001, 6.788209505, 0.661239448, 4.227945527, 8.570092882, 10.64016569, 28.89943812, 21.55852895, 17.57674276, 13.58419609, 10.252680499999999, 19.18301363, 7.6681241479999995, 18.38523053, 19.06684011, 3.6449992989999997, 9.504110833, 16.61772462, 8.140790124, 9.324238548, 13.17743181, 26.62580013, 23.21066741, 8.47011417, 8.57368348, 15.05008541, 13.73323543, 6.7770248639999995, 17.74664195, 16.43021093, 2.7564965939999997, 2.904062553, 8.369874776, 14.752469199999998, 8.556308563, 16.67360521, 11.31523524, 5.34285668, 2.028802104, 9.544233363, 22.66631468, 1.6856301480000002, 5.676464031, 8.607595382000001, 12.84548336, 30.10971023, 5.757675829, 14.99936434, 3.827502729, 5.325775473, 4.643728795, 5.978182532999999, 6.441676797, 14.52454565, 2.820452473, 5.8512395370000005, 44.6066838, 11.8617401, 4.611947037, 13.39811788, 10.93324998, 8.922556377000001, 18.66315853, 8.898512172, 26.68919343, 5.510444566, 16.12286785, 6.496916867, 54.17748227, 15.89091983, 5.68351575, 8.092105573, 5.878982131, 8.31373427, 1.265078682, 39.8456278, 18.07947943, 13.13949071, 8.325480183, 17.41527805, 15.50990674, 20.45088776, 12.23973134, 26.57116093, 11.24366038, 19.33851083, 9.04884646, 20.42247194, 7.053719442, 22.42357901, 10.10113496, 3.5123636, 8.476513732999999, 24.71967339, 10.19322944, 6.784671701000001, 12.437942699999999, 30.1095037, 16.9087406, 12.96819919, 25.91158312, 10.937140300000001, 4.48290014, 34.45220026, 1.9784917990000002, 2.9056477010000004, 19.52833437, 4.6823044089999994, 39.92165353, 22.51357683, 14.86853111, 18.15428384, 14.14118117, 17.05406215, 3.8904107839999997, 3.8904107839999997, 11.79092461, 3.8904107839999997, 14.47807402, 16.79005381, 16.55665338, 28.71418391, 9.888027514, 6.44428705, 2.376837261, 17.26128092, 3.439264385, 14.25764039, 30.74055915, 15.72756752, 34.20411731, 11.34827178, 4.008134021, 15.82397077, 5.208825098999999, 13.19502731, 24.94759933, 10.48792352, 32.93333464, 6.804023977000001, 10.14986184, 9.280146697000001, 12.88141036, 11.17985067, 22.99679723, 4.526355812, 13.9608421, 4.2457366919999995, 8.669729465, 11.24889624, 25.42196685, 21.1407491, 3.162962077, 22.62737958, 22.19348634, 8.814032859, 21.22017484, 27.74117083, 16.86653116, 7.1602398439999995, 8.153907667, 3.904502117, 8.393957222000001, 17.25807167, 36.33143675, 5.630112592000001, 10.69835768, 1.891699855, 10.65442928, 9.870581299, 35.49544816, 6.24897917, 2.623678, 15.93813541, 7.284436145, 9.877145328, 9.979333685, 23.66636296, 14.85084681, 22.37358636, 17.95082762, 27.20213664, 11.13289412, 31.54887507, 15.26671814, 11.73982647, 16.54494849, 41.85927616, 3.704890334, 2.249486327, 18.85990717, 20.71327698, 2.9167406789999997, 7.796497047000001, 3.5667092119999997, 2.364766975, 30.1840914, 16.91214344, 26.2406827, 49.25267629, 19.71562998, 7.687952849, 14.79587222, 13.09865231, 17.24537875, 12.29790989, 10.071342, 38.31788639, 37.00614493, 9.879358985, 7.520218547000001, 14.3427804, 34.34291204, 23.29264817, 14.85445706, 26.68371132, 49.40855633, 6.60846743, 30.42397535, 33.21336816, 35.12221042, 36.17635511, 29.28062295, 35.89141903, 40.7175455, 11.01783921, 17.11370367, 6.929098789, 10.39520732, 22.54763323, 11.10645325, 9.766782541, 30.45228573, 11.97921599, 5.115361876000001, 2.289845288, 15.76774368, 10.21532941, 10.33310564, 9.645876381, 24.19990433, 35.8886125, 7.796756475, 32.57067474, 14.05881456, 25.80559734, 26.9615712, 20.5290669, 17.69327149, 14.68456505, 47.52669005, 2.924701812, 16.45221273, 10.92427318, 25.7147883, 10.07407007, 14.94425029, 11.03047735, 8.234111967, 28.246169899999998, 14.22553513, 19.44535698, 12.48752206, 12.1346881, 4.008388817, 46.23801472, 42.93902177, 3.66380298, 23.13141943, 2.404093543, 17.99967137, 2.521924232, 7.79511447, 18.14600664, 43.98786273, 4.420744646, 38.09506331, 18.76027189, 10.1401326, 15.54741691, 2.313993162, 2.7052616130000002, 52.36328555, 18.17102016, 6.6783086339999995, 9.17181923, 24.49508603, 40.09956552, 30.69246773, 57.54423196, 72.89344642, 9.235078243, 7.455764964, 36.5662218, 11.26237016, 17.77994632, 5.404712877000001, 30.57526215, 15.22241929, 3.4128780689999996, 14.71578536, 0.437669339, 17.6415618, 41.76420524, 12.30907328, 18.80997589, 8.453047401000001, 19.91521971, 15.12191378, 2.75095057, 1.6982738919999998, 4.569933654, 22.56731751, 30.78089378, 2.420923536, 5.961421012000001, 45.15008491, 28.57168892, 19.07257666, 11.3276505, 38.49227535, 2.871707367, 25.92468422, 9.231628295, 8.227244975, 14.67573173, 10.76961946, 17.39449354, 6.372830773, 5.9567825370000005, 4.691703614, 9.819893772, 41.87899253, 33.63705307, 17.54739187, 37.36956523, 7.77051133, 24.64379009, 41.93789591, 34.32966797, 27.35399821, 21.84632259, 43.34224308, 28.96497655, 44.90980609, 5.110102775, 43.47742895, 14.18447866, 16.15878519, 13.53467409, 36.1256794, 2.863895973, 26.14804733, 13.98834647, 20.94014001, 36.15484472, 4.691703614, 19.591437300000003, 32.19296005, 3.5351853460000005, 5.38206775, 32.72403179, 6.364681748, 8.772006916, 27.85719032, 26.609318, 17.20834969, 28.478233399999997, 9.471103581, 26.08251677, 34.14678684, 10.13835628, 73.29885764, 8.78561574, 9.617679466, 12.57625392, 34.30306477, 52.20473792, 11.74694012, 21.32811981, 38.82532879, 31.19459432, 15.89558624, 21.49624106, 7.327236741, 41.67357547, 32.08547172, 13.74435134, 16.84161367, 6.883413159, 68.01430661, 35.4953964, 11.18838637, 11.06570833, 28.45208296, 23.21929963, 27.08354368]}], {\"showlegend\": false, \"yaxis\": {\"tickfont\": {\"size\": 20}, \"title\": \"Number of Cases\", \"titlefont\": {\"size\": 24}, \"dtick\": 40, \"showgrid\": false}, \"title\": \"Distribution of Travel Distances after removing outliers\", \"barmode\": \"overlay\", \"titlefont\": {\"size\": 24}, \"xaxis\": {\"tickfont\": {\"size\": 20}, \"titlefont\": {\"size\": 24}, \"title\": \"Travel distance\"}}, {\"linkText\": \"Export to plot.ly\", \"showLink\": true})});</script>"
      ],
      "text/plain": [
       "<IPython.core.display.HTML object>"
      ]
     },
     "metadata": {},
     "output_type": "display_data"
    }
   ],
   "source": [
    "orders_completed = orders_completed[orders_completed['travel_distance'] < (np.mean(orders_completed['travel_distance']) + 3*np.std(orders_completed['travel_distance']))]\n",
    "\n",
    "plot_histogram(orders_completed['travel_distance'], 'Dist', 'Travel distance', 'Number of Cases', 'Distribution of Travel Distances after removing outliers')"
   ]
  },
  {
   "cell_type": "markdown",
   "metadata": {},
   "source": [
    "#### Checking the other features: Product Name, Weekends, States\n",
    "\n",
    "Above Features  seem clean"
   ]
  },
  {
   "cell_type": "code",
   "execution_count": 28,
   "metadata": {
    "collapsed": false
   },
   "outputs": [
    {
     "name": "stdout",
     "output_type": "stream",
     "text": [
      "product_name\n",
      "purchase            243\n",
      "refinance           597\n",
      "reverse mortgage     83\n",
      "dtype: int64\n",
      "state\n",
      "AL    417\n",
      "TN    506\n",
      "dtype: int64\n",
      "weekday\n",
      "0    176\n",
      "1    147\n",
      "2    152\n",
      "3    177\n",
      "4    205\n",
      "5     61\n",
      "6      5\n",
      "dtype: int64\n",
      "weekend\n",
      "0.0    857\n",
      "1.0     66\n",
      "dtype: int64\n"
     ]
    }
   ],
   "source": [
    "#product name\n",
    "print(orders_completed.groupby(['product_name']).size()) # type of signing seems clean\n",
    "\n",
    "print(orders_completed.groupby(['state']).size()) # state seems clean\n",
    "\n",
    "print(orders_completed.groupby(['weekday']).size()) #weekday seems clean\n",
    "\n",
    "# set weekend / weekday\n",
    "\n",
    "orders_completed['weekend'] = (orders_completed['weekday'] // 5 == 1).astype(float)\n",
    "print(orders_completed.groupby(['weekend']).size())"
   ]
  },
  {
   "cell_type": "markdown",
   "metadata": {},
   "source": [
    "#### Adding the rank feature - Extracting it from messages and cleaning it\n",
    "\n",
    "To compute where the notary was ranked on each order, I assumed that I had to first group by order ids, and rank the notaries according to the time they were messaged at. When I took a closer look at the messages file, I saw that for some orders, there were > 30 messages sent out. I wanted to check what was going on so I took a closer look."
   ]
  },
  {
   "cell_type": "code",
   "execution_count": 29,
   "metadata": {
    "collapsed": false
   },
   "outputs": [
    {
     "name": "stdout",
     "output_type": "stream",
     "text": [
      "order_id\n",
      "506760    43\n",
      "507902    35\n",
      "516374     4\n",
      "518331    13\n",
      "519067    10\n",
      "dtype: int64\n"
     ]
    }
   ],
   "source": [
    "print(messages.groupby(['order_id']).size()).head()\n"
   ]
  },
  {
   "cell_type": "code",
   "execution_count": 30,
   "metadata": {
    "collapsed": false,
    "scrolled": true
   },
   "outputs": [
    {
     "data": {
      "text/html": [
       "<div>\n",
       "<table border=\"1\" class=\"dataframe\">\n",
       "  <thead>\n",
       "    <tr style=\"text-align: right;\">\n",
       "      <th></th>\n",
       "      <th>id</th>\n",
       "      <th>order_id</th>\n",
       "      <th>notary_id</th>\n",
       "      <th>messaged_at</th>\n",
       "      <th>responded_at</th>\n",
       "      <th>response</th>\n",
       "    </tr>\n",
       "  </thead>\n",
       "  <tbody>\n",
       "    <tr>\n",
       "      <th>750</th>\n",
       "      <td>418602</td>\n",
       "      <td>506760</td>\n",
       "      <td>70855</td>\n",
       "      <td>2016-07-14 16:00:35</td>\n",
       "      <td>2016-07-14 16:01:23</td>\n",
       "      <td>available</td>\n",
       "    </tr>\n",
       "    <tr>\n",
       "      <th>836</th>\n",
       "      <td>409578</td>\n",
       "      <td>506760</td>\n",
       "      <td>65793</td>\n",
       "      <td>2016-07-06 20:48:12</td>\n",
       "      <td>2016-07-06 20:52:06</td>\n",
       "      <td>available</td>\n",
       "    </tr>\n",
       "    <tr>\n",
       "      <th>837</th>\n",
       "      <td>409578</td>\n",
       "      <td>506760</td>\n",
       "      <td>70855</td>\n",
       "      <td>2016-07-06 20:48:32</td>\n",
       "      <td>2016-07-06 20:49:59</td>\n",
       "      <td>available</td>\n",
       "    </tr>\n",
       "    <tr>\n",
       "      <th>838</th>\n",
       "      <td>409578</td>\n",
       "      <td>506760</td>\n",
       "      <td>51211</td>\n",
       "      <td>2016-07-06 20:49:38</td>\n",
       "      <td>2016-07-06 20:50:16</td>\n",
       "      <td>available</td>\n",
       "    </tr>\n",
       "    <tr>\n",
       "      <th>841</th>\n",
       "      <td>414960</td>\n",
       "      <td>506760</td>\n",
       "      <td>54615</td>\n",
       "      <td>2016-07-12 00:43:05</td>\n",
       "      <td>2016-07-12 00:44:11</td>\n",
       "      <td>available</td>\n",
       "    </tr>\n",
       "  </tbody>\n",
       "</table>\n",
       "</div>"
      ],
      "text/plain": [
       "         id  order_id  notary_id         messaged_at        responded_at  \\\n",
       "750  418602    506760      70855 2016-07-14 16:00:35 2016-07-14 16:01:23   \n",
       "836  409578    506760      65793 2016-07-06 20:48:12 2016-07-06 20:52:06   \n",
       "837  409578    506760      70855 2016-07-06 20:48:32 2016-07-06 20:49:59   \n",
       "838  409578    506760      51211 2016-07-06 20:49:38 2016-07-06 20:50:16   \n",
       "841  414960    506760      54615 2016-07-12 00:43:05 2016-07-12 00:44:11   \n",
       "\n",
       "      response  \n",
       "750  available  \n",
       "836  available  \n",
       "837  available  \n",
       "838  available  \n",
       "841  available  "
      ]
     },
     "execution_count": 30,
     "metadata": {},
     "output_type": "execute_result"
    }
   ],
   "source": [
    "messages[messages['order_id'] == 506760].head()"
   ]
  },
  {
   "cell_type": "markdown",
   "metadata": {},
   "source": [
    "I realized that the same order id could have multiple 'ids'. I am assuming each unique id is whenever a new search is done for that particular order, because the time stamps are vastly different. So I will rank the notaries within each search, or 'id'."
   ]
  },
  {
   "cell_type": "code",
   "execution_count": 31,
   "metadata": {
    "collapsed": false
   },
   "outputs": [
    {
     "name": "stdout",
     "output_type": "stream",
     "text": [
      "id\n",
      "493397    13\n",
      "493446     4\n",
      "493459    20\n",
      "493545    30\n",
      "493575     2\n",
      "dtype: int64\n"
     ]
    }
   ],
   "source": [
    "print(messages.groupby(['id']).size()).tail()"
   ]
  },
  {
   "cell_type": "markdown",
   "metadata": {},
   "source": [
    "Some of the orders still hve many messages, I check these but they seem right - all done within 1 session, just many searches."
   ]
  },
  {
   "cell_type": "code",
   "execution_count": 32,
   "metadata": {
    "collapsed": false
   },
   "outputs": [
    {
     "data": {
      "text/html": [
       "<div>\n",
       "<table border=\"1\" class=\"dataframe\">\n",
       "  <thead>\n",
       "    <tr style=\"text-align: right;\">\n",
       "      <th></th>\n",
       "      <th>id</th>\n",
       "      <th>order_id</th>\n",
       "      <th>notary_id</th>\n",
       "      <th>messaged_at</th>\n",
       "      <th>responded_at</th>\n",
       "      <th>response</th>\n",
       "    </tr>\n",
       "  </thead>\n",
       "  <tbody>\n",
       "    <tr>\n",
       "      <th>16345</th>\n",
       "      <td>493545</td>\n",
       "      <td>599808</td>\n",
       "      <td>66765</td>\n",
       "      <td>2016-08-31 17:43:09</td>\n",
       "      <td>NaT</td>\n",
       "      <td>NaN</td>\n",
       "    </tr>\n",
       "    <tr>\n",
       "      <th>16346</th>\n",
       "      <td>493545</td>\n",
       "      <td>599808</td>\n",
       "      <td>57826</td>\n",
       "      <td>2016-08-31 17:44:30</td>\n",
       "      <td>NaT</td>\n",
       "      <td>NaN</td>\n",
       "    </tr>\n",
       "    <tr>\n",
       "      <th>16347</th>\n",
       "      <td>493545</td>\n",
       "      <td>599808</td>\n",
       "      <td>72545</td>\n",
       "      <td>2016-08-31 17:45:21</td>\n",
       "      <td>2016-08-31 18:08:11</td>\n",
       "      <td>not_available</td>\n",
       "    </tr>\n",
       "    <tr>\n",
       "      <th>16348</th>\n",
       "      <td>493545</td>\n",
       "      <td>599808</td>\n",
       "      <td>70093</td>\n",
       "      <td>2016-08-31 17:45:46</td>\n",
       "      <td>NaT</td>\n",
       "      <td>NaN</td>\n",
       "    </tr>\n",
       "    <tr>\n",
       "      <th>16349</th>\n",
       "      <td>493545</td>\n",
       "      <td>599808</td>\n",
       "      <td>44886</td>\n",
       "      <td>2016-08-31 17:46:37</td>\n",
       "      <td>NaT</td>\n",
       "      <td>NaN</td>\n",
       "    </tr>\n",
       "  </tbody>\n",
       "</table>\n",
       "</div>"
      ],
      "text/plain": [
       "           id  order_id  notary_id         messaged_at        responded_at  \\\n",
       "16345  493545    599808      66765 2016-08-31 17:43:09                 NaT   \n",
       "16346  493545    599808      57826 2016-08-31 17:44:30                 NaT   \n",
       "16347  493545    599808      72545 2016-08-31 17:45:21 2016-08-31 18:08:11   \n",
       "16348  493545    599808      70093 2016-08-31 17:45:46                 NaT   \n",
       "16349  493545    599808      44886 2016-08-31 17:46:37                 NaT   \n",
       "\n",
       "            response  \n",
       "16345            NaN  \n",
       "16346            NaN  \n",
       "16347  not_available  \n",
       "16348            NaN  \n",
       "16349            NaN  "
      ]
     },
     "execution_count": 32,
     "metadata": {},
     "output_type": "execute_result"
    }
   ],
   "source": [
    "messages[messages['id'] == 493545].tail()"
   ]
  },
  {
   "cell_type": "code",
   "execution_count": 33,
   "metadata": {
    "collapsed": false
   },
   "outputs": [
    {
     "name": "stdout",
     "output_type": "stream",
     "text": [
      "Empty DataFrame\n",
      "Columns: [id, order_id, notary_id, messaged_at, responded_at, response]\n",
      "Index: []\n"
     ]
    },
    {
     "data": {
      "text/plain": [
       "id                  0\n",
       "order_id            0\n",
       "notary_id           0\n",
       "messaged_at         0\n",
       "responded_at    11470\n",
       "response        11469\n",
       "dtype: int64"
      ]
     },
     "execution_count": 33,
     "metadata": {},
     "output_type": "execute_result"
    }
   ],
   "source": [
    "print(messages[messages.duplicated()]) # no duplicates # data is clean\n",
    "messages.isnull().sum() # no null values for the columns that are important\n"
   ]
  },
  {
   "cell_type": "markdown",
   "metadata": {},
   "source": [
    "Messages data is also clean, so I will compute the feature where I rank the notaries in each search.\n",
    "\n",
    "Since Snapdocs sequentially messages notaries - give ranks to notaries for each search according to sequence.\n",
    "\n",
    "Since I am going to merge this with the original orders dataframe using the order and notary id, if a notary showed up on multiple searches on the same order, all of this data will get merged, and there will be more duplicates. To solve this problem, I remove duplicates of the same notary that showed up in the same order but over multiple searches - I just keep the last one. (This might need some readjusting if there is more time, to keep the most relevant notary instead of just the last one, but for the sake of time, I go with the last one).\n",
    "\n",
    "I then merge everything into one larger dataframe, that I will feed into the linear model.\n"
   ]
  },
  {
   "cell_type": "code",
   "execution_count": 34,
   "metadata": {
    "collapsed": false
   },
   "outputs": [],
   "source": [
    "messages['rank'] = messages.groupby('id')['messaged_at'].rank(ascending=True)\n",
    "messages_new = messages.drop_duplicates(['order_id', 'notary_id'], keep='last')\n",
    "\n",
    "orders_completed_all = pd.merge(orders_completed, messages_new, on=['order_id', 'notary_id'])\n"
   ]
  },
  {
   "cell_type": "markdown",
   "metadata": {},
   "source": [
    "#### Implementing Linear Regression\n",
    "\n",
    "I now have the features I need as well as my output, cleaned to a certain extent.\n",
    "\n",
    "I am going to first convert the categorical features to dummy variables, throw in all the features into the LR model, and then validate it to see how it performs. Based on its performance, I will look closely at the data and try to make recommendations on where to go from here.\n",
    "\n",
    "Importing relevant libraries:"
   ]
  },
  {
   "cell_type": "code",
   "execution_count": 35,
   "metadata": {
    "collapsed": false
   },
   "outputs": [
    {
     "name": "stderr",
     "output_type": "stream",
     "text": [
      "/home/harisk87/anaconda2/envs/my_projects_env/lib/python2.7/site-packages/sklearn/cross_validation.py:44: DeprecationWarning:\n",
      "\n",
      "This module was deprecated in version 0.18 in favor of the model_selection module into which all the refactored classes and functions are moved. Also note that the interface of the new CV iterators are different from that of this module. This module will be removed in 0.20.\n",
      "\n"
     ]
    }
   ],
   "source": [
    "from sklearn import datasets, metrics\n",
    "from sklearn.linear_model import LinearRegression\n",
    "from sklearn.model_selection import cross_val_score\n",
    "from sklearn.cross_validation import train_test_split\n",
    "lm = LinearRegression(normalize=True)\n"
   ]
  },
  {
   "cell_type": "markdown",
   "metadata": {},
   "source": [
    "Pulling out the input and output features:"
   ]
  },
  {
   "cell_type": "code",
   "execution_count": 36,
   "metadata": {
    "collapsed": true
   },
   "outputs": [],
   "source": [
    "feature_cols = ['travel_distance','weekend', 'rank']\n",
    "xprev = orders_completed_all[feature_cols]\n",
    "xprev_1 = []\n",
    "xprev_1 = pd.concat([xprev, pd.get_dummies(orders_completed_all['product_name'])],axis=1)\n",
    "x = []\n",
    "x = xprev_1 = pd.concat([xprev_1, pd.get_dummies(orders_completed_all['state'])],axis=1)\n",
    "\n",
    "y = orders_completed_all['total_notary_fee']#.reset_index()['short_term']x"
   ]
  },
  {
   "cell_type": "markdown",
   "metadata": {},
   "source": [
    "I then do an 80/20 test / train split on the model - I train the model on 80% of the data, and validate how well it performs on the remaining 20% of the data. I run this 20 times, to ensure there is no bias in sampling of the test set. I find that on average the R-squared value is not very high - only around 0.2, and there is a high variance in the R-sqaured value (between 0.15 - 0.5). For the purpose of the model for Bigly, I return to them a model that gives the highest R-squared for the time being, until I can make improvements to this model and update them."
   ]
  },
  {
   "cell_type": "code",
   "execution_count": 43,
   "metadata": {
    "collapsed": false
   },
   "outputs": [
    {
     "name": "stdout",
     "output_type": "stream",
     "text": [
      "The mean sum of squares is 313.556687268\n",
      "The mean R-squared is 0.207157877336\n",
      "The max R-squared is 0.390868962984\n",
      "The coefficients associated with the highest R-squared is: [  0.34372864  -1.77105829  -0.16488577 -10.44521129   2.84484871\n",
      "  18.15674919   0.77657777  -0.77657777]\n"
     ]
    }
   ],
   "source": [
    "R = []\n",
    "C = []\n",
    "SS = []\n",
    "for i in range(0,20):\n",
    "    x_train,x_test,y_train,y_test = train_test_split(x, y,test_size=0.2)\n",
    "    L = lm.fit(x_train, y_train)\n",
    "    R.append(lm.score(x_test, y_test))\n",
    "    C.append(lm.coef_)\n",
    "    SS.append(np.mean((lm.predict(x_test) - y_test) ** 2))\n",
    "\n",
    "#print(R)\n",
    "print('The mean sum of squares is ' + str(np.mean(SS)))\n",
    "print('The mean R-squared is ' + str(np.mean(R)))\n",
    "print('The max R-squared is ' + str(np.max(R)))\n",
    "print('The coefficients associated with the highest R-squared is: ' + str(C[R.index(max(R))]))\n",
    "#print(C)"
   ]
  },
  {
   "cell_type": "markdown",
   "metadata": {},
   "source": [
    "Then I go back and look at the data to see what I can improve on (features / model) , and any recommendations to the company on what to look at, moving forward. I plot each feature and how it relates to the output (price) and calculate the correlation coefficient for relevant features."
   ]
  },
  {
   "cell_type": "code",
   "execution_count": 38,
   "metadata": {
    "collapsed": false
   },
   "outputs": [
    {
     "data": {
      "text/html": [
       "<div id=\"92cd91a2-1a4e-4b34-85a1-22715f722bbd\" style=\"height: 525px; width: 100%;\" class=\"plotly-graph-div\"></div><script type=\"text/javascript\">require([\"plotly\"], function(Plotly) { window.PLOTLYENV=window.PLOTLYENV || {};window.PLOTLYENV.BASE_URL=\"https://plot.ly\";Plotly.newPlot(\"92cd91a2-1a4e-4b34-85a1-22715f722bbd\", [{\"y\": [100.0, 75.0, 100.0, 105.0, 110.0, 0.0, 110.0, 170.0, 70.0, 70.0, 75.0, 0.0, 20.0, 75.0, 30.0, 30.0, 30.0, 35.0, 35.0, 40.0, 45.0, 45.0, 50.0, 60.0, 60.0, 55.0, 55.0, 60.0, 60.0, 55.0, 75.0, 115.0, 75.0, 75.0, 75.0, 75.0, 75.0, 65.0, 65.0, 70.0, 70.0, 70.0, 55.0, 75.0, 65.0, 40.0, 65.0, 70.0, 70.0, 70.0, 75.0, 75.0, 75.0, 65.0, 65.0, 70.0, 70.0, 70.0, 65.0, 65.0, 70.0, 80.0, 70.0, 65.0, 65.0, 70.0, 65.0, 85.0, 85.0, 85.0, 85.0, 85.0, 85.0, 85.0, 115.0, 85.0, 85.0, 85.0, 85.0, 85.0, 85.0, 85.0, 85.0, 85.0, 85.0, 40.0, 85.0, 85.0, 85.0, 85.0, 85.0, 85.0, 85.0, 85.0, 85.0, 85.0, 85.0, 70.0, 70.0, 75.0, 65.0, 75.0, 70.0, 65.0, 70.0, 70.0, 70.0, 85.0, 85.0, 85.0, 85.0, 85.0, 85.0, 70.0, 65.0, 70.0, 65.0, 70.0, 65.0, 70.0, 70.0, 70.0, 70.0, 65.0, 65.0, 70.0, 70.0, 70.0, 70.0, 70.0, 75.0, 75.0, 75.0, 70.0, 70.0, 75.0, 75.0, 90.0, 90.0, 90.0, 90.0, 90.0, 90.0, 90.0, 75.0, 75.0, 70.0, 70.0, 75.0, 75.0, 80.0, 75.0, 75.0, 80.0, 300.0, 80.0, 90.0, 80.0, 175.0, 175.0, 80.0, 80.0, 80.0, 80.0, 80.0, 75.0, 75.0, 80.0, 80.0, 80.0, 80.0, 80.0, 75.0, 85.0, 80.0, 80.0, 80.0, 75.0, 90.0, 75.0, 90.0, 80.0, 90.0, 80.0, 80.0, 90.0, 90.0, 90.0, 90.0, 75.0, 75.0, 80.0, 90.0, 90.0, 90.0, 80.0, 90.0, 90.0, 90.0, 80.0, 90.0, 85.0, 85.0, 90.0, 85.0, 90.0, 90.0, 225.0, 80.0, 85.0, 85.0, 85.0, 80.0, 85.0, 85.0, 85.0, 90.0, 85.0, 85.0, 85.0, 80.0, 90.0, 80.0, 85.0, 85.0, 85.0, 95.0, 95.0, 85.0, 95.0, 95.0, 85.0, 80.0, 85.0, 95.0, 95.0, 95.0, 95.0, 95.0, 95.0, 80.0, 95.0, 95.0, 80.0, 85.0, 85.0, 80.0, 80.0, 85.0, 85.0, 85.0, 80.0, 80.0, 85.0, 85.0, 85.0, 80.0, 80.0, 85.0, 85.0, 85.0, 80.0, 85.0, 90.0, 90.0, 85.0, 85.0, 90.0, 95.0, 95.0, 90.0, 85.0, 95.0, 85.0, 90.0, 90.0, 90.0, 85.0, 85.0, 90.0, 90.0, 85.0, 90.0, 90.0, 85.0, 90.0, 90.0, 85.0, 90.0, 90.0, 90.0, 85.0, 85.0, 90.0, 90.0, 90.0, 85.0, 85.0, 90.0, 95.0, 90.0, 90.0, 85.0, 85.0, 90.0, 90.0, 90.0, 85.0, 85.0, 90.0, 90.0, 90.0, 95.0, 85.0, 90.0, 95.0, 95.0, 95.0, 95.0, 95.0, 95.0, 95.0, 90.0, 90.0, 95.0, 95.0, 95.0, 95.0, 95.0, 95.0, 95.0, 95.0, 95.0, 95.0, 95.0, 95.0, 95.0, 95.0, 95.0, 95.0, 95.0, 95.0, 95.0, 95.0, 95.0, 95.0, 95.0, 95.0, 95.0, 95.0, 95.0, 95.0, 95.0, 95.0, 95.0, 95.0, 95.0, 95.0, 95.0, 95.0, 90.0, 95.0, 95.0, 95.0, 95.0, 95.0, 95.0, 95.0, 95.0, 95.0, 95.0, 95.0, 95.0, 95.0, 95.0, 95.0, 95.0, 95.0, 95.0, 95.0, 95.0, 95.0, 95.0, 95.0, 95.0, 95.0, 95.0, 95.0, 95.0, 90.0, 95.0, 95.0, 95.0, 95.0, 95.0, 95.0, 95.0, 95.0, 95.0, 115.0, 95.0, 95.0, 90.0, 95.0, 95.0, 95.0, 95.0, 90.0, 95.0, 95.0, 95.0, 95.0, 95.0, 95.0, 95.0, 95.0, 95.0, 95.0, 90.0, 95.0, 95.0, 95.0, 95.0, 95.0, 95.0, 95.0, 95.0, 90.0, 95.0, 95.0, 95.0, 95.0, 90.0, 90.0, 95.0, 95.0, 95.0, 95.0, 90.0, 90.0, 95.0, 95.0, 95.0, 95.0, 95.0, 90.0, 95.0, 38.29, 95.0, 95.0, 95.0, 95.0, 95.0, 95.0, 95.0, 95.0, 95.0, 95.0, 90.0, 95.0, 95.0, 95.0, 95.0, 95.0, 95.0, 95.0, 95.0, 95.0, 95.0, 95.0, 95.0, 95.0, 95.0, 95.0, 95.0, 95.0, 95.0, 95.0, 95.0, 95.0, 95.0, 95.0, 95.0, 95.0, 95.0, 95.0, 90.0, 90.0, 95.0, 95.0, 95.0, 90.0, 90.0, 95.0, 95.0, 95.0, 90.0, 90.0, 95.0, 95.0, 95.0, 95.0, 95.0, 90.0, 90.0, 95.0, 95.0, 95.0, 95.0, 95.0, 95.0, 95.0, 95.0, 95.0, 105.0, 95.0, 90.0, 95.0, 90.0, 95.0, 95.0, 90.0, 95.0, 95.0, 95.0, 95.0, 95.0, 95.0, 95.0, 95.0, 95.0, 95.0, 95.0, 95.0, 95.0, 95.0, 95.0, 105.0, 90.0, 95.0, 95.0, 90.0, 95.0, 90.0, 95.0, 95.0, 90.0, 90.0, 95.0, 95.0, 95.0, 105.0, 95.0, 95.0, 95.0, 95.0, 95.0, 90.0, 95.0, 95.0, 95.0, 95.0, 95.0, 95.0, 90.0, 90.0, 95.0, 95.0, 95.0, 90.0, 90.0, 95.0, 95.0, 95.0, 95.0, 90.0, 90.0, 95.0, 95.0, 95.0, 90.0, 95.0, 90.0, 100.0, 105.0, 95.0, 100.0, 95.0, 95.0, 90.0, 90.0, 95.0, 95.0, 100.0, 100.0, 100.0, 95.0, 100.0, 90.0, 100.0, 100.0, 100.0, 100.0, 100.0, 100.0, 100.0, 100.0, 100.0, 90.0, 100.0, 100.0, 100.0, 100.0, 100.0, 100.0, 100.0, 100.0, 100.0, 100.0, 100.0, 100.0, 95.0, 100.0, 95.0, 100.0, 100.0, 95.0, 100.0, 90.0, 90.0, 95.0, 100.0, 100.0, 95.0, 90.0, 90.0, 100.0, 100.0, 100.0, 100.0, 100.0, 100.0, 95.0, 95.0, 95.0, 90.0, 90.0, 95.0, 95.0, 95.0, 100.0, 90.0, 90.0, 95.0, 100.0, 95.0, 115.0, 95.0, 90.0, 90.0, 95.0, 95.0, 115.0, 95.0, 90.0, 90.0, 100.0, 95.0, 95.0, 100.0, 100.0, 100.0, 100.0, 100.0, 95.0, 100.0, 100.0, 100.0, 100.0, 100.0, 100.0, 100.0, 100.0, 95.0, 100.0, 100.0, 95.0, 95.0, 100.0, 100.0, 100.0, 105.0, 105.0, 105.0, 105.0, 95.0, 100.0, 105.0, 105.0, 105.0, 105.0, 100.0, 100.0, 95.0, 105.0, 100.0, 110.0, 100.0, 95.0, 95.0, 100.0, 100.0, 95.0, 100.0, 100.0, 100.0, 115.0, 115.0, 95.0, 115.0, 115.0, 115.0, 115.0, 95.0, 100.0, 100.0, 100.0, 115.0, 95.0, 95.0, 205.0, 100.0, 100.0, 100.0, 95.0, 95.0, 100.0, 100.0, 100.0, 95.0, 95.0, 115.0, 100.0, 115.0, 105.0, 100.0, 115.0, 100.0, 105.0, 105.0, 100.0, 115.0, 125.0, 125.0, 125.0, 125.0, 125.0, 105.0, 125.0, 125.0, 105.0, 105.0, 105.0, 105.0, 110.0, 110.0, 105.0, 110.0, 115.0, 115.0, 110.0, 85.0, 115.0, 110.0, 110.0, 115.0, 115.0, 115.0, 110.0, 85.0, 110.0, 85.0, 115.0, 115.0, 115.0, 110.0, 115.0, 115.0, 90.0, 115.0, 110.0, 115.0, 90.0, 115.0, 110.0, 115.0, 90.0, 110.0, 115.0, 115.0, 110.0, 115.0, 115.0, 115.0, 110.0, 110.0, 90.0, 115.0, 90.0, 115.0, 110.0, 110.0, 115.0, 115.0, 120.0, 115.0, 115.0, 120.0, 115.0, 115.0, 120.0, 115.0, 125.0, 125.0, 115.0, 120.0, 125.0, 115.0, 120.0, 120.0, 120.0, 120.0, 115.0, 120.0, 125.0, 125.0, 125.0, 125.0, 120.0, 120.0, 125.0, 127.5, 130.0, 135.0, 140.0, 135.0, 140.0, 140.0, 135.0, 135.0, 145.0, 115.0, 115.0, 115.0, 25.0, 175.0, 175.0, 175.0, 115.0, 115.0, 175.0, 120.0, 125.0, 130.0], \"x\": [11.0, 10.0, 7.0, 6.0, 1.0, 3.0, 1.0, 1.0, 1.0, 5.0, 20.0, 24.0, 4.0, 9.0, 25.0, 11.0, 9.0, 10.0, 1.0, 7.0, 5.0, 1.0, 1.0, 3.0, 1.0, 16.0, 10.0, 3.0, 2.0, 2.0, 10.0, 4.0, 1.0, 1.0, 1.0, 4.0, 3.0, 2.0, 3.0, 10.0, 1.0, 1.0, 1.0, 1.0, 6.0, 6.0, 3.0, 2.0, 13.0, 1.0, 5.0, 3.0, 5.0, 6.0, 7.0, 3.0, 5.0, 3.0, 2.0, 3.0, 1.0, 9.0, 4.0, 3.0, 30.0, 1.0, 13.0, 13.0, 2.0, 1.0, 1.0, 4.0, 4.0, 2.0, 2.0, 1.0, 2.0, 1.0, 3.0, 2.0, 4.0, 2.0, 1.0, 2.0, 4.0, 12.0, 1.0, 2.0, 1.0, 1.0, 4.0, 1.0, 1.0, 1.0, 2.0, 1.0, 1.0, 10.0, 1.0, 2.0, 6.0, 1.0, 5.0, 6.0, 1.0, 2.0, 5.0, 4.0, 1.0, 1.0, 5.0, 3.0, 1.0, 3.0, 2.0, 5.0, 1.0, 4.0, 7.0, 8.0, 3.0, 11.0, 1.0, 2.0, 1.0, 9.0, 1.0, 45.0, 1.0, 3.0, 9.0, 28.0, 2.0, 11.0, 5.0, 12.0, 8.0, 1.0, 1.0, 6.0, 10.0, 3.0, 1.0, 1.0, 6.0, 4.0, 5.0, 16.0, 12.0, 12.0, 33.0, 2.0, 2.0, 1.0, 2.0, 5.0, 1.0, 1.0, 4.0, 4.0, 9.0, 1.0, 1.0, 1.0, 2.0, 12.0, 13.0, 38.0, 22.0, 4.0, 1.0, 2.0, 12.0, 5.0, 1.0, 1.0, 30.0, 11.0, 1.0, 5.0, 4.0, 10.0, 7.0, 9.0, 17.0, 6.0, 1.0, 6.0, 3.0, 3.0, 23.0, 5.0, 3.0, 5.0, 1.0, 5.0, 1.0, 1.0, 4.0, 10.0, 7.0, 9.0, 3.0, 2.0, 23.0, 1.0, 1.0, 4.0, 3.0, 1.0, 5.0, 1.0, 2.0, 6.0, 4.0, 3.0, 5.0, 11.0, 26.0, 5.0, 10.0, 2.0, 6.0, 27.0, 17.0, 4.0, 4.0, 17.0, 3.0, 2.0, 1.0, 2.0, 7.0, 6.0, 1.0, 2.0, 1.0, 1.0, 10.0, 4.0, 19.0, 1.0, 1.0, 18.0, 2.0, 14.0, 5.0, 7.0, 4.0, 1.0, 2.0, 2.0, 7.0, 7.0, 12.0, 2.0, 1.0, 2.0, 3.0, 9.0, 11.0, 6.0, 6.0, 2.0, 28.0, 4.0, 4.0, 5.0, 1.0, 2.0, 13.0, 1.0, 2.0, 1.0, 1.0, 2.0, 6.0, 4.0, 1.0, 55.0, 2.0, 11.0, 3.0, 3.0, 22.0, 3.0, 1.0, 5.0, 11.0, 9.0, 9.0, 2.0, 5.0, 1.0, 4.0, 1.0, 1.0, 2.0, 13.0, 1.0, 8.0, 1.0, 8.0, 5.0, 8.0, 1.0, 1.0, 2.0, 7.0, 5.0, 12.0, 12.0, 7.0, 5.0, 2.0, 1.0, 13.0, 3.0, 18.0, 5.0, 5.0, 2.0, 1.0, 1.0, 1.0, 3.0, 6.0, 1.0, 3.0, 3.0, 1.0, 1.0, 2.0, 1.0, 2.0, 1.0, 1.0, 2.0, 3.0, 7.0, 3.0, 1.0, 1.0, 1.0, 2.0, 1.0, 6.0, 1.0, 1.0, 1.0, 4.0, 4.0, 2.0, 3.0, 2.0, 1.0, 1.0, 4.0, 1.0, 3.0, 7.0, 2.0, 3.0, 5.0, 2.0, 1.0, 1.0, 2.0, 1.0, 3.0, 4.0, 4.0, 2.0, 1.0, 8.0, 4.0, 1.0, 2.0, 7.0, 1.0, 2.0, 1.0, 3.0, 3.0, 2.0, 10.0, 3.0, 2.0, 1.0, 3.0, 1.0, 10.0, 8.0, 6.0, 2.0, 1.0, 1.0, 2.0, 1.0, 3.0, 3.0, 5.0, 4.0, 4.0, 1.0, 1.0, 1.0, 1.0, 3.0, 2.0, 2.0, 1.0, 3.0, 8.0, 1.0, 1.0, 8.0, 6.0, 6.0, 1.0, 2.0, 6.0, 1.0, 2.0, 2.0, 1.0, 2.0, 8.0, 1.0, 2.0, 5.0, 4.0, 3.0, 3.0, 2.0, 1.0, 1.0, 2.0, 6.0, 4.0, 2.0, 18.0, 5.0, 4.0, 1.0, 2.0, 3.0, 1.0, 3.0, 4.0, 2.0, 6.0, 6.0, 5.0, 1.0, 4.0, 1.0, 2.0, 1.0, 1.0, 1.0, 2.0, 1.0, 1.0, 1.0, 2.0, 2.0, 3.0, 13.0, 1.0, 1.0, 2.0, 3.0, 5.0, 2.0, 1.0, 2.0, 4.0, 3.0, 1.0, 3.0, 1.0, 1.0, 1.0, 1.0, 3.0, 4.0, 1.0, 5.0, 6.0, 3.0, 7.0, 43.0, 4.0, 1.0, 1.0, 1.0, 1.0, 8.0, 7.0, 1.0, 1.0, 2.0, 11.0, 2.0, 2.0, 2.0, 2.0, 4.0, 3.0, 1.0, 1.0, 1.0, 1.0, 1.0, 7.0, 1.0, 1.0, 1.0, 30.0, 3.0, 1.0, 1.0, 3.0, 2.0, 4.0, 4.0, 1.0, 5.0, 4.0, 6.0, 1.0, 2.0, 3.0, 4.0, 1.0, 2.0, 2.0, 25.0, 1.0, 1.0, 9.0, 1.0, 3.0, 1.0, 4.0, 1.0, 10.0, 4.0, 3.0, 3.0, 1.0, 1.0, 3.0, 4.0, 2.0, 4.0, 14.0, 3.0, 28.0, 1.0, 1.0, 10.0, 16.0, 6.0, 23.0, 3.0, 5.0, 4.0, 13.0, 16.0, 1.0, 3.0, 5.0, 5.0, 6.0, 8.0, 3.0, 3.0, 2.0, 5.0, 1.0, 2.0, 1.0, 7.0, 21.0, 7.0, 3.0, 4.0, 9.0, 4.0, 19.0, 8.0, 2.0, 2.0, 1.0, 24.0, 1.0, 5.0, 4.0, 7.0, 11.0, 5.0, 1.0, 1.0, 3.0, 1.0, 5.0, 2.0, 3.0, 23.0, 1.0, 6.0, 2.0, 5.0, 5.0, 2.0, 5.0, 1.0, 3.0, 1.0, 1.0, 10.0, 4.0, 3.0, 6.0, 5.0, 3.0, 5.0, 6.0, 2.0, 4.0, 11.0, 9.0, 2.0, 1.0, 8.0, 3.0, 8.0, 6.0, 4.0, 1.0, 4.0, 3.0, 10.0, 32.0, 5.0, 4.0, 1.0, 18.0, 3.0, 1.0, 4.0, 3.0, 2.0, 2.0, 2.0, 2.0, 12.0, 4.0, 3.0, 7.0, 1.0, 34.0, 28.0, 3.0, 2.0, 1.0, 1.0, 1.0, 3.0, 1.0, 5.0, 1.0, 4.0, 1.0, 3.0, 8.0, 1.0, 1.0, 3.0, 4.0, 2.0, 6.0, 5.0, 3.0, 3.0, 6.0, 1.0, 31.0, 14.0, 2.0, 1.0, 1.0, 2.0, 10.0, 2.0, 4.0, 1.0, 1.0, 2.0, 13.0, 20.0, 3.0, 1.0, 64.0, 1.0, 10.0, 1.0, 1.0, 45.0, 1.0, 4.0, 11.0, 3.0, 2.0, 6.0, 1.0, 1.0, 9.0, 5.0, 11.0, 11.0, 18.0, 1.0, 5.0, 1.0, 2.0, 49.0, 3.0, 1.0, 3.0, 6.0, 12.0, 27.0, 4.0, 8.0, 1.0, 4.0, 2.0, 9.0, 8.0, 14.0, 1.0, 1.0, 1.0, 5.0, 1.0, 1.0, 5.0, 3.0, 3.0, 2.0, 1.0, 7.0, 8.0, 1.0, 3.0, 1.0, 1.0, 4.0, 4.0, 2.0, 24.0, 4.0, 3.0, 1.0, 2.0, 5.0, 46.0, 33.0, 3.0, 3.0, 1.0, 5.0, 1.0, 5.0, 6.0, 21.0, 1.0, 1.0, 3.0, 5.0, 12.0, 9.0, 2.0, 2.0, 3.0, 7.0, 3.0, 26.0, 4.0, 3.0, 1.0, 23.0, 3.0, 21.0, 5.0, 17.0, 5.0, 7.0, 2.0, 2.0, 2.0, 4.0, 12.0, 1.0, 23.0, 3.0, 2.0, 3.0, 9.0, 12.0, 1.0, 3.0, 12.0, 4.0, 2.0, 1.0, 1.0, 4.0, 1.0, 8.0, 1.0, 3.0, 3.0, 8.0, 7.0, 2.0, 1.0, 1.0, 2.0, 1.0, 4.0, 5.0, 12.0, 11.0, 3.0, 4.0, 10.0, 8.0, 1.0, 9.0, 11.0, 2.0, 29.0, 25.0, 5.0, 8.0, 11.0, 12.0, 3.0, 2.0, 5.0, 2.0, 10.0, 7.0, 22.0, 9.0, 13.0, 4.0, 3.0, 26.0, 3.0], \"type\": \"scatter\", \"name\": \"fees\", \"mode\": \"markers\"}], {\"title\": \"Rank vs fees for notaries\", \"xaxis\": {\"title\": \"notary rank\"}, \"yaxis\": {\"title\": \"notary fees\"}}, {\"linkText\": \"Export to plot.ly\", \"showLink\": true})});</script>"
      ],
      "text/plain": [
       "<IPython.core.display.HTML object>"
      ]
     },
     "metadata": {},
     "output_type": "display_data"
    },
    {
     "data": {
      "text/plain": [
       "-0.0249"
      ]
     },
     "execution_count": 38,
     "metadata": {},
     "output_type": "execute_result"
    }
   ],
   "source": [
    "plot_scatter(orders_completed_all['rank'], orders_completed_all['total_notary_fee'], 'notary rank', 'notary fees', 'Rank vs fees for notaries')\n",
    "round(np.corrcoef(orders_completed_all['rank'],  orders_completed_all['total_notary_fee'])[0, 1].astype(float),4)"
   ]
  },
  {
   "cell_type": "code",
   "execution_count": 39,
   "metadata": {
    "collapsed": false
   },
   "outputs": [
    {
     "data": {
      "text/html": [
       "<div id=\"02ef3cfa-ced9-4760-90d9-f3d4152d6adf\" style=\"height: 525px; width: 100%;\" class=\"plotly-graph-div\"></div><script type=\"text/javascript\">require([\"plotly\"], function(Plotly) { window.PLOTLYENV=window.PLOTLYENV || {};window.PLOTLYENV.BASE_URL=\"https://plot.ly\";Plotly.newPlot(\"02ef3cfa-ced9-4760-90d9-f3d4152d6adf\", [{\"y\": [100.0, 75.0, 100.0, 105.0, 110.0, 0.0, 110.0, 170.0, 70.0, 70.0, 75.0, 0.0, 20.0, 75.0, 30.0, 30.0, 30.0, 35.0, 35.0, 40.0, 45.0, 45.0, 50.0, 60.0, 60.0, 55.0, 55.0, 60.0, 60.0, 55.0, 75.0, 115.0, 75.0, 75.0, 75.0, 75.0, 75.0, 65.0, 65.0, 70.0, 70.0, 70.0, 55.0, 75.0, 65.0, 40.0, 65.0, 70.0, 70.0, 70.0, 75.0, 75.0, 75.0, 65.0, 65.0, 70.0, 70.0, 70.0, 65.0, 65.0, 70.0, 80.0, 70.0, 65.0, 65.0, 70.0, 65.0, 85.0, 85.0, 85.0, 85.0, 85.0, 85.0, 85.0, 115.0, 85.0, 85.0, 85.0, 85.0, 85.0, 85.0, 85.0, 85.0, 85.0, 85.0, 40.0, 85.0, 85.0, 85.0, 85.0, 85.0, 85.0, 85.0, 85.0, 85.0, 85.0, 85.0, 70.0, 70.0, 75.0, 65.0, 75.0, 70.0, 65.0, 70.0, 70.0, 70.0, 85.0, 85.0, 85.0, 85.0, 85.0, 85.0, 70.0, 65.0, 70.0, 65.0, 70.0, 65.0, 70.0, 70.0, 70.0, 70.0, 65.0, 65.0, 70.0, 70.0, 70.0, 70.0, 70.0, 75.0, 75.0, 75.0, 70.0, 70.0, 75.0, 75.0, 90.0, 90.0, 90.0, 90.0, 90.0, 90.0, 90.0, 75.0, 75.0, 70.0, 70.0, 75.0, 75.0, 80.0, 75.0, 75.0, 80.0, 300.0, 80.0, 90.0, 80.0, 175.0, 175.0, 80.0, 80.0, 80.0, 80.0, 80.0, 75.0, 75.0, 80.0, 80.0, 80.0, 80.0, 80.0, 75.0, 85.0, 80.0, 80.0, 80.0, 75.0, 90.0, 75.0, 90.0, 80.0, 90.0, 80.0, 80.0, 90.0, 90.0, 90.0, 90.0, 75.0, 75.0, 80.0, 90.0, 90.0, 90.0, 80.0, 90.0, 90.0, 90.0, 80.0, 90.0, 85.0, 85.0, 90.0, 85.0, 90.0, 90.0, 225.0, 80.0, 85.0, 85.0, 85.0, 80.0, 85.0, 85.0, 85.0, 90.0, 85.0, 85.0, 85.0, 80.0, 90.0, 80.0, 85.0, 85.0, 85.0, 95.0, 95.0, 85.0, 95.0, 95.0, 85.0, 80.0, 85.0, 95.0, 95.0, 95.0, 95.0, 95.0, 95.0, 80.0, 95.0, 95.0, 80.0, 85.0, 85.0, 80.0, 80.0, 85.0, 85.0, 85.0, 80.0, 80.0, 85.0, 85.0, 85.0, 80.0, 80.0, 85.0, 85.0, 85.0, 80.0, 85.0, 90.0, 90.0, 85.0, 85.0, 90.0, 95.0, 95.0, 90.0, 85.0, 95.0, 85.0, 90.0, 90.0, 90.0, 85.0, 85.0, 90.0, 90.0, 85.0, 90.0, 90.0, 85.0, 90.0, 90.0, 85.0, 90.0, 90.0, 90.0, 85.0, 85.0, 90.0, 90.0, 90.0, 85.0, 85.0, 90.0, 95.0, 90.0, 90.0, 85.0, 85.0, 90.0, 90.0, 90.0, 85.0, 85.0, 90.0, 90.0, 90.0, 95.0, 85.0, 90.0, 95.0, 95.0, 95.0, 95.0, 95.0, 95.0, 95.0, 90.0, 90.0, 95.0, 95.0, 95.0, 95.0, 95.0, 95.0, 95.0, 95.0, 95.0, 95.0, 95.0, 95.0, 95.0, 95.0, 95.0, 95.0, 95.0, 95.0, 95.0, 95.0, 95.0, 95.0, 95.0, 95.0, 95.0, 95.0, 95.0, 95.0, 95.0, 95.0, 95.0, 95.0, 95.0, 95.0, 95.0, 95.0, 90.0, 95.0, 95.0, 95.0, 95.0, 95.0, 95.0, 95.0, 95.0, 95.0, 95.0, 95.0, 95.0, 95.0, 95.0, 95.0, 95.0, 95.0, 95.0, 95.0, 95.0, 95.0, 95.0, 95.0, 95.0, 95.0, 95.0, 95.0, 95.0, 90.0, 95.0, 95.0, 95.0, 95.0, 95.0, 95.0, 95.0, 95.0, 95.0, 115.0, 95.0, 95.0, 90.0, 95.0, 95.0, 95.0, 95.0, 90.0, 95.0, 95.0, 95.0, 95.0, 95.0, 95.0, 95.0, 95.0, 95.0, 95.0, 90.0, 95.0, 95.0, 95.0, 95.0, 95.0, 95.0, 95.0, 95.0, 90.0, 95.0, 95.0, 95.0, 95.0, 90.0, 90.0, 95.0, 95.0, 95.0, 95.0, 90.0, 90.0, 95.0, 95.0, 95.0, 95.0, 95.0, 90.0, 95.0, 38.29, 95.0, 95.0, 95.0, 95.0, 95.0, 95.0, 95.0, 95.0, 95.0, 95.0, 90.0, 95.0, 95.0, 95.0, 95.0, 95.0, 95.0, 95.0, 95.0, 95.0, 95.0, 95.0, 95.0, 95.0, 95.0, 95.0, 95.0, 95.0, 95.0, 95.0, 95.0, 95.0, 95.0, 95.0, 95.0, 95.0, 95.0, 95.0, 90.0, 90.0, 95.0, 95.0, 95.0, 90.0, 90.0, 95.0, 95.0, 95.0, 90.0, 90.0, 95.0, 95.0, 95.0, 95.0, 95.0, 90.0, 90.0, 95.0, 95.0, 95.0, 95.0, 95.0, 95.0, 95.0, 95.0, 95.0, 105.0, 95.0, 90.0, 95.0, 90.0, 95.0, 95.0, 90.0, 95.0, 95.0, 95.0, 95.0, 95.0, 95.0, 95.0, 95.0, 95.0, 95.0, 95.0, 95.0, 95.0, 95.0, 95.0, 105.0, 90.0, 95.0, 95.0, 90.0, 95.0, 90.0, 95.0, 95.0, 90.0, 90.0, 95.0, 95.0, 95.0, 105.0, 95.0, 95.0, 95.0, 95.0, 95.0, 90.0, 95.0, 95.0, 95.0, 95.0, 95.0, 95.0, 90.0, 90.0, 95.0, 95.0, 95.0, 90.0, 90.0, 95.0, 95.0, 95.0, 95.0, 90.0, 90.0, 95.0, 95.0, 95.0, 90.0, 95.0, 90.0, 100.0, 105.0, 95.0, 100.0, 95.0, 95.0, 90.0, 90.0, 95.0, 95.0, 100.0, 100.0, 100.0, 95.0, 100.0, 90.0, 100.0, 100.0, 100.0, 100.0, 100.0, 100.0, 100.0, 100.0, 100.0, 90.0, 100.0, 100.0, 100.0, 100.0, 100.0, 100.0, 100.0, 100.0, 100.0, 100.0, 100.0, 100.0, 95.0, 100.0, 95.0, 100.0, 100.0, 95.0, 100.0, 90.0, 90.0, 95.0, 100.0, 100.0, 95.0, 90.0, 90.0, 100.0, 100.0, 100.0, 100.0, 100.0, 100.0, 95.0, 95.0, 95.0, 90.0, 90.0, 95.0, 95.0, 95.0, 100.0, 90.0, 90.0, 95.0, 100.0, 95.0, 115.0, 95.0, 90.0, 90.0, 95.0, 95.0, 115.0, 95.0, 90.0, 90.0, 100.0, 95.0, 95.0, 100.0, 100.0, 100.0, 100.0, 100.0, 95.0, 100.0, 100.0, 100.0, 100.0, 100.0, 100.0, 100.0, 100.0, 95.0, 100.0, 100.0, 95.0, 95.0, 100.0, 100.0, 100.0, 105.0, 105.0, 105.0, 105.0, 95.0, 100.0, 105.0, 105.0, 105.0, 105.0, 100.0, 100.0, 95.0, 105.0, 100.0, 110.0, 100.0, 95.0, 95.0, 100.0, 100.0, 95.0, 100.0, 100.0, 100.0, 115.0, 115.0, 95.0, 115.0, 115.0, 115.0, 115.0, 95.0, 100.0, 100.0, 100.0, 115.0, 95.0, 95.0, 205.0, 100.0, 100.0, 100.0, 95.0, 95.0, 100.0, 100.0, 100.0, 95.0, 95.0, 115.0, 100.0, 115.0, 105.0, 100.0, 115.0, 100.0, 105.0, 105.0, 100.0, 115.0, 125.0, 125.0, 125.0, 125.0, 125.0, 105.0, 125.0, 125.0, 105.0, 105.0, 105.0, 105.0, 110.0, 110.0, 105.0, 110.0, 115.0, 115.0, 110.0, 85.0, 115.0, 110.0, 110.0, 115.0, 115.0, 115.0, 110.0, 85.0, 110.0, 85.0, 115.0, 115.0, 115.0, 110.0, 115.0, 115.0, 90.0, 115.0, 110.0, 115.0, 90.0, 115.0, 110.0, 115.0, 90.0, 110.0, 115.0, 115.0, 110.0, 115.0, 115.0, 115.0, 110.0, 110.0, 90.0, 115.0, 90.0, 115.0, 110.0, 110.0, 115.0, 115.0, 120.0, 115.0, 115.0, 120.0, 115.0, 115.0, 120.0, 115.0, 125.0, 125.0, 115.0, 120.0, 125.0, 115.0, 120.0, 120.0, 120.0, 120.0, 115.0, 120.0, 125.0, 125.0, 125.0, 125.0, 120.0, 120.0, 125.0, 127.5, 130.0, 135.0, 140.0, 135.0, 140.0, 140.0, 135.0, 135.0, 145.0, 115.0, 115.0, 115.0, 25.0, 175.0, 175.0, 175.0, 115.0, 115.0, 175.0, 120.0, 125.0, 130.0], \"x\": [0.0, 0.0, 0.0, 0.0, 0.0, 0.0, 0.0, 0.0, 0.0, 0.0, 0.0, 0.0, 0.0, 0.0, 0.0, 0.0, 0.0, 0.0, 0.0, 1.0, 0.0, 0.0, 0.0, 0.0, 0.0, 0.0, 0.0, 0.0, 0.0, 0.0, 0.0, 0.0, 0.0, 0.0, 0.0, 0.0, 0.0, 1.0, 0.0, 0.0, 0.0, 0.0, 0.0, 0.0, 0.0, 0.0, 0.0, 0.0, 0.0, 1.0, 0.0, 0.0, 0.0, 0.0, 0.0, 0.0, 0.0, 0.0, 0.0, 0.0, 0.0, 0.0, 0.0, 0.0, 0.0, 0.0, 0.0, 0.0, 0.0, 0.0, 0.0, 1.0, 0.0, 1.0, 0.0, 0.0, 0.0, 0.0, 0.0, 0.0, 0.0, 0.0, 0.0, 0.0, 0.0, 0.0, 0.0, 0.0, 0.0, 0.0, 1.0, 1.0, 0.0, 0.0, 0.0, 0.0, 0.0, 1.0, 0.0, 0.0, 0.0, 0.0, 0.0, 0.0, 0.0, 0.0, 0.0, 0.0, 0.0, 0.0, 0.0, 0.0, 0.0, 0.0, 0.0, 0.0, 0.0, 0.0, 0.0, 0.0, 0.0, 0.0, 0.0, 0.0, 1.0, 0.0, 1.0, 0.0, 0.0, 0.0, 0.0, 0.0, 0.0, 0.0, 0.0, 0.0, 1.0, 0.0, 0.0, 0.0, 1.0, 0.0, 0.0, 0.0, 0.0, 0.0, 0.0, 0.0, 0.0, 0.0, 0.0, 0.0, 0.0, 0.0, 0.0, 0.0, 0.0, 0.0, 0.0, 0.0, 0.0, 0.0, 0.0, 0.0, 0.0, 0.0, 0.0, 0.0, 0.0, 0.0, 0.0, 0.0, 0.0, 0.0, 0.0, 0.0, 0.0, 0.0, 0.0, 0.0, 0.0, 0.0, 1.0, 1.0, 0.0, 0.0, 0.0, 0.0, 0.0, 0.0, 0.0, 0.0, 0.0, 0.0, 0.0, 1.0, 0.0, 0.0, 0.0, 0.0, 0.0, 0.0, 0.0, 0.0, 0.0, 0.0, 0.0, 0.0, 0.0, 0.0, 0.0, 0.0, 0.0, 0.0, 0.0, 0.0, 0.0, 0.0, 0.0, 0.0, 0.0, 0.0, 0.0, 0.0, 0.0, 0.0, 0.0, 0.0, 0.0, 0.0, 0.0, 0.0, 0.0, 0.0, 1.0, 1.0, 0.0, 0.0, 0.0, 0.0, 0.0, 0.0, 0.0, 0.0, 0.0, 0.0, 0.0, 0.0, 0.0, 0.0, 0.0, 0.0, 0.0, 0.0, 0.0, 0.0, 0.0, 0.0, 0.0, 0.0, 0.0, 0.0, 0.0, 0.0, 0.0, 0.0, 0.0, 0.0, 0.0, 0.0, 0.0, 0.0, 0.0, 0.0, 0.0, 0.0, 0.0, 0.0, 0.0, 0.0, 0.0, 0.0, 0.0, 0.0, 0.0, 0.0, 0.0, 0.0, 0.0, 0.0, 0.0, 0.0, 0.0, 0.0, 0.0, 0.0, 0.0, 0.0, 0.0, 0.0, 0.0, 0.0, 0.0, 0.0, 1.0, 0.0, 1.0, 0.0, 0.0, 0.0, 0.0, 0.0, 0.0, 0.0, 0.0, 0.0, 0.0, 0.0, 0.0, 0.0, 0.0, 0.0, 0.0, 0.0, 0.0, 0.0, 0.0, 0.0, 0.0, 0.0, 0.0, 0.0, 0.0, 0.0, 0.0, 0.0, 0.0, 1.0, 0.0, 0.0, 0.0, 0.0, 1.0, 0.0, 0.0, 0.0, 0.0, 0.0, 0.0, 1.0, 0.0, 0.0, 0.0, 1.0, 0.0, 0.0, 1.0, 0.0, 0.0, 0.0, 0.0, 0.0, 0.0, 0.0, 0.0, 0.0, 0.0, 0.0, 0.0, 0.0, 0.0, 0.0, 0.0, 0.0, 0.0, 0.0, 0.0, 0.0, 0.0, 0.0, 0.0, 0.0, 0.0, 0.0, 1.0, 1.0, 0.0, 0.0, 0.0, 0.0, 0.0, 0.0, 1.0, 0.0, 1.0, 0.0, 0.0, 0.0, 0.0, 0.0, 0.0, 0.0, 0.0, 0.0, 0.0, 0.0, 0.0, 0.0, 0.0, 0.0, 0.0, 0.0, 1.0, 0.0, 0.0, 0.0, 0.0, 0.0, 0.0, 0.0, 0.0, 0.0, 0.0, 0.0, 0.0, 0.0, 0.0, 0.0, 0.0, 0.0, 0.0, 1.0, 0.0, 0.0, 0.0, 0.0, 0.0, 0.0, 1.0, 0.0, 0.0, 0.0, 0.0, 0.0, 0.0, 0.0, 0.0, 0.0, 0.0, 0.0, 0.0, 0.0, 0.0, 0.0, 1.0, 0.0, 0.0, 0.0, 0.0, 0.0, 0.0, 0.0, 0.0, 0.0, 0.0, 0.0, 0.0, 0.0, 0.0, 0.0, 0.0, 0.0, 0.0, 0.0, 0.0, 0.0, 0.0, 0.0, 0.0, 0.0, 0.0, 0.0, 0.0, 0.0, 0.0, 0.0, 0.0, 0.0, 0.0, 0.0, 0.0, 0.0, 0.0, 0.0, 0.0, 0.0, 0.0, 0.0, 0.0, 0.0, 0.0, 0.0, 0.0, 0.0, 0.0, 0.0, 0.0, 1.0, 0.0, 1.0, 0.0, 0.0, 1.0, 0.0, 0.0, 0.0, 0.0, 0.0, 0.0, 1.0, 0.0, 0.0, 0.0, 0.0, 0.0, 0.0, 0.0, 0.0, 0.0, 0.0, 0.0, 0.0, 0.0, 0.0, 0.0, 0.0, 0.0, 0.0, 0.0, 0.0, 0.0, 0.0, 0.0, 0.0, 0.0, 0.0, 0.0, 0.0, 0.0, 0.0, 0.0, 0.0, 0.0, 0.0, 1.0, 0.0, 0.0, 0.0, 0.0, 0.0, 0.0, 0.0, 0.0, 1.0, 0.0, 1.0, 0.0, 1.0, 0.0, 0.0, 0.0, 0.0, 0.0, 0.0, 0.0, 0.0, 0.0, 0.0, 0.0, 0.0, 0.0, 1.0, 0.0, 0.0, 0.0, 0.0, 0.0, 0.0, 0.0, 0.0, 0.0, 0.0, 0.0, 0.0, 0.0, 0.0, 0.0, 0.0, 0.0, 0.0, 0.0, 0.0, 0.0, 0.0, 0.0, 0.0, 1.0, 0.0, 0.0, 1.0, 0.0, 0.0, 0.0, 0.0, 0.0, 0.0, 0.0, 0.0, 0.0, 0.0, 0.0, 1.0, 0.0, 0.0, 0.0, 0.0, 0.0, 0.0, 0.0, 0.0, 0.0, 0.0, 0.0, 0.0, 0.0, 0.0, 0.0, 0.0, 0.0, 0.0, 0.0, 1.0, 0.0, 0.0, 0.0, 0.0, 0.0, 0.0, 0.0, 0.0, 0.0, 0.0, 0.0, 0.0, 0.0, 0.0, 0.0, 0.0, 0.0, 0.0, 0.0, 0.0, 0.0, 0.0, 0.0, 0.0, 0.0, 0.0, 0.0, 1.0, 0.0, 1.0, 0.0, 0.0, 0.0, 1.0, 1.0, 0.0, 0.0, 0.0, 0.0, 0.0, 0.0, 0.0, 1.0, 0.0, 0.0, 0.0, 0.0, 0.0, 0.0, 0.0, 0.0, 1.0, 0.0, 0.0, 0.0, 0.0, 0.0, 0.0, 0.0, 0.0, 0.0, 1.0, 0.0, 1.0, 0.0, 0.0, 0.0, 0.0, 0.0, 0.0, 0.0, 0.0, 0.0, 0.0, 0.0, 0.0, 0.0, 0.0, 0.0, 0.0, 1.0, 0.0, 0.0, 0.0, 0.0, 1.0, 0.0, 0.0, 0.0, 0.0, 1.0, 0.0, 0.0, 0.0, 0.0, 1.0, 0.0, 0.0, 0.0, 0.0, 0.0, 0.0, 0.0, 0.0, 0.0, 0.0, 0.0, 0.0, 0.0, 0.0, 1.0, 0.0, 0.0, 1.0, 0.0, 0.0, 0.0, 0.0, 0.0, 0.0, 0.0, 0.0, 0.0, 0.0, 0.0, 0.0, 0.0, 0.0, 0.0, 0.0, 0.0, 0.0, 0.0, 0.0, 0.0, 0.0, 1.0, 0.0, 1.0, 0.0, 0.0, 0.0, 0.0, 0.0, 0.0, 0.0, 0.0, 1.0, 1.0, 0.0, 0.0, 0.0, 0.0, 0.0, 0.0, 0.0, 0.0, 0.0, 0.0, 0.0, 0.0, 0.0, 0.0, 0.0, 0.0, 0.0, 0.0, 0.0, 0.0, 0.0, 0.0, 0.0, 0.0, 0.0, 0.0, 0.0, 0.0, 0.0, 0.0, 0.0, 0.0, 0.0, 0.0, 0.0, 0.0, 0.0, 0.0, 0.0, 1.0, 0.0, 0.0, 0.0, 0.0, 0.0, 0.0, 0.0, 0.0, 0.0, 0.0, 0.0, 0.0, 0.0, 0.0, 0.0, 0.0, 0.0, 0.0, 0.0, 0.0, 0.0, 0.0, 0.0, 0.0, 0.0, 0.0, 0.0, 0.0, 0.0, 0.0, 0.0, 0.0, 0.0], \"type\": \"scatter\", \"name\": \"fees\", \"mode\": \"markers\"}], {\"title\": \"weekend vs fees for notaries\", \"xaxis\": {\"title\": \"weekend\"}, \"yaxis\": {\"title\": \"notary fees\"}}, {\"linkText\": \"Export to plot.ly\", \"showLink\": true})});</script>"
      ],
      "text/plain": [
       "<IPython.core.display.HTML object>"
      ]
     },
     "metadata": {},
     "output_type": "display_data"
    },
    {
     "data": {
      "text/plain": [
       "0.0073"
      ]
     },
     "execution_count": 39,
     "metadata": {},
     "output_type": "execute_result"
    }
   ],
   "source": [
    "plot_scatter(orders_completed_all['weekend'], orders_completed_all['total_notary_fee'], 'weekend', 'notary fees', 'weekend vs fees for notaries')\n",
    "\n",
    "\n",
    "round(np.corrcoef(orders_completed_all['weekend'],  orders_completed_all['total_notary_fee'])[0, 1].astype(float),4)"
   ]
  },
  {
   "cell_type": "code",
   "execution_count": 40,
   "metadata": {
    "collapsed": false
   },
   "outputs": [
    {
     "data": {
      "text/html": [
       "<div id=\"4db30553-8489-4b9d-92bf-3c854416286b\" style=\"height: 525px; width: 100%;\" class=\"plotly-graph-div\"></div><script type=\"text/javascript\">require([\"plotly\"], function(Plotly) { window.PLOTLYENV=window.PLOTLYENV || {};window.PLOTLYENV.BASE_URL=\"https://plot.ly\";Plotly.newPlot(\"4db30553-8489-4b9d-92bf-3c854416286b\", [{\"y\": [100.0, 75.0, 100.0, 105.0, 110.0, 0.0, 110.0, 170.0, 70.0, 70.0, 75.0, 0.0, 20.0, 75.0, 30.0, 30.0, 30.0, 35.0, 35.0, 40.0, 45.0, 45.0, 50.0, 60.0, 60.0, 55.0, 55.0, 60.0, 60.0, 55.0, 75.0, 115.0, 75.0, 75.0, 75.0, 75.0, 75.0, 65.0, 65.0, 70.0, 70.0, 70.0, 55.0, 75.0, 65.0, 40.0, 65.0, 70.0, 70.0, 70.0, 75.0, 75.0, 75.0, 65.0, 65.0, 70.0, 70.0, 70.0, 65.0, 65.0, 70.0, 80.0, 70.0, 65.0, 65.0, 70.0, 65.0, 85.0, 85.0, 85.0, 85.0, 85.0, 85.0, 85.0, 115.0, 85.0, 85.0, 85.0, 85.0, 85.0, 85.0, 85.0, 85.0, 85.0, 85.0, 40.0, 85.0, 85.0, 85.0, 85.0, 85.0, 85.0, 85.0, 85.0, 85.0, 85.0, 85.0, 70.0, 70.0, 75.0, 65.0, 75.0, 70.0, 65.0, 70.0, 70.0, 70.0, 85.0, 85.0, 85.0, 85.0, 85.0, 85.0, 70.0, 65.0, 70.0, 65.0, 70.0, 65.0, 70.0, 70.0, 70.0, 70.0, 65.0, 65.0, 70.0, 70.0, 70.0, 70.0, 70.0, 75.0, 75.0, 75.0, 70.0, 70.0, 75.0, 75.0, 90.0, 90.0, 90.0, 90.0, 90.0, 90.0, 90.0, 75.0, 75.0, 70.0, 70.0, 75.0, 75.0, 80.0, 75.0, 75.0, 80.0, 300.0, 80.0, 90.0, 80.0, 175.0, 175.0, 80.0, 80.0, 80.0, 80.0, 80.0, 75.0, 75.0, 80.0, 80.0, 80.0, 80.0, 80.0, 75.0, 85.0, 80.0, 80.0, 80.0, 75.0, 90.0, 75.0, 90.0, 80.0, 90.0, 80.0, 80.0, 90.0, 90.0, 90.0, 90.0, 75.0, 75.0, 80.0, 90.0, 90.0, 90.0, 80.0, 90.0, 90.0, 90.0, 80.0, 90.0, 85.0, 85.0, 90.0, 85.0, 90.0, 90.0, 225.0, 80.0, 85.0, 85.0, 85.0, 80.0, 85.0, 85.0, 85.0, 90.0, 85.0, 85.0, 85.0, 80.0, 90.0, 80.0, 85.0, 85.0, 85.0, 95.0, 95.0, 85.0, 95.0, 95.0, 85.0, 80.0, 85.0, 95.0, 95.0, 95.0, 95.0, 95.0, 95.0, 80.0, 95.0, 95.0, 80.0, 85.0, 85.0, 80.0, 80.0, 85.0, 85.0, 85.0, 80.0, 80.0, 85.0, 85.0, 85.0, 80.0, 80.0, 85.0, 85.0, 85.0, 80.0, 85.0, 90.0, 90.0, 85.0, 85.0, 90.0, 95.0, 95.0, 90.0, 85.0, 95.0, 85.0, 90.0, 90.0, 90.0, 85.0, 85.0, 90.0, 90.0, 85.0, 90.0, 90.0, 85.0, 90.0, 90.0, 85.0, 90.0, 90.0, 90.0, 85.0, 85.0, 90.0, 90.0, 90.0, 85.0, 85.0, 90.0, 95.0, 90.0, 90.0, 85.0, 85.0, 90.0, 90.0, 90.0, 85.0, 85.0, 90.0, 90.0, 90.0, 95.0, 85.0, 90.0, 95.0, 95.0, 95.0, 95.0, 95.0, 95.0, 95.0, 90.0, 90.0, 95.0, 95.0, 95.0, 95.0, 95.0, 95.0, 95.0, 95.0, 95.0, 95.0, 95.0, 95.0, 95.0, 95.0, 95.0, 95.0, 95.0, 95.0, 95.0, 95.0, 95.0, 95.0, 95.0, 95.0, 95.0, 95.0, 95.0, 95.0, 95.0, 95.0, 95.0, 95.0, 95.0, 95.0, 95.0, 95.0, 90.0, 95.0, 95.0, 95.0, 95.0, 95.0, 95.0, 95.0, 95.0, 95.0, 95.0, 95.0, 95.0, 95.0, 95.0, 95.0, 95.0, 95.0, 95.0, 95.0, 95.0, 95.0, 95.0, 95.0, 95.0, 95.0, 95.0, 95.0, 95.0, 90.0, 95.0, 95.0, 95.0, 95.0, 95.0, 95.0, 95.0, 95.0, 95.0, 115.0, 95.0, 95.0, 90.0, 95.0, 95.0, 95.0, 95.0, 90.0, 95.0, 95.0, 95.0, 95.0, 95.0, 95.0, 95.0, 95.0, 95.0, 95.0, 90.0, 95.0, 95.0, 95.0, 95.0, 95.0, 95.0, 95.0, 95.0, 90.0, 95.0, 95.0, 95.0, 95.0, 90.0, 90.0, 95.0, 95.0, 95.0, 95.0, 90.0, 90.0, 95.0, 95.0, 95.0, 95.0, 95.0, 90.0, 95.0, 38.29, 95.0, 95.0, 95.0, 95.0, 95.0, 95.0, 95.0, 95.0, 95.0, 95.0, 90.0, 95.0, 95.0, 95.0, 95.0, 95.0, 95.0, 95.0, 95.0, 95.0, 95.0, 95.0, 95.0, 95.0, 95.0, 95.0, 95.0, 95.0, 95.0, 95.0, 95.0, 95.0, 95.0, 95.0, 95.0, 95.0, 95.0, 95.0, 90.0, 90.0, 95.0, 95.0, 95.0, 90.0, 90.0, 95.0, 95.0, 95.0, 90.0, 90.0, 95.0, 95.0, 95.0, 95.0, 95.0, 90.0, 90.0, 95.0, 95.0, 95.0, 95.0, 95.0, 95.0, 95.0, 95.0, 95.0, 105.0, 95.0, 90.0, 95.0, 90.0, 95.0, 95.0, 90.0, 95.0, 95.0, 95.0, 95.0, 95.0, 95.0, 95.0, 95.0, 95.0, 95.0, 95.0, 95.0, 95.0, 95.0, 95.0, 105.0, 90.0, 95.0, 95.0, 90.0, 95.0, 90.0, 95.0, 95.0, 90.0, 90.0, 95.0, 95.0, 95.0, 105.0, 95.0, 95.0, 95.0, 95.0, 95.0, 90.0, 95.0, 95.0, 95.0, 95.0, 95.0, 95.0, 90.0, 90.0, 95.0, 95.0, 95.0, 90.0, 90.0, 95.0, 95.0, 95.0, 95.0, 90.0, 90.0, 95.0, 95.0, 95.0, 90.0, 95.0, 90.0, 100.0, 105.0, 95.0, 100.0, 95.0, 95.0, 90.0, 90.0, 95.0, 95.0, 100.0, 100.0, 100.0, 95.0, 100.0, 90.0, 100.0, 100.0, 100.0, 100.0, 100.0, 100.0, 100.0, 100.0, 100.0, 90.0, 100.0, 100.0, 100.0, 100.0, 100.0, 100.0, 100.0, 100.0, 100.0, 100.0, 100.0, 100.0, 95.0, 100.0, 95.0, 100.0, 100.0, 95.0, 100.0, 90.0, 90.0, 95.0, 100.0, 100.0, 95.0, 90.0, 90.0, 100.0, 100.0, 100.0, 100.0, 100.0, 100.0, 95.0, 95.0, 95.0, 90.0, 90.0, 95.0, 95.0, 95.0, 100.0, 90.0, 90.0, 95.0, 100.0, 95.0, 115.0, 95.0, 90.0, 90.0, 95.0, 95.0, 115.0, 95.0, 90.0, 90.0, 100.0, 95.0, 95.0, 100.0, 100.0, 100.0, 100.0, 100.0, 95.0, 100.0, 100.0, 100.0, 100.0, 100.0, 100.0, 100.0, 100.0, 95.0, 100.0, 100.0, 95.0, 95.0, 100.0, 100.0, 100.0, 105.0, 105.0, 105.0, 105.0, 95.0, 100.0, 105.0, 105.0, 105.0, 105.0, 100.0, 100.0, 95.0, 105.0, 100.0, 110.0, 100.0, 95.0, 95.0, 100.0, 100.0, 95.0, 100.0, 100.0, 100.0, 115.0, 115.0, 95.0, 115.0, 115.0, 115.0, 115.0, 95.0, 100.0, 100.0, 100.0, 115.0, 95.0, 95.0, 205.0, 100.0, 100.0, 100.0, 95.0, 95.0, 100.0, 100.0, 100.0, 95.0, 95.0, 115.0, 100.0, 115.0, 105.0, 100.0, 115.0, 100.0, 105.0, 105.0, 100.0, 115.0, 125.0, 125.0, 125.0, 125.0, 125.0, 105.0, 125.0, 125.0, 105.0, 105.0, 105.0, 105.0, 110.0, 110.0, 105.0, 110.0, 115.0, 115.0, 110.0, 85.0, 115.0, 110.0, 110.0, 115.0, 115.0, 115.0, 110.0, 85.0, 110.0, 85.0, 115.0, 115.0, 115.0, 110.0, 115.0, 115.0, 90.0, 115.0, 110.0, 115.0, 90.0, 115.0, 110.0, 115.0, 90.0, 110.0, 115.0, 115.0, 110.0, 115.0, 115.0, 115.0, 110.0, 110.0, 90.0, 115.0, 90.0, 115.0, 110.0, 110.0, 115.0, 115.0, 120.0, 115.0, 115.0, 120.0, 115.0, 115.0, 120.0, 115.0, 125.0, 125.0, 115.0, 120.0, 125.0, 115.0, 120.0, 120.0, 120.0, 120.0, 115.0, 120.0, 125.0, 125.0, 125.0, 125.0, 120.0, 120.0, 125.0, 127.5, 130.0, 135.0, 140.0, 135.0, 140.0, 140.0, 135.0, 135.0, 145.0, 115.0, 115.0, 115.0, 25.0, 175.0, 175.0, 175.0, 115.0, 115.0, 175.0, 120.0, 125.0, 130.0], \"x\": [4.9462792769999995, 21.26765628, 7.796508348, 16.98385825, 4.0598352, 15.28835066, 8.907814807000001, 45.36525686, 1.547665205, 54.27159353, 13.62776567, 20.42281514, 6.52426743, 18.29712862, 2.323894224, 5.524759747, 11.97254007, 3.76973506, 33.52043317, 0.0, 15.04213004, 20.98775851, 13.15477484, 5.319379431000001, 3.657715079, 10.26150184, 5.778772905, 1.312280546, 0.9610659659999999, 8.360263629, 26.72799055, 45.48197972, 4.363842347, 47.66246099, 28.99926468, 23.22841743, 0.709098517, 8.789794344, 16.2213276, 3.7769199980000003, 23.02700843, 7.157103433, 7.354102447000001, 3.43931141, 3.906646987, 14.45287357, 6.684710994, 5.386356575, 25.38707874, 9.215806068, 3.6593299939999997, 6.9006288829999995, 19.71785343, 24.29028816, 8.760254882, 7.699146786, 18.44359332, 24.63188341, 6.755037927999999, 14.77981058, 4.049115859, 14.244957399999999, 1.8232099869999998, 2.259194476, 12.26987671, 4.480371891, 26.26556354, 24.11891921, 6.125474519, 7.302891927999999, 36.952852, 4.059847886, 21.72083869, 7.120226843999999, 42.38755753, 18.09151295, 1.588632204, 1.7909984890000001, 14.32901812, 14.78561125, 4.797465988, 12.53463679, 9.511621142000001, 3.191158737, 13.07910265, 3.052277223, 1.259704491, 3.694440728, 5.241136893, 5.627671909, 10.03924238, 4.104156195, 3.6785308889999997, 3.169109628, 7.764806036, 29.72476324, 9.220610045, 6.23747525, 5.318511841, 2.842408335, 21.74838597, 6.618105575, 20.26935843, 6.537714846, 2.9604415960000003, 5.676602731, 6.025349921, 13.05106748, 3.0297776780000003, 3.614051401, 8.54979251, 5.363499953, 12.48915528, 0.960291413, 9.121024542999999, 2.9543565889999996, 14.52431454, 22.91155914, 8.688261353, 10.39467817, 5.873359989, 9.392399747999999, 5.059097178, 14.10364904, 2.198118425, 2.768169181, 5.879484635, 15.6114119, 11.77892364, 23.41310482, 3.3090797039999997, 6.114867847, 29.5809684, 26.90580445, 23.49332509, 12.59183401, 12.82255618, 11.79092461, 3.8904107839999997, 23.16399371, 4.830622858, 11.79092461, 11.79092461, 11.79092461, 0.569544621, 5.749725885, 1.296265128, 5.451159617, 19.04724238, 1.409186711, 24.41545905, 6.761403026, 8.044494735, 6.236884963, 7.6818760610000005, 17.78996535, 17.59903397, 20.51224584, 7.412308992000001, 3.519092037, 2.79199661, 13.5837489, 6.359732656, 10.77390172, 13.0446419, 24.70210904, 23.65296079, 20.26735, 17.68963155, 5.250528463999999, 11.32777083, 16.39619277, 2.401145318, 3.455258469, 2.655428592, 23.30186738, 7.600630732000001, 0.333468112, 4.434497295, 23.42296449, 6.503867245, 12.641156800000001, 19.43808831, 2.369698169, 18.35796343, 10.53209031, 6.048546647, 3.159513108, 11.56382132, 9.052064747000001, 27.50976785, 5.686037739, 2.11201062, 1.248015864, 8.826439348, 6.862470665, 3.091095985, 16.21880342, 7.30225841, 32.25859857, 10.39924406, 7.542453591, 7.328604843, 3.2254705219999997, 18.45881747, 14.24174638, 16.68226108, 4.632237192, 8.894903336, 11.39197754, 15.54496039, 16.77645201, 19.55735338, 3.7700976930000003, 6.564818311, 5.310948466, 16.97194044, 20.70253902, 6.63050263, 18.38953666, 13.09315357, 16.56054658, 16.65408649, 21.66671021, 14.44821935, 6.459897837000001, 24.662312300000004, 45.80508495, 6.98409018, 6.707827542, 4.082535189, 5.743930105, 10.52404851, 13.37656195, 7.202859032999999, 11.8756977, 9.936539554, 8.49610842, 23.75834927, 4.900079465, 16.03560794, 10.93606497, 5.066516385, 15.92078432, 12.13362095, 24.41545905, 23.77222463, 4.961114185, 2.843194595, 12.07628945, 19.08828078, 35.47210612, 11.91569533, 7.860543455, 12.14049385, 4.267822136, 10.09384696, 2.478165115, 19.45718669, 5.084544966, 14.99629498, 14.578668099999998, 14.320353200000001, 37.94109299, 16.168795000000003, 14.16816655, 13.22201259, 27.7441899, 22.35175342, 18.66281659, 11.86838125, 8.55185668, 6.15602928, 2.552307296, 1.8554393219999998, 13.46054745, 26.04204472, 13.48113219, 22.174671300000004, 19.80205827, 19.80518617, 5.291183005, 3.3808061310000004, 7.259859046, 8.948023206, 11.27550627, 9.759961387, 10.81049946, 11.83723879, 17.27927724, 7.891477419, 15.095929, 36.54141501, 22.8626857, 2.8358092260000003, 9.771344166, 5.146713013, 11.48732142, 49.26390792, 0.91150034, 16.48108668, 10.0294367, 8.533395054, 1.8078280690000001, 7.414910981, 3.350700787, 17.33216983, 17.03830533, 14.06336965, 12.46003893, 4.976696436, 4.976696436, 25.05319421, 25.18011549, 30.30575703, 27.37454343, 43.65349872, 4.108878768, 54.61712264, 18.51710145, 3.990955267, 31.10156143, 4.439053561000001, 32.47912434, 4.84855943, 10.05882179, 13.25956837, 1.870178944, 3.448589293, 8.295829247999999, 1.9631876259999999, 10.93503481, 16.24902966, 9.830711056, 5.073109938, 45.39497917, 25.36291531, 3.122960149, 5.7243227139999995, 20.65329807, 12.69105388, 18.66896808, 0.7301639540000001, 11.78764464, 29.51505079, 1.3858443480000002, 8.183255769, 2.93783243, 1.467974959, 11.28634725, 7.731879472, 33.62866656, 5.713422431000001, 3.848476953, 1.0822841220000001, 36.81395047, 1.720232095, 9.906655151, 2.698659241, 7.6967206710000005, 25.70008162, 3.7300350460000002, 17.92066654, 13.47834757, 5.2315024139999995, 2.8074599160000004, 22.22297726, 15.79226775, 9.427892403, 20.15528849, 15.73166907, 4.389031415, 3.19475986, 39.43667237, 13.49397194, 13.83043464, 8.069854142999999, 17.35563377, 26.77337635, 9.882988295, 3.849305892, 19.72647254, 37.07307487, 11.26311529, 3.577205348, 16.62249577, 13.14972728, 7.942300585, 26.97468765, 8.07998481, 16.86870448, 26.98731547, 20.99121532, 19.08591151, 15.20161047, 2.66128974, 8.058040916, 1.829017102, 2.776436748, 20.81739554, 2.230919085, 18.81698548, 5.246866131, 5.466668414, 2.69429902, 17.83506712, 24.94600924, 8.900153682000001, 2.489973186, 5.229055866, 4.187357401, 12.75316458, 9.671315202, 7.52679133, 9.418419606, 5.912676431, 19.08973733, 19.20392594, 13.11331287, 2.232909888, 2.043412182, 15.98716246, 3.0605740000000003, 9.402103978, 6.731794977000001, 8.937453847, 19.90796956, 10.15132058, 9.997262576, 13.39990289, 11.71351316, 4.296482556, 17.77914552, 5.015835507, 9.241024494, 22.15669244, 5.497417738999999, 9.725669826, 49.71615429999999, 9.96784761, 14.60880465, 14.92651093, 16.85629354, 23.29775339, 2.121526236, 20.79139095, 0.475749827, 22.21261875, 3.7038606489999997, 35.09234304, 1.1431883520000001, 16.95398827, 13.58750214, 8.45720311, 4.9567834269999995, 15.62915408, 2.766498817, 10.26670151, 5.209063615, 24.11055634, 10.85731727, 5.152003862, 3.070733865, 0.9782901209999999, 2.8203782189999997, 22.90705528, 13.34970386, 4.952038699, 12.82263672, 1.776231704, 13.21494825, 6.69180484, 10.28307917, 18.58537398, 21.89040764, 7.71903582, 1.8835066719999998, 4.3754386610000005, 4.704490119, 2.239870652, 15.86363358, 11.26115463, 1.2343863640000001, 32.30067728, 10.95182257, 3.133217062, 7.175838957000001, 11.61739185, 20.06644246, 3.0187504260000004, 7.348880992000001, 2.586615127, 7.643593371000001, 6.788209505, 0.661239448, 4.227945527, 8.570092882, 10.64016569, 28.89943812, 21.55852895, 17.57674276, 13.58419609, 19.18301363, 7.6681241479999995, 18.38523053, 19.06684011, 3.6449992989999997, 9.504110833, 16.61772462, 8.140790124, 9.324238548, 13.17743181, 26.62580013, 23.21066741, 8.47011417, 8.57368348, 15.05008541, 13.73323543, 6.7770248639999995, 17.74664195, 16.43021093, 2.7564965939999997, 2.904062553, 8.369874776, 14.752469199999998, 8.556308563, 16.67360521, 11.31523524, 5.34285668, 2.028802104, 9.544233363, 22.66631468, 1.6856301480000002, 5.676464031, 8.607595382000001, 12.84548336, 30.10971023, 5.757675829, 14.99936434, 3.827502729, 5.325775473, 4.643728795, 5.978182532999999, 6.441676797, 14.52454565, 2.820452473, 5.8512395370000005, 44.6066838, 11.8617401, 4.611947037, 13.39811788, 10.93324998, 8.922556377000001, 18.66315853, 8.898512172, 26.68919343, 5.510444566, 16.12286785, 6.496916867, 54.17748227, 15.89091983, 5.68351575, 5.878982131, 8.31373427, 1.265078682, 39.8456278, 18.07947943, 13.13949071, 8.325480183, 17.41527805, 15.50990674, 20.45088776, 12.23973134, 26.57116093, 11.24366038, 19.33851083, 9.04884646, 20.42247194, 7.053719442, 22.42357901, 10.10113496, 3.5123636, 8.476513732999999, 24.71967339, 10.19322944, 6.784671701000001, 12.437942699999999, 30.1095037, 16.9087406, 12.96819919, 25.91158312, 10.937140300000001, 4.48290014, 34.45220026, 1.9784917990000002, 2.9056477010000004, 19.52833437, 4.6823044089999994, 39.92165353, 22.51357683, 14.86853111, 14.14118117, 17.05406215, 3.8904107839999997, 3.8904107839999997, 11.79092461, 3.8904107839999997, 14.47807402, 16.79005381, 16.55665338, 28.71418391, 9.888027514, 6.44428705, 2.376837261, 17.26128092, 3.439264385, 14.25764039, 30.74055915, 15.72756752, 34.20411731, 11.34827178, 4.008134021, 15.82397077, 5.208825098999999, 13.19502731, 24.94759933, 10.48792352, 6.804023977000001, 10.14986184, 9.280146697000001, 11.17985067, 22.99679723, 13.9608421, 4.2457366919999995, 8.669729465, 11.24889624, 25.42196685, 21.1407491, 3.162962077, 22.62737958, 22.19348634, 8.814032859, 21.22017484, 27.74117083, 16.86653116, 7.1602398439999995, 8.153907667, 3.904502117, 8.393957222000001, 17.25807167, 36.33143675, 5.630112592000001, 10.69835768, 1.891699855, 10.65442928, 9.870581299, 35.49544816, 6.24897917, 2.623678, 15.93813541, 7.284436145, 9.877145328, 9.979333685, 23.66636296, 14.85084681, 22.37358636, 27.20213664, 11.13289412, 31.54887507, 15.26671814, 11.73982647, 16.54494849, 41.85927616, 3.704890334, 2.249486327, 18.85990717, 20.71327698, 2.9167406789999997, 7.796497047000001, 3.5667092119999997, 30.1840914, 16.91214344, 26.2406827, 49.25267629, 19.71562998, 7.687952849, 14.79587222, 13.09865231, 17.24537875, 12.29790989, 10.071342, 38.31788639, 37.00614493, 9.879358985, 7.520218547000001, 34.34291204, 23.29264817, 14.85445706, 26.68371132, 49.40855633, 6.60846743, 30.42397535, 33.21336816, 36.17635511, 29.28062295, 35.89141903, 40.7175455, 11.01783921, 17.11370367, 6.929098789, 10.39520732, 22.54763323, 11.10645325, 9.766782541, 30.45228573, 11.97921599, 5.115361876000001, 2.289845288, 15.76774368, 10.21532941, 10.33310564, 9.645876381, 24.19990433, 35.8886125, 7.796756475, 32.57067474, 14.05881456, 25.80559734, 26.9615712, 20.5290669, 17.69327149, 14.68456505, 47.52669005, 2.924701812, 16.45221273, 10.92427318, 25.7147883, 10.07407007, 14.94425029, 11.03047735, 8.234111967, 28.246169899999998, 14.22553513, 12.48752206, 12.1346881, 4.008388817, 46.23801472, 42.93902177, 3.66380298, 23.13141943, 2.404093543, 17.99967137, 2.521924232, 7.79511447, 18.14600664, 43.98786273, 4.420744646, 38.09506331, 18.76027189, 10.1401326, 15.54741691, 2.313993162, 2.7052616130000002, 52.36328555, 18.17102016, 6.6783086339999995, 24.49508603, 40.09956552, 30.69246773, 57.54423196, 72.89344642, 9.235078243, 7.455764964, 36.5662218, 11.26237016, 5.404712877000001, 30.57526215, 15.22241929, 3.4128780689999996, 14.71578536, 0.437669339, 17.6415618, 41.76420524, 12.30907328, 18.80997589, 8.453047401000001, 19.91521971, 15.12191378, 1.6982738919999998, 4.569933654, 22.56731751, 30.78089378, 2.420923536, 5.961421012000001, 45.15008491, 28.57168892, 19.07257666, 11.3276505, 38.49227535, 2.871707367, 8.227244975, 14.67573173, 10.76961946, 17.39449354, 6.372830773, 5.9567825370000005, 9.819893772, 41.87899253, 33.63705307, 17.54739187, 37.36956523, 7.77051133, 24.64379009, 41.93789591, 34.32966797, 27.35399821, 21.84632259, 43.34224308, 28.96497655, 44.90980609, 5.110102775, 14.18447866, 16.15878519, 13.53467409, 36.1256794, 26.14804733, 13.98834647, 20.94014001, 36.15484472, 4.691703614, 19.591437300000003, 32.19296005, 3.5351853460000005, 5.38206775, 32.72403179, 6.364681748, 8.772006916, 27.85719032, 26.609318, 17.20834969, 28.478233399999997, 9.471103581, 26.08251677, 34.14678684, 73.29885764, 8.78561574, 9.617679466, 34.30306477, 52.20473792, 11.74694012, 38.82532879, 31.19459432, 15.89558624, 21.49624106, 7.327236741, 16.84161367, 6.883413159, 68.01430661, 35.4953964, 11.18838637, 11.06570833, 28.45208296, 23.21929963, 27.08354368], \"type\": \"scatter\", \"name\": \"fees\", \"mode\": \"markers\"}], {\"title\": \"travel_distance vs fees for notaries\", \"xaxis\": {\"title\": \"travel_distance\"}, \"yaxis\": {\"title\": \"notary fees\"}}, {\"linkText\": \"Export to plot.ly\", \"showLink\": true})});</script>"
      ],
      "text/plain": [
       "<IPython.core.display.HTML object>"
      ]
     },
     "metadata": {},
     "output_type": "display_data"
    },
    {
     "data": {
      "text/plain": [
       "0.202"
      ]
     },
     "execution_count": 40,
     "metadata": {},
     "output_type": "execute_result"
    }
   ],
   "source": [
    "plot_scatter(orders_completed_all['travel_distance'], orders_completed_all['total_notary_fee'], 'travel_distance', 'notary fees', 'travel_distance vs fees for notaries')\n",
    "\n",
    "\n",
    "round(np.corrcoef(orders_completed_all['travel_distance'],  orders_completed_all['total_notary_fee'])[0, 1].astype(float),4)"
   ]
  },
  {
   "cell_type": "code",
   "execution_count": 41,
   "metadata": {
    "collapsed": false
   },
   "outputs": [
    {
     "data": {
      "text/html": [
       "<div id=\"69d588d4-1a26-462b-ac01-36e57dba7209\" style=\"height: 525px; width: 100%;\" class=\"plotly-graph-div\"></div><script type=\"text/javascript\">require([\"plotly\"], function(Plotly) { window.PLOTLYENV=window.PLOTLYENV || {};window.PLOTLYENV.BASE_URL=\"https://plot.ly\";Plotly.newPlot(\"69d588d4-1a26-462b-ac01-36e57dba7209\", [{\"y\": [100.0, 75.0, 100.0, 105.0, 110.0, 0.0, 110.0, 170.0, 70.0, 70.0, 75.0, 0.0, 20.0, 75.0, 30.0, 30.0, 30.0, 35.0, 35.0, 40.0, 45.0, 45.0, 50.0, 60.0, 60.0, 55.0, 55.0, 60.0, 60.0, 55.0, 75.0, 115.0, 75.0, 75.0, 75.0, 75.0, 75.0, 65.0, 65.0, 70.0, 70.0, 70.0, 55.0, 75.0, 65.0, 40.0, 65.0, 70.0, 70.0, 70.0, 75.0, 75.0, 75.0, 65.0, 65.0, 70.0, 70.0, 70.0, 65.0, 65.0, 70.0, 80.0, 70.0, 65.0, 65.0, 70.0, 65.0, 85.0, 85.0, 85.0, 85.0, 85.0, 85.0, 85.0, 115.0, 85.0, 85.0, 85.0, 85.0, 85.0, 85.0, 85.0, 85.0, 85.0, 85.0, 40.0, 85.0, 85.0, 85.0, 85.0, 85.0, 85.0, 85.0, 85.0, 85.0, 85.0, 85.0, 70.0, 70.0, 75.0, 65.0, 75.0, 70.0, 65.0, 70.0, 70.0, 70.0, 85.0, 85.0, 85.0, 85.0, 85.0, 85.0, 70.0, 65.0, 70.0, 65.0, 70.0, 65.0, 70.0, 70.0, 70.0, 70.0, 65.0, 65.0, 70.0, 70.0, 70.0, 70.0, 70.0, 75.0, 75.0, 75.0, 70.0, 70.0, 75.0, 75.0, 90.0, 90.0, 90.0, 90.0, 90.0, 90.0, 90.0, 75.0, 75.0, 70.0, 70.0, 75.0, 75.0, 80.0, 75.0, 75.0, 80.0, 300.0, 80.0, 90.0, 80.0, 175.0, 175.0, 80.0, 80.0, 80.0, 80.0, 80.0, 75.0, 75.0, 80.0, 80.0, 80.0, 80.0, 80.0, 75.0, 85.0, 80.0, 80.0, 80.0, 75.0, 90.0, 75.0, 90.0, 80.0, 90.0, 80.0, 80.0, 90.0, 90.0, 90.0, 90.0, 75.0, 75.0, 80.0, 90.0, 90.0, 90.0, 80.0, 90.0, 90.0, 90.0, 80.0, 90.0, 85.0, 85.0, 90.0, 85.0, 90.0, 90.0, 225.0, 80.0, 85.0, 85.0, 85.0, 80.0, 85.0, 85.0, 85.0, 90.0, 85.0, 85.0, 85.0, 80.0, 90.0, 80.0, 85.0, 85.0, 85.0, 95.0, 95.0, 85.0, 95.0, 95.0, 85.0, 80.0, 85.0, 95.0, 95.0, 95.0, 95.0, 95.0, 95.0, 80.0, 95.0, 95.0, 80.0, 85.0, 85.0, 80.0, 80.0, 85.0, 85.0, 85.0, 80.0, 80.0, 85.0, 85.0, 85.0, 80.0, 80.0, 85.0, 85.0, 85.0, 80.0, 85.0, 90.0, 90.0, 85.0, 85.0, 90.0, 95.0, 95.0, 90.0, 85.0, 95.0, 85.0, 90.0, 90.0, 90.0, 85.0, 85.0, 90.0, 90.0, 85.0, 90.0, 90.0, 85.0, 90.0, 90.0, 85.0, 90.0, 90.0, 90.0, 85.0, 85.0, 90.0, 90.0, 90.0, 85.0, 85.0, 90.0, 95.0, 90.0, 90.0, 85.0, 85.0, 90.0, 90.0, 90.0, 85.0, 85.0, 90.0, 90.0, 90.0, 95.0, 85.0, 90.0, 95.0, 95.0, 95.0, 95.0, 95.0, 95.0, 95.0, 90.0, 90.0, 95.0, 95.0, 95.0, 95.0, 95.0, 95.0, 95.0, 95.0, 95.0, 95.0, 95.0, 95.0, 95.0, 95.0, 95.0, 95.0, 95.0, 95.0, 95.0, 95.0, 95.0, 95.0, 95.0, 95.0, 95.0, 95.0, 95.0, 95.0, 95.0, 95.0, 95.0, 95.0, 95.0, 95.0, 95.0, 95.0, 90.0, 95.0, 95.0, 95.0, 95.0, 95.0, 95.0, 95.0, 95.0, 95.0, 95.0, 95.0, 95.0, 95.0, 95.0, 95.0, 95.0, 95.0, 95.0, 95.0, 95.0, 95.0, 95.0, 95.0, 95.0, 95.0, 95.0, 95.0, 95.0, 90.0, 95.0, 95.0, 95.0, 95.0, 95.0, 95.0, 95.0, 95.0, 95.0, 115.0, 95.0, 95.0, 90.0, 95.0, 95.0, 95.0, 95.0, 90.0, 95.0, 95.0, 95.0, 95.0, 95.0, 95.0, 95.0, 95.0, 95.0, 95.0, 90.0, 95.0, 95.0, 95.0, 95.0, 95.0, 95.0, 95.0, 95.0, 90.0, 95.0, 95.0, 95.0, 95.0, 90.0, 90.0, 95.0, 95.0, 95.0, 95.0, 90.0, 90.0, 95.0, 95.0, 95.0, 95.0, 95.0, 90.0, 95.0, 38.29, 95.0, 95.0, 95.0, 95.0, 95.0, 95.0, 95.0, 95.0, 95.0, 95.0, 90.0, 95.0, 95.0, 95.0, 95.0, 95.0, 95.0, 95.0, 95.0, 95.0, 95.0, 95.0, 95.0, 95.0, 95.0, 95.0, 95.0, 95.0, 95.0, 95.0, 95.0, 95.0, 95.0, 95.0, 95.0, 95.0, 95.0, 95.0, 90.0, 90.0, 95.0, 95.0, 95.0, 90.0, 90.0, 95.0, 95.0, 95.0, 90.0, 90.0, 95.0, 95.0, 95.0, 95.0, 95.0, 90.0, 90.0, 95.0, 95.0, 95.0, 95.0, 95.0, 95.0, 95.0, 95.0, 95.0, 105.0, 95.0, 90.0, 95.0, 90.0, 95.0, 95.0, 90.0, 95.0, 95.0, 95.0, 95.0, 95.0, 95.0, 95.0, 95.0, 95.0, 95.0, 95.0, 95.0, 95.0, 95.0, 95.0, 105.0, 90.0, 95.0, 95.0, 90.0, 95.0, 90.0, 95.0, 95.0, 90.0, 90.0, 95.0, 95.0, 95.0, 105.0, 95.0, 95.0, 95.0, 95.0, 95.0, 90.0, 95.0, 95.0, 95.0, 95.0, 95.0, 95.0, 90.0, 90.0, 95.0, 95.0, 95.0, 90.0, 90.0, 95.0, 95.0, 95.0, 95.0, 90.0, 90.0, 95.0, 95.0, 95.0, 90.0, 95.0, 90.0, 100.0, 105.0, 95.0, 100.0, 95.0, 95.0, 90.0, 90.0, 95.0, 95.0, 100.0, 100.0, 100.0, 95.0, 100.0, 90.0, 100.0, 100.0, 100.0, 100.0, 100.0, 100.0, 100.0, 100.0, 100.0, 90.0, 100.0, 100.0, 100.0, 100.0, 100.0, 100.0, 100.0, 100.0, 100.0, 100.0, 100.0, 100.0, 95.0, 100.0, 95.0, 100.0, 100.0, 95.0, 100.0, 90.0, 90.0, 95.0, 100.0, 100.0, 95.0, 90.0, 90.0, 100.0, 100.0, 100.0, 100.0, 100.0, 100.0, 95.0, 95.0, 95.0, 90.0, 90.0, 95.0, 95.0, 95.0, 100.0, 90.0, 90.0, 95.0, 100.0, 95.0, 115.0, 95.0, 90.0, 90.0, 95.0, 95.0, 115.0, 95.0, 90.0, 90.0, 100.0, 95.0, 95.0, 100.0, 100.0, 100.0, 100.0, 100.0, 95.0, 100.0, 100.0, 100.0, 100.0, 100.0, 100.0, 100.0, 100.0, 95.0, 100.0, 100.0, 95.0, 95.0, 100.0, 100.0, 100.0, 105.0, 105.0, 105.0, 105.0, 95.0, 100.0, 105.0, 105.0, 105.0, 105.0, 100.0, 100.0, 95.0, 105.0, 100.0, 110.0, 100.0, 95.0, 95.0, 100.0, 100.0, 95.0, 100.0, 100.0, 100.0, 115.0, 115.0, 95.0, 115.0, 115.0, 115.0, 115.0, 95.0, 100.0, 100.0, 100.0, 115.0, 95.0, 95.0, 205.0, 100.0, 100.0, 100.0, 95.0, 95.0, 100.0, 100.0, 100.0, 95.0, 95.0, 115.0, 100.0, 115.0, 105.0, 100.0, 115.0, 100.0, 105.0, 105.0, 100.0, 115.0, 125.0, 125.0, 125.0, 125.0, 125.0, 105.0, 125.0, 125.0, 105.0, 105.0, 105.0, 105.0, 110.0, 110.0, 105.0, 110.0, 115.0, 115.0, 110.0, 85.0, 115.0, 110.0, 110.0, 115.0, 115.0, 115.0, 110.0, 85.0, 110.0, 85.0, 115.0, 115.0, 115.0, 110.0, 115.0, 115.0, 90.0, 115.0, 110.0, 115.0, 90.0, 115.0, 110.0, 115.0, 90.0, 110.0, 115.0, 115.0, 110.0, 115.0, 115.0, 115.0, 110.0, 110.0, 90.0, 115.0, 90.0, 115.0, 110.0, 110.0, 115.0, 115.0, 120.0, 115.0, 115.0, 120.0, 115.0, 115.0, 120.0, 115.0, 125.0, 125.0, 115.0, 120.0, 125.0, 115.0, 120.0, 120.0, 120.0, 120.0, 115.0, 120.0, 125.0, 125.0, 125.0, 125.0, 120.0, 120.0, 125.0, 127.5, 130.0, 135.0, 140.0, 135.0, 140.0, 140.0, 135.0, 135.0, 145.0, 115.0, 115.0, 115.0, 25.0, 175.0, 175.0, 175.0, 115.0, 115.0, 175.0, 120.0, 125.0, 130.0], \"x\": [\"reverse mortgage\", \"refinance\", \"reverse mortgage\", \"reverse mortgage\", \"reverse mortgage\", \"reverse mortgage\", \"reverse mortgage\", \"refinance\", \"purchase\", \"purchase\", \"purchase\", \"reverse mortgage\", \"purchase\", \"purchase\", \"reverse mortgage\", \"purchase\", \"purchase\", \"purchase\", \"reverse mortgage\", \"refinance\", \"purchase\", \"purchase\", \"purchase\", \"purchase\", \"purchase\", \"purchase\", \"purchase\", \"purchase\", \"purchase\", \"purchase\", \"purchase\", \"reverse mortgage\", \"refinance\", \"refinance\", \"refinance\", \"refinance\", \"purchase\", \"purchase\", \"purchase\", \"purchase\", \"purchase\", \"purchase\", \"refinance\", \"refinance\", \"purchase\", \"refinance\", \"purchase\", \"purchase\", \"purchase\", \"purchase\", \"refinance\", \"refinance\", \"refinance\", \"purchase\", \"purchase\", \"purchase\", \"purchase\", \"purchase\", \"purchase\", \"purchase\", \"purchase\", \"refinance\", \"purchase\", \"purchase\", \"purchase\", \"purchase\", \"purchase\", \"refinance\", \"refinance\", \"refinance\", \"refinance\", \"refinance\", \"refinance\", \"refinance\", \"refinance\", \"refinance\", \"refinance\", \"refinance\", \"refinance\", \"refinance\", \"refinance\", \"refinance\", \"refinance\", \"refinance\", \"refinance\", \"refinance\", \"refinance\", \"refinance\", \"refinance\", \"refinance\", \"refinance\", \"refinance\", \"refinance\", \"refinance\", \"refinance\", \"refinance\", \"refinance\", \"purchase\", \"purchase\", \"purchase\", \"purchase\", \"purchase\", \"purchase\", \"purchase\", \"purchase\", \"purchase\", \"purchase\", \"refinance\", \"refinance\", \"refinance\", \"refinance\", \"refinance\", \"refinance\", \"purchase\", \"purchase\", \"purchase\", \"purchase\", \"purchase\", \"purchase\", \"purchase\", \"purchase\", \"purchase\", \"purchase\", \"purchase\", \"purchase\", \"purchase\", \"purchase\", \"purchase\", \"purchase\", \"purchase\", \"purchase\", \"purchase\", \"purchase\", \"purchase\", \"purchase\", \"purchase\", \"refinance\", \"refinance\", \"refinance\", \"refinance\", \"refinance\", \"refinance\", \"refinance\", \"refinance\", \"refinance\", \"refinance\", \"refinance\", \"refinance\", \"refinance\", \"refinance\", \"purchase\", \"purchase\", \"purchase\", \"purchase\", \"refinance\", \"purchase\", \"refinance\", \"purchase\", \"refinance\", \"refinance\", \"purchase\", \"purchase\", \"purchase\", \"purchase\", \"purchase\", \"purchase\", \"purchase\", \"purchase\", \"purchase\", \"purchase\", \"purchase\", \"purchase\", \"purchase\", \"purchase\", \"purchase\", \"purchase\", \"purchase\", \"purchase\", \"refinance\", \"purchase\", \"refinance\", \"refinance\", \"refinance\", \"purchase\", \"purchase\", \"refinance\", \"refinance\", \"refinance\", \"refinance\", \"purchase\", \"refinance\", \"purchase\", \"refinance\", \"refinance\", \"refinance\", \"purchase\", \"refinance\", \"refinance\", \"refinance\", \"purchase\", \"refinance\", \"purchase\", \"purchase\", \"refinance\", \"purchase\", \"refinance\", \"refinance\", \"refinance\", \"purchase\", \"purchase\", \"purchase\", \"purchase\", \"purchase\", \"purchase\", \"purchase\", \"purchase\", \"refinance\", \"purchase\", \"purchase\", \"purchase\", \"purchase\", \"refinance\", \"purchase\", \"refinance\", \"purchase\", \"refinance\", \"refinance\", \"refinance\", \"refinance\", \"refinance\", \"refinance\", \"refinance\", \"refinance\", \"purchase\", \"refinance\", \"refinance\", \"refinance\", \"refinance\", \"refinance\", \"refinance\", \"refinance\", \"refinance\", \"refinance\", \"refinance\", \"purchase\", \"refinance\", \"refinance\", \"purchase\", \"purchase\", \"refinance\", \"refinance\", \"refinance\", \"purchase\", \"refinance\", \"purchase\", \"purchase\", \"refinance\", \"refinance\", \"refinance\", \"refinance\", \"refinance\", \"purchase\", \"purchase\", \"purchase\", \"purchase\", \"purchase\", \"purchase\", \"purchase\", \"refinance\", \"refinance\", \"purchase\", \"purchase\", \"refinance\", \"purchase\", \"purchase\", \"purchase\", \"purchase\", \"purchase\", \"purchase\", \"refinance\", \"refinance\", \"refinance\", \"refinance\", \"refinance\", \"refinance\", \"refinance\", \"refinance\", \"purchase\", \"purchase\", \"purchase\", \"purchase\", \"refinance\", \"refinance\", \"refinance\", \"refinance\", \"purchase\", \"purchase\", \"purchase\", \"purchase\", \"refinance\", \"purchase\", \"purchase\", \"purchase\", \"purchase\", \"refinance\", \"refinance\", \"refinance\", \"refinance\", \"refinance\", \"refinance\", \"refinance\", \"purchase\", \"refinance\", \"purchase\", \"purchase\", \"refinance\", \"refinance\", \"refinance\", \"refinance\", \"refinance\", \"refinance\", \"refinance\", \"refinance\", \"refinance\", \"refinance\", \"refinance\", \"refinance\", \"refinance\", \"refinance\", \"refinance\", \"refinance\", \"refinance\", \"refinance\", \"refinance\", \"refinance\", \"refinance\", \"refinance\", \"refinance\", \"refinance\", \"refinance\", \"refinance\", \"refinance\", \"refinance\", \"refinance\", \"refinance\", \"refinance\", \"refinance\", \"refinance\", \"refinance\", \"refinance\", \"refinance\", \"refinance\", \"refinance\", \"refinance\", \"refinance\", \"refinance\", \"refinance\", \"refinance\", \"refinance\", \"refinance\", \"purchase\", \"refinance\", \"refinance\", \"refinance\", \"refinance\", \"refinance\", \"refinance\", \"refinance\", \"refinance\", \"refinance\", \"refinance\", \"refinance\", \"refinance\", \"refinance\", \"refinance\", \"refinance\", \"refinance\", \"refinance\", \"refinance\", \"refinance\", \"refinance\", \"refinance\", \"refinance\", \"refinance\", \"refinance\", \"refinance\", \"refinance\", \"refinance\", \"refinance\", \"refinance\", \"refinance\", \"refinance\", \"refinance\", \"refinance\", \"refinance\", \"refinance\", \"refinance\", \"refinance\", \"refinance\", \"refinance\", \"refinance\", \"refinance\", \"refinance\", \"refinance\", \"refinance\", \"refinance\", \"refinance\", \"refinance\", \"refinance\", \"refinance\", \"refinance\", \"refinance\", \"purchase\", \"refinance\", \"refinance\", \"refinance\", \"refinance\", \"refinance\", \"refinance\", \"refinance\", \"refinance\", \"refinance\", \"refinance\", \"refinance\", \"refinance\", \"refinance\", \"refinance\", \"refinance\", \"refinance\", \"refinance\", \"refinance\", \"refinance\", \"refinance\", \"refinance\", \"refinance\", \"refinance\", \"refinance\", \"refinance\", \"refinance\", \"refinance\", \"refinance\", \"refinance\", \"refinance\", \"refinance\", \"refinance\", \"refinance\", \"refinance\", \"refinance\", \"refinance\", \"refinance\", \"refinance\", \"refinance\", \"refinance\", \"refinance\", \"refinance\", \"refinance\", \"refinance\", \"refinance\", \"refinance\", \"refinance\", \"refinance\", \"refinance\", \"refinance\", \"refinance\", \"refinance\", \"refinance\", \"refinance\", \"refinance\", \"refinance\", \"refinance\", \"refinance\", \"refinance\", \"refinance\", \"refinance\", \"refinance\", \"refinance\", \"refinance\", \"refinance\", \"refinance\", \"refinance\", \"refinance\", \"refinance\", \"refinance\", \"refinance\", \"refinance\", \"refinance\", \"refinance\", \"refinance\", \"refinance\", \"refinance\", \"refinance\", \"refinance\", \"refinance\", \"refinance\", \"refinance\", \"refinance\", \"refinance\", \"refinance\", \"refinance\", \"refinance\", \"refinance\", \"refinance\", \"refinance\", \"refinance\", \"refinance\", \"refinance\", \"refinance\", \"refinance\", \"refinance\", \"refinance\", \"refinance\", \"refinance\", \"refinance\", \"refinance\", \"refinance\", \"refinance\", \"refinance\", \"refinance\", \"refinance\", \"refinance\", \"refinance\", \"refinance\", \"refinance\", \"refinance\", \"refinance\", \"refinance\", \"refinance\", \"refinance\", \"refinance\", \"refinance\", \"refinance\", \"refinance\", \"refinance\", \"refinance\", \"refinance\", \"refinance\", \"refinance\", \"refinance\", \"refinance\", \"refinance\", \"refinance\", \"refinance\", \"refinance\", \"refinance\", \"refinance\", \"refinance\", \"refinance\", \"refinance\", \"refinance\", \"refinance\", \"refinance\", \"refinance\", \"refinance\", \"refinance\", \"refinance\", \"refinance\", \"refinance\", \"refinance\", \"refinance\", \"refinance\", \"refinance\", \"refinance\", \"refinance\", \"refinance\", \"refinance\", \"refinance\", \"refinance\", \"refinance\", \"refinance\", \"refinance\", \"refinance\", \"purchase\", \"refinance\", \"refinance\", \"refinance\", \"refinance\", \"refinance\", \"refinance\", \"refinance\", \"refinance\", \"refinance\", \"refinance\", \"refinance\", \"refinance\", \"refinance\", \"refinance\", \"refinance\", \"refinance\", \"refinance\", \"refinance\", \"refinance\", \"refinance\", \"refinance\", \"refinance\", \"refinance\", \"refinance\", \"refinance\", \"refinance\", \"purchase\", \"refinance\", \"refinance\", \"refinance\", \"refinance\", \"refinance\", \"refinance\", \"refinance\", \"refinance\", \"refinance\", \"purchase\", \"refinance\", \"refinance\", \"refinance\", \"refinance\", \"refinance\", \"refinance\", \"refinance\", \"refinance\", \"refinance\", \"refinance\", \"refinance\", \"refinance\", \"refinance\", \"refinance\", \"refinance\", \"refinance\", \"refinance\", \"refinance\", \"refinance\", \"refinance\", \"refinance\", \"refinance\", \"refinance\", \"refinance\", \"refinance\", \"refinance\", \"refinance\", \"refinance\", \"refinance\", \"refinance\", \"refinance\", \"refinance\", \"refinance\", \"purchase\", \"purchase\", \"purchase\", \"refinance\", \"refinance\", \"refinance\", \"refinance\", \"refinance\", \"refinance\", \"purchase\", \"refinance\", \"refinance\", \"refinance\", \"refinance\", \"refinance\", \"refinance\", \"refinance\", \"refinance\", \"refinance\", \"purchase\", \"refinance\", \"refinance\", \"refinance\", \"refinance\", \"refinance\", \"refinance\", \"refinance\", \"refinance\", \"refinance\", \"refinance\", \"refinance\", \"refinance\", \"refinance\", \"refinance\", \"refinance\", \"refinance\", \"refinance\", \"refinance\", \"refinance\", \"refinance\", \"refinance\", \"purchase\", \"refinance\", \"refinance\", \"refinance\", \"refinance\", \"refinance\", \"purchase\", \"refinance\", \"refinance\", \"refinance\", \"refinance\", \"refinance\", \"refinance\", \"refinance\", \"refinance\", \"refinance\", \"refinance\", \"refinance\", \"purchase\", \"refinance\", \"refinance\", \"refinance\", \"refinance\", \"refinance\", \"refinance\", \"refinance\", \"refinance\", \"refinance\", \"refinance\", \"refinance\", \"refinance\", \"refinance\", \"refinance\", \"reverse mortgage\", \"reverse mortgage\", \"refinance\", \"reverse mortgage\", \"reverse mortgage\", \"reverse mortgage\", \"reverse mortgage\", \"refinance\", \"refinance\", \"refinance\", \"refinance\", \"reverse mortgage\", \"refinance\", \"refinance\", \"reverse mortgage\", \"purchase\", \"refinance\", \"refinance\", \"refinance\", \"refinance\", \"refinance\", \"refinance\", \"purchase\", \"purchase\", \"refinance\", \"reverse mortgage\", \"refinance\", \"reverse mortgage\", \"purchase\", \"purchase\", \"reverse mortgage\", \"purchase\", \"refinance\", \"refinance\", \"refinance\", \"reverse mortgage\", \"reverse mortgage\", \"reverse mortgage\", \"reverse mortgage\", \"reverse mortgage\", \"reverse mortgage\", \"purchase\", \"reverse mortgage\", \"reverse mortgage\", \"purchase\", \"purchase\", \"purchase\", \"purchase\", \"purchase\", \"purchase\", \"purchase\", \"refinance\", \"refinance\", \"refinance\", \"purchase\", \"purchase\", \"refinance\", \"refinance\", \"refinance\", \"reverse mortgage\", \"refinance\", \"reverse mortgage\", \"reverse mortgage\", \"purchase\", \"purchase\", \"purchase\", \"refinance\", \"reverse mortgage\", \"reverse mortgage\", \"purchase\", \"refinance\", \"refinance\", \"purchase\", \"reverse mortgage\", \"reverse mortgage\", \"reverse mortgage\", \"purchase\", \"reverse mortgage\", \"reverse mortgage\", \"refinance\", \"purchase\", \"reverse mortgage\", \"refinance\", \"reverse mortgage\", \"purchase\", \"reverse mortgage\", \"reverse mortgage\", \"purchase\", \"reverse mortgage\", \"reverse mortgage\", \"purchase\", \"refinance\", \"purchase\", \"reverse mortgage\", \"refinance\", \"reverse mortgage\", \"reverse mortgage\", \"purchase\", \"purchase\", \"purchase\", \"purchase\", \"purchase\", \"purchase\", \"purchase\", \"purchase\", \"reverse mortgage\", \"reverse mortgage\", \"reverse mortgage\", \"refinance\", \"purchase\", \"reverse mortgage\", \"purchase\", \"purchase\", \"purchase\", \"reverse mortgage\", \"purchase\", \"reverse mortgage\", \"purchase\", \"reverse mortgage\", \"reverse mortgage\", \"reverse mortgage\", \"reverse mortgage\", \"refinance\", \"reverse mortgage\", \"reverse mortgage\", \"reverse mortgage\", \"reverse mortgage\", \"reverse mortgage\", \"reverse mortgage\", \"reverse mortgage\", \"reverse mortgage\", \"reverse mortgage\", \"reverse mortgage\", \"reverse mortgage\", \"reverse mortgage\", \"refinance\", \"refinance\", \"refinance\", \"reverse mortgage\", \"refinance\", \"reverse mortgage\", \"refinance\", \"refinance\", \"refinance\", \"refinance\", \"refinance\", \"refinance\", \"refinance\"], \"type\": \"scatter\", \"name\": \"fees\", \"mode\": \"markers\"}], {\"title\": \"product_name vs fees for notaries\", \"xaxis\": {\"title\": \"product_name\"}, \"yaxis\": {\"title\": \"notary fees\"}}, {\"linkText\": \"Export to plot.ly\", \"showLink\": true})});</script>"
      ],
      "text/plain": [
       "<IPython.core.display.HTML object>"
      ]
     },
     "metadata": {},
     "output_type": "display_data"
    }
   ],
   "source": [
    "plot_scatter(orders_completed_all['product_name'], orders_completed_all['total_notary_fee'], 'product_name', 'notary fees', 'product_name vs fees for notaries')\n"
   ]
  },
  {
   "cell_type": "code",
   "execution_count": 42,
   "metadata": {
    "collapsed": false
   },
   "outputs": [
    {
     "data": {
      "text/html": [
       "<div id=\"f6d0b7f3-6330-4414-a97f-bcb7bdbdc927\" style=\"height: 525px; width: 100%;\" class=\"plotly-graph-div\"></div><script type=\"text/javascript\">require([\"plotly\"], function(Plotly) { window.PLOTLYENV=window.PLOTLYENV || {};window.PLOTLYENV.BASE_URL=\"https://plot.ly\";Plotly.newPlot(\"f6d0b7f3-6330-4414-a97f-bcb7bdbdc927\", [{\"y\": [100.0, 75.0, 100.0, 105.0, 110.0, 0.0, 110.0, 170.0, 70.0, 70.0, 75.0, 0.0, 20.0, 75.0, 30.0, 30.0, 30.0, 35.0, 35.0, 40.0, 45.0, 45.0, 50.0, 60.0, 60.0, 55.0, 55.0, 60.0, 60.0, 55.0, 75.0, 115.0, 75.0, 75.0, 75.0, 75.0, 75.0, 65.0, 65.0, 70.0, 70.0, 70.0, 55.0, 75.0, 65.0, 40.0, 65.0, 70.0, 70.0, 70.0, 75.0, 75.0, 75.0, 65.0, 65.0, 70.0, 70.0, 70.0, 65.0, 65.0, 70.0, 80.0, 70.0, 65.0, 65.0, 70.0, 65.0, 85.0, 85.0, 85.0, 85.0, 85.0, 85.0, 85.0, 115.0, 85.0, 85.0, 85.0, 85.0, 85.0, 85.0, 85.0, 85.0, 85.0, 85.0, 40.0, 85.0, 85.0, 85.0, 85.0, 85.0, 85.0, 85.0, 85.0, 85.0, 85.0, 85.0, 70.0, 70.0, 75.0, 65.0, 75.0, 70.0, 65.0, 70.0, 70.0, 70.0, 85.0, 85.0, 85.0, 85.0, 85.0, 85.0, 70.0, 65.0, 70.0, 65.0, 70.0, 65.0, 70.0, 70.0, 70.0, 70.0, 65.0, 65.0, 70.0, 70.0, 70.0, 70.0, 70.0, 75.0, 75.0, 75.0, 70.0, 70.0, 75.0, 75.0, 90.0, 90.0, 90.0, 90.0, 90.0, 90.0, 90.0, 75.0, 75.0, 70.0, 70.0, 75.0, 75.0, 80.0, 75.0, 75.0, 80.0, 300.0, 80.0, 90.0, 80.0, 175.0, 175.0, 80.0, 80.0, 80.0, 80.0, 80.0, 75.0, 75.0, 80.0, 80.0, 80.0, 80.0, 80.0, 75.0, 85.0, 80.0, 80.0, 80.0, 75.0, 90.0, 75.0, 90.0, 80.0, 90.0, 80.0, 80.0, 90.0, 90.0, 90.0, 90.0, 75.0, 75.0, 80.0, 90.0, 90.0, 90.0, 80.0, 90.0, 90.0, 90.0, 80.0, 90.0, 85.0, 85.0, 90.0, 85.0, 90.0, 90.0, 225.0, 80.0, 85.0, 85.0, 85.0, 80.0, 85.0, 85.0, 85.0, 90.0, 85.0, 85.0, 85.0, 80.0, 90.0, 80.0, 85.0, 85.0, 85.0, 95.0, 95.0, 85.0, 95.0, 95.0, 85.0, 80.0, 85.0, 95.0, 95.0, 95.0, 95.0, 95.0, 95.0, 80.0, 95.0, 95.0, 80.0, 85.0, 85.0, 80.0, 80.0, 85.0, 85.0, 85.0, 80.0, 80.0, 85.0, 85.0, 85.0, 80.0, 80.0, 85.0, 85.0, 85.0, 80.0, 85.0, 90.0, 90.0, 85.0, 85.0, 90.0, 95.0, 95.0, 90.0, 85.0, 95.0, 85.0, 90.0, 90.0, 90.0, 85.0, 85.0, 90.0, 90.0, 85.0, 90.0, 90.0, 85.0, 90.0, 90.0, 85.0, 90.0, 90.0, 90.0, 85.0, 85.0, 90.0, 90.0, 90.0, 85.0, 85.0, 90.0, 95.0, 90.0, 90.0, 85.0, 85.0, 90.0, 90.0, 90.0, 85.0, 85.0, 90.0, 90.0, 90.0, 95.0, 85.0, 90.0, 95.0, 95.0, 95.0, 95.0, 95.0, 95.0, 95.0, 90.0, 90.0, 95.0, 95.0, 95.0, 95.0, 95.0, 95.0, 95.0, 95.0, 95.0, 95.0, 95.0, 95.0, 95.0, 95.0, 95.0, 95.0, 95.0, 95.0, 95.0, 95.0, 95.0, 95.0, 95.0, 95.0, 95.0, 95.0, 95.0, 95.0, 95.0, 95.0, 95.0, 95.0, 95.0, 95.0, 95.0, 95.0, 90.0, 95.0, 95.0, 95.0, 95.0, 95.0, 95.0, 95.0, 95.0, 95.0, 95.0, 95.0, 95.0, 95.0, 95.0, 95.0, 95.0, 95.0, 95.0, 95.0, 95.0, 95.0, 95.0, 95.0, 95.0, 95.0, 95.0, 95.0, 95.0, 90.0, 95.0, 95.0, 95.0, 95.0, 95.0, 95.0, 95.0, 95.0, 95.0, 115.0, 95.0, 95.0, 90.0, 95.0, 95.0, 95.0, 95.0, 90.0, 95.0, 95.0, 95.0, 95.0, 95.0, 95.0, 95.0, 95.0, 95.0, 95.0, 90.0, 95.0, 95.0, 95.0, 95.0, 95.0, 95.0, 95.0, 95.0, 90.0, 95.0, 95.0, 95.0, 95.0, 90.0, 90.0, 95.0, 95.0, 95.0, 95.0, 90.0, 90.0, 95.0, 95.0, 95.0, 95.0, 95.0, 90.0, 95.0, 38.29, 95.0, 95.0, 95.0, 95.0, 95.0, 95.0, 95.0, 95.0, 95.0, 95.0, 90.0, 95.0, 95.0, 95.0, 95.0, 95.0, 95.0, 95.0, 95.0, 95.0, 95.0, 95.0, 95.0, 95.0, 95.0, 95.0, 95.0, 95.0, 95.0, 95.0, 95.0, 95.0, 95.0, 95.0, 95.0, 95.0, 95.0, 95.0, 90.0, 90.0, 95.0, 95.0, 95.0, 90.0, 90.0, 95.0, 95.0, 95.0, 90.0, 90.0, 95.0, 95.0, 95.0, 95.0, 95.0, 90.0, 90.0, 95.0, 95.0, 95.0, 95.0, 95.0, 95.0, 95.0, 95.0, 95.0, 105.0, 95.0, 90.0, 95.0, 90.0, 95.0, 95.0, 90.0, 95.0, 95.0, 95.0, 95.0, 95.0, 95.0, 95.0, 95.0, 95.0, 95.0, 95.0, 95.0, 95.0, 95.0, 95.0, 105.0, 90.0, 95.0, 95.0, 90.0, 95.0, 90.0, 95.0, 95.0, 90.0, 90.0, 95.0, 95.0, 95.0, 105.0, 95.0, 95.0, 95.0, 95.0, 95.0, 90.0, 95.0, 95.0, 95.0, 95.0, 95.0, 95.0, 90.0, 90.0, 95.0, 95.0, 95.0, 90.0, 90.0, 95.0, 95.0, 95.0, 95.0, 90.0, 90.0, 95.0, 95.0, 95.0, 90.0, 95.0, 90.0, 100.0, 105.0, 95.0, 100.0, 95.0, 95.0, 90.0, 90.0, 95.0, 95.0, 100.0, 100.0, 100.0, 95.0, 100.0, 90.0, 100.0, 100.0, 100.0, 100.0, 100.0, 100.0, 100.0, 100.0, 100.0, 90.0, 100.0, 100.0, 100.0, 100.0, 100.0, 100.0, 100.0, 100.0, 100.0, 100.0, 100.0, 100.0, 95.0, 100.0, 95.0, 100.0, 100.0, 95.0, 100.0, 90.0, 90.0, 95.0, 100.0, 100.0, 95.0, 90.0, 90.0, 100.0, 100.0, 100.0, 100.0, 100.0, 100.0, 95.0, 95.0, 95.0, 90.0, 90.0, 95.0, 95.0, 95.0, 100.0, 90.0, 90.0, 95.0, 100.0, 95.0, 115.0, 95.0, 90.0, 90.0, 95.0, 95.0, 115.0, 95.0, 90.0, 90.0, 100.0, 95.0, 95.0, 100.0, 100.0, 100.0, 100.0, 100.0, 95.0, 100.0, 100.0, 100.0, 100.0, 100.0, 100.0, 100.0, 100.0, 95.0, 100.0, 100.0, 95.0, 95.0, 100.0, 100.0, 100.0, 105.0, 105.0, 105.0, 105.0, 95.0, 100.0, 105.0, 105.0, 105.0, 105.0, 100.0, 100.0, 95.0, 105.0, 100.0, 110.0, 100.0, 95.0, 95.0, 100.0, 100.0, 95.0, 100.0, 100.0, 100.0, 115.0, 115.0, 95.0, 115.0, 115.0, 115.0, 115.0, 95.0, 100.0, 100.0, 100.0, 115.0, 95.0, 95.0, 205.0, 100.0, 100.0, 100.0, 95.0, 95.0, 100.0, 100.0, 100.0, 95.0, 95.0, 115.0, 100.0, 115.0, 105.0, 100.0, 115.0, 100.0, 105.0, 105.0, 100.0, 115.0, 125.0, 125.0, 125.0, 125.0, 125.0, 105.0, 125.0, 125.0, 105.0, 105.0, 105.0, 105.0, 110.0, 110.0, 105.0, 110.0, 115.0, 115.0, 110.0, 85.0, 115.0, 110.0, 110.0, 115.0, 115.0, 115.0, 110.0, 85.0, 110.0, 85.0, 115.0, 115.0, 115.0, 110.0, 115.0, 115.0, 90.0, 115.0, 110.0, 115.0, 90.0, 115.0, 110.0, 115.0, 90.0, 110.0, 115.0, 115.0, 110.0, 115.0, 115.0, 115.0, 110.0, 110.0, 90.0, 115.0, 90.0, 115.0, 110.0, 110.0, 115.0, 115.0, 120.0, 115.0, 115.0, 120.0, 115.0, 115.0, 120.0, 115.0, 125.0, 125.0, 115.0, 120.0, 125.0, 115.0, 120.0, 120.0, 120.0, 120.0, 115.0, 120.0, 125.0, 125.0, 125.0, 125.0, 120.0, 120.0, 125.0, 127.5, 130.0, 135.0, 140.0, 135.0, 140.0, 140.0, 135.0, 135.0, 145.0, 115.0, 115.0, 115.0, 25.0, 175.0, 175.0, 175.0, 115.0, 115.0, 175.0, 120.0, 125.0, 130.0], \"x\": [\"AL\", \"AL\", \"AL\", \"AL\", \"AL\", \"AL\", \"AL\", \"AL\", \"AL\", \"AL\", \"AL\", \"TN\", \"TN\", \"AL\", \"TN\", \"TN\", \"TN\", \"TN\", \"TN\", \"TN\", \"TN\", \"TN\", \"TN\", \"TN\", \"TN\", \"TN\", \"TN\", \"TN\", \"TN\", \"TN\", \"AL\", \"AL\", \"AL\", \"AL\", \"AL\", \"AL\", \"AL\", \"TN\", \"TN\", \"TN\", \"TN\", \"TN\", \"AL\", \"AL\", \"TN\", \"AL\", \"TN\", \"TN\", \"TN\", \"TN\", \"AL\", \"AL\", \"AL\", \"TN\", \"TN\", \"TN\", \"TN\", \"TN\", \"TN\", \"TN\", \"TN\", \"AL\", \"TN\", \"TN\", \"TN\", \"TN\", \"TN\", \"AL\", \"AL\", \"AL\", \"AL\", \"AL\", \"AL\", \"AL\", \"AL\", \"AL\", \"AL\", \"AL\", \"AL\", \"AL\", \"AL\", \"AL\", \"AL\", \"AL\", \"AL\", \"AL\", \"AL\", \"AL\", \"AL\", \"AL\", \"AL\", \"AL\", \"AL\", \"AL\", \"AL\", \"AL\", \"AL\", \"TN\", \"TN\", \"AL\", \"TN\", \"AL\", \"TN\", \"TN\", \"TN\", \"TN\", \"TN\", \"AL\", \"AL\", \"AL\", \"AL\", \"AL\", \"AL\", \"TN\", \"TN\", \"TN\", \"TN\", \"TN\", \"TN\", \"TN\", \"TN\", \"TN\", \"TN\", \"TN\", \"TN\", \"TN\", \"TN\", \"TN\", \"TN\", \"TN\", \"TN\", \"TN\", \"TN\", \"TN\", \"TN\", \"TN\", \"TN\", \"AL\", \"AL\", \"AL\", \"AL\", \"AL\", \"AL\", \"AL\", \"TN\", \"TN\", \"TN\", \"TN\", \"TN\", \"TN\", \"TN\", \"TN\", \"TN\", \"TN\", \"AL\", \"TN\", \"AL\", \"TN\", \"AL\", \"AL\", \"TN\", \"TN\", \"AL\", \"AL\", \"TN\", \"TN\", \"TN\", \"TN\", \"AL\", \"TN\", \"AL\", \"AL\", \"TN\", \"AL\", \"TN\", \"TN\", \"TN\", \"TN\", \"AL\", \"TN\", \"AL\", \"TN\", \"AL\", \"TN\", \"TN\", \"AL\", \"AL\", \"AL\", \"AL\", \"TN\", \"TN\", \"TN\", \"AL\", \"AL\", \"AL\", \"TN\", \"AL\", \"AL\", \"AL\", \"TN\", \"AL\", \"TN\", \"TN\", \"AL\", \"TN\", \"AL\", \"AL\", \"AL\", \"TN\", \"TN\", \"TN\", \"TN\", \"TN\", \"TN\", \"TN\", \"TN\", \"AL\", \"TN\", \"TN\", \"TN\", \"TN\", \"AL\", \"TN\", \"TN\", \"TN\", \"TN\", \"AL\", \"AL\", \"TN\", \"AL\", \"AL\", \"TN\", \"TN\", \"TN\", \"AL\", \"AL\", \"AL\", \"AL\", \"AL\", \"AL\", \"TN\", \"AL\", \"AL\", \"TN\", \"TN\", \"TN\", \"TN\", \"TN\", \"TN\", \"TN\", \"TN\", \"TN\", \"TN\", \"TN\", \"TN\", \"TN\", \"TN\", \"TN\", \"TN\", \"TN\", \"TN\", \"TN\", \"TN\", \"TN\", \"TN\", \"TN\", \"TN\", \"TN\", \"AL\", \"AL\", \"TN\", \"TN\", \"AL\", \"TN\", \"TN\", \"TN\", \"TN\", \"TN\", \"TN\", \"TN\", \"TN\", \"TN\", \"TN\", \"TN\", \"TN\", \"TN\", \"TN\", \"TN\", \"TN\", \"TN\", \"TN\", \"TN\", \"TN\", \"TN\", \"TN\", \"TN\", \"TN\", \"TN\", \"TN\", \"AL\", \"TN\", \"TN\", \"TN\", \"TN\", \"TN\", \"TN\", \"TN\", \"TN\", \"TN\", \"TN\", \"TN\", \"TN\", \"AL\", \"TN\", \"TN\", \"TN\", \"AL\", \"TN\", \"AL\", \"AL\", \"AL\", \"TN\", \"TN\", \"TN\", \"AL\", \"AL\", \"AL\", \"AL\", \"AL\", \"AL\", \"AL\", \"AL\", \"AL\", \"AL\", \"AL\", \"AL\", \"AL\", \"AL\", \"AL\", \"AL\", \"AL\", \"AL\", \"AL\", \"AL\", \"AL\", \"AL\", \"AL\", \"TN\", \"AL\", \"AL\", \"AL\", \"TN\", \"AL\", \"AL\", \"AL\", \"AL\", \"AL\", \"AL\", \"AL\", \"TN\", \"TN\", \"AL\", \"AL\", \"AL\", \"AL\", \"AL\", \"AL\", \"AL\", \"AL\", \"AL\", \"AL\", \"AL\", \"AL\", \"AL\", \"AL\", \"AL\", \"AL\", \"AL\", \"AL\", \"AL\", \"AL\", \"AL\", \"AL\", \"AL\", \"AL\", \"AL\", \"AL\", \"AL\", \"AL\", \"TN\", \"AL\", \"TN\", \"AL\", \"AL\", \"AL\", \"AL\", \"AL\", \"AL\", \"AL\", \"AL\", \"AL\", \"TN\", \"TN\", \"AL\", \"AL\", \"AL\", \"AL\", \"TN\", \"AL\", \"AL\", \"AL\", \"AL\", \"TN\", \"TN\", \"AL\", \"AL\", \"TN\", \"AL\", \"TN\", \"AL\", \"AL\", \"AL\", \"AL\", \"AL\", \"AL\", \"AL\", \"AL\", \"TN\", \"TN\", \"TN\", \"TN\", \"AL\", \"TN\", \"TN\", \"TN\", \"TN\", \"TN\", \"TN\", \"TN\", \"TN\", \"TN\", \"TN\", \"TN\", \"AL\", \"AL\", \"TN\", \"AL\", \"AL\", \"AL\", \"AL\", \"AL\", \"AL\", \"AL\", \"AL\", \"AL\", \"AL\", \"AL\", \"AL\", \"TN\", \"AL\", \"AL\", \"AL\", \"AL\", \"AL\", \"AL\", \"AL\", \"AL\", \"AL\", \"AL\", \"AL\", \"AL\", \"AL\", \"AL\", \"TN\", \"AL\", \"AL\", \"AL\", \"AL\", \"TN\", \"AL\", \"AL\", \"AL\", \"AL\", \"AL\", \"AL\", \"AL\", \"TN\", \"TN\", \"TN\", \"TN\", \"TN\", \"TN\", \"TN\", \"TN\", \"TN\", \"AL\", \"TN\", \"TN\", \"TN\", \"TN\", \"TN\", \"AL\", \"AL\", \"TN\", \"TN\", \"AL\", \"AL\", \"AL\", \"AL\", \"TN\", \"AL\", \"AL\", \"AL\", \"AL\", \"AL\", \"TN\", \"TN\", \"TN\", \"TN\", \"TN\", \"TN\", \"TN\", \"AL\", \"AL\", \"AL\", \"AL\", \"AL\", \"AL\", \"AL\", \"AL\", \"AL\", \"AL\", \"AL\", \"AL\", \"AL\", \"TN\", \"TN\", \"AL\", \"TN\", \"TN\", \"TN\", \"TN\", \"AL\", \"TN\", \"TN\", \"TN\", \"TN\", \"TN\", \"TN\", \"TN\", \"TN\", \"AL\", \"AL\", \"AL\", \"AL\", \"AL\", \"AL\", \"TN\", \"TN\", \"AL\", \"AL\", \"AL\", \"AL\", \"TN\", \"TN\", \"TN\", \"TN\", \"TN\", \"TN\", \"TN\", \"TN\", \"TN\", \"TN\", \"TN\", \"AL\", \"TN\", \"TN\", \"TN\", \"TN\", \"TN\", \"TN\", \"AL\", \"TN\", \"AL\", \"AL\", \"TN\", \"AL\", \"TN\", \"TN\", \"TN\", \"TN\", \"TN\", \"TN\", \"AL\", \"AL\", \"AL\", \"TN\", \"AL\", \"TN\", \"AL\", \"AL\", \"AL\", \"AL\", \"AL\", \"AL\", \"AL\", \"AL\", \"AL\", \"TN\", \"AL\", \"AL\", \"AL\", \"AL\", \"AL\", \"AL\", \"AL\", \"AL\", \"AL\", \"AL\", \"AL\", \"AL\", \"TN\", \"AL\", \"TN\", \"AL\", \"AL\", \"TN\", \"AL\", \"TN\", \"TN\", \"TN\", \"AL\", \"AL\", \"TN\", \"TN\", \"TN\", \"AL\", \"AL\", \"AL\", \"AL\", \"AL\", \"AL\", \"TN\", \"TN\", \"TN\", \"TN\", \"TN\", \"TN\", \"TN\", \"TN\", \"AL\", \"TN\", \"TN\", \"TN\", \"AL\", \"TN\", \"AL\", \"TN\", \"TN\", \"TN\", \"TN\", \"TN\", \"AL\", \"TN\", \"TN\", \"TN\", \"TN\", \"TN\", \"TN\", \"TN\", \"TN\", \"AL\", \"AL\", \"TN\", \"TN\", \"TN\", \"AL\", \"AL\", \"AL\", \"AL\", \"TN\", \"AL\", \"AL\", \"TN\", \"TN\", \"TN\", \"TN\", \"TN\", \"TN\", \"TN\", \"AL\", \"AL\", \"AL\", \"AL\", \"AL\", \"TN\", \"TN\", \"AL\", \"AL\", \"AL\", \"AL\", \"TN\", \"TN\", \"TN\", \"AL\", \"TN\", \"AL\", \"TN\", \"TN\", \"TN\", \"TN\", \"TN\", \"TN\", \"TN\", \"TN\", \"TN\", \"AL\", \"AL\", \"TN\", \"AL\", \"AL\", \"AL\", \"AL\", \"TN\", \"TN\", \"TN\", \"TN\", \"AL\", \"TN\", \"TN\", \"AL\", \"TN\", \"TN\", \"TN\", \"TN\", \"TN\", \"TN\", \"TN\", \"TN\", \"TN\", \"TN\", \"AL\", \"TN\", \"AL\", \"TN\", \"TN\", \"AL\", \"TN\", \"TN\", \"TN\", \"TN\", \"AL\", \"AL\", \"AL\", \"AL\", \"AL\", \"AL\", \"TN\", \"AL\", \"AL\", \"TN\", \"TN\", \"TN\", \"TN\", \"TN\", \"TN\", \"TN\", \"TN\", \"AL\", \"AL\", \"TN\", \"AL\", \"AL\", \"TN\", \"TN\", \"TN\", \"TN\", \"TN\", \"TN\", \"AL\", \"TN\", \"AL\", \"TN\", \"TN\", \"TN\", \"TN\", \"TN\", \"TN\", \"AL\", \"TN\", \"TN\", \"TN\", \"AL\", \"TN\", \"TN\", \"TN\", \"AL\", \"TN\", \"TN\", \"TN\", \"TN\", \"TN\", \"TN\", \"TN\", \"TN\", \"TN\", \"AL\", \"TN\", \"AL\", \"TN\", \"TN\", \"TN\", \"TN\", \"TN\", \"TN\", \"TN\", \"TN\", \"TN\", \"AL\", \"AL\", \"TN\", \"TN\", \"AL\", \"AL\", \"TN\", \"TN\", \"AL\", \"TN\", \"TN\", \"TN\", \"AL\", \"TN\", \"TN\", \"TN\", \"TN\", \"TN\", \"TN\", \"AL\", \"TN\", \"TN\", \"TN\", \"TN\", \"TN\", \"TN\", \"AL\", \"TN\", \"TN\", \"TN\", \"TN\", \"TN\", \"TN\", \"AL\", \"AL\", \"AL\", \"AL\", \"TN\", \"TN\", \"TN\", \"AL\", \"AL\", \"TN\", \"AL\", \"AL\", \"AL\"], \"type\": \"scatter\", \"name\": \"fees\", \"mode\": \"markers\"}], {\"title\": \"state vs fees for notaries\", \"xaxis\": {\"title\": \"state\"}, \"yaxis\": {\"title\": \"notary fees\"}}, {\"linkText\": \"Export to plot.ly\", \"showLink\": true})});</script>"
      ],
      "text/plain": [
       "<IPython.core.display.HTML object>"
      ]
     },
     "metadata": {},
     "output_type": "display_data"
    }
   ],
   "source": [
    "plot_scatter(orders_completed_all['state'], orders_completed_all['total_notary_fee'], 'state', 'notary fees', 'state vs fees for notaries')"
   ]
  },
  {
   "cell_type": "markdown",
   "metadata": {},
   "source": [
    "Recommendations: Moving forward we need to work on improving the accuacy and reliability of the model. The model is a good first pass and is around 20 (up to 40%) accurate but it needs more improvement.\n",
    "\n",
    "1) Implement regularization\n",
    "\n",
    "2) Look for better features to predict price - The correlations between the current features and the output is very low. Are there more features in the data, Can I do some feature engineering (maybe cities and median income might be worth looking at, or number of orders signed by each notary\n",
    "\n",
    "3) Improve the model -see if it underfitting, include more nonlinear or polynomial features, transform the features to make them more normal and homescedastic\n",
    "\n",
    "4) Collect more data, current set only has around 800 points after all the cleaning\n",
    "\n",
    "5) Look more closely into outlier data (some of the outliers were already removed for this analysis, but there could still be some patterns in the data we are missing\n",
    "\n",
    "6) Look out for any interacting coefficients or variables\n"
   ]
  },
  {
   "cell_type": "code",
   "execution_count": null,
   "metadata": {
    "collapsed": true
   },
   "outputs": [],
   "source": []
  }
 ],
 "metadata": {
  "anaconda-cloud": {},
  "kernelspec": {
   "display_name": "Python [conda env:my_projects_env]",
   "language": "python",
   "name": "conda-env-my_projects_env-py"
  },
  "language_info": {
   "codemirror_mode": {
    "name": "ipython",
    "version": 2
   },
   "file_extension": ".py",
   "mimetype": "text/x-python",
   "name": "python",
   "nbconvert_exporter": "python",
   "pygments_lexer": "ipython2",
   "version": "2.7.13"
  }
 },
 "nbformat": 4,
 "nbformat_minor": 1
}
